{
  "cells": [
    {
      "cell_type": "markdown",
      "id": "926a39c2",
      "metadata": {
        "id": "926a39c2"
      },
      "source": [
        "# Training Model: Cnn + wavelets transform"
      ]
    },
    {
      "cell_type": "code",
      "execution_count": 2,
      "id": "SAkblZbMZKOY",
      "metadata": {
        "colab": {
          "base_uri": "https://localhost:8080/"
        },
        "id": "SAkblZbMZKOY",
        "outputId": "2628e0f2-65af-4758-ebc9-2a2ceb66047d"
      },
      "outputs": [
        {
          "name": "stdout",
          "output_type": "stream",
          "text": [
            "Mounted at /content/gdrive\n"
          ]
        }
      ],
      "source": [
        "from google.colab import drive\n",
        "drive.mount('/content/gdrive')"
      ]
    },
    {
      "cell_type": "code",
      "execution_count": null,
      "id": "53jvg7KWrB0h",
      "metadata": {
        "id": "53jvg7KWrB0h"
      },
      "outputs": [],
      "source": [
        "!pip install obspy"
      ]
    },
    {
      "cell_type": "code",
      "execution_count": 1,
      "id": "99d53813",
      "metadata": {
        "id": "99d53813"
      },
      "outputs": [],
      "source": [
        "import os\n",
        "import numpy as np\n",
        "import pandas as pd\n",
        "import matplotlib.pyplot as plt\n",
        "import tensorflow as tf\n",
        "from obspy import read\n",
        "from tqdm import tqdm\n",
        "from sklearn.model_selection import train_test_split\n"
      ]
    },
    {
      "cell_type": "code",
      "execution_count": 5,
      "id": "4029eab8",
      "metadata": {
        "id": "4029eab8"
      },
      "outputs": [],
      "source": [
        "base_path = '/content/gdrive/MyDrive'\n",
        "\n",
        "train_augmented_data_path = f'{base_path}/Notebooks/SeismicWaves/training_augmented/augmented'\n",
        "train_data_path = f'{base_path}/Notebooks/SeismicWaves/training_augmented/train'\n",
        "val_data_path = f'{base_path}/Notebooks/SeismicWaves/training_augmented/val'\n",
        "test_data_path = f'{base_path}/Notebooks/SeismicWaves/training_augmented/testing'\n",
        "features_path = f'{base_path}/Notebooks/SeismicWaves/procesing'"
      ]
    },
    {
      "cell_type": "code",
      "execution_count": 3,
      "id": "NGSIBrN9IIW1",
      "metadata": {
        "id": "NGSIBrN9IIW1"
      },
      "outputs": [],
      "source": [
        "\n",
        "def analyze_signal_lengths(data_path):\n",
        "    \"\"\"\n",
        "    Analiza las longitudes de las señales en un directorio.\n",
        "\n",
        "    Args:\n",
        "        data_path: Ruta al directorio con archivos MSEED\n",
        "\n",
        "    Returns:\n",
        "        dict: Estadísticas de longitud de señales\n",
        "    \"\"\"\n",
        "    lengths = []\n",
        "    files_df = pd.read_csv(os.path.join(data_path, \"feature_files.csv\"))\n",
        "\n",
        "    print(f\"Analizando señales en {data_path}...\")\n",
        "    for file in tqdm(files_df[\"file\"]):\n",
        "        file_path = os.path.join(data_path, file)\n",
        "        try:\n",
        "            st = read(file_path)\n",
        "            signal_length = len(st[0].data)\n",
        "            lengths.append(signal_length)\n",
        "        except Exception as e:\n",
        "            print(f\"Error procesando {file}: {str(e)}\")\n",
        "            continue\n",
        "\n",
        "    stats = {\n",
        "        \"min_length\": min(lengths),\n",
        "        \"max_length\": max(lengths),\n",
        "        \"mean_length\": np.mean(lengths),\n",
        "        \"median_length\": np.median(lengths),\n",
        "        \"std_length\": np.std(lengths),\n",
        "        \"p95_length\": np.percentile(lengths, 95),\n",
        "        \"num_signals\": len(lengths),\n",
        "    }\n",
        "\n",
        "    return stats, lengths\n",
        "\n"
      ]
    },
    {
      "cell_type": "code",
      "execution_count": 6,
      "id": "ZE7dvMOMIPrz",
      "metadata": {
        "colab": {
          "base_uri": "https://localhost:8080/",
          "height": 1000
        },
        "id": "ZE7dvMOMIPrz",
        "outputId": "de3d1267-cae2-42f7-ab78-5f64f356a706"
      },
      "outputs": [
        {
          "name": "stdout",
          "output_type": "stream",
          "text": [
            "Analizando señales en /content/gdrive/MyDrive/Notebooks/SeismicWaves/training_augmented/train...\n"
          ]
        },
        {
          "name": "stderr",
          "output_type": "stream",
          "text": [
            "100%|██████████| 1663/1663 [10:34<00:00,  2.62it/s]\n"
          ]
        },
        {
          "name": "stdout",
          "output_type": "stream",
          "text": [
            "Analizando señales en /content/gdrive/MyDrive/Notebooks/SeismicWaves/training_augmented/val...\n"
          ]
        },
        {
          "name": "stderr",
          "output_type": "stream",
          "text": [
            "100%|██████████| 317/317 [00:05<00:00, 60.36it/s]\n"
          ]
        },
        {
          "name": "stdout",
          "output_type": "stream",
          "text": [
            "Analizando señales en /content/gdrive/MyDrive/Notebooks/SeismicWaves/training_augmented/testing...\n"
          ]
        },
        {
          "name": "stderr",
          "output_type": "stream",
          "text": [
            "100%|██████████| 496/496 [00:08<00:00, 57.02it/s]\n"
          ]
        },
        {
          "name": "stdout",
          "output_type": "stream",
          "text": [
            "\n",
            "Estadísticas de longitud de señales:\n",
            "\n",
            "Conjunto de entrenamiento:\n",
            "min_length: 2981.00\n",
            "max_length: 23701.00\n",
            "mean_length: 7272.59\n",
            "median_length: 7201.00\n",
            "std_length: 798.00\n",
            "p95_length: 8401.00\n",
            "num_signals: 1663.00\n",
            "\n",
            "Conjunto de validación:\n",
            "min_length: 3963.00\n",
            "max_length: 10001.00\n",
            "mean_length: 7334.65\n",
            "median_length: 7201.00\n",
            "std_length: 698.32\n",
            "p95_length: 8601.00\n",
            "num_signals: 317.00\n",
            "\n",
            "Conjunto de prueba:\n",
            "min_length: 3600.00\n",
            "max_length: 18201.00\n",
            "mean_length: 7288.48\n",
            "median_length: 7201.00\n",
            "std_length: 821.88\n",
            "p95_length: 8401.00\n",
            "num_signals: 496.00\n"
          ]
        },
        {
          "data": {
            "image/png": "[encoded data removed]",
            "text/plain": [
              "<Figure size 1200x400 with 3 Axes>"
            ]
          },
          "metadata": {},
          "output_type": "display_data"
        }
      ],
      "source": [
        "\n",
        "# Analizar cada conjunto de datos\n",
        "train_stats, train_lengths = analyze_signal_lengths(train_data_path)\n",
        "val_stats, val_lengths = analyze_signal_lengths(val_data_path)\n",
        "test_stats, test_lengths = analyze_signal_lengths(test_data_path)\n",
        "\n",
        "# Mostrar resultados\n",
        "print(\"\\nEstadísticas de longitud de señales:\")\n",
        "print(\"\\nConjunto de entrenamiento:\")\n",
        "for key, value in train_stats.items():\n",
        "    print(f\"{key}: {value:.2f}\")\n",
        "\n",
        "print(\"\\nConjunto de validación:\")\n",
        "for key, value in val_stats.items():\n",
        "    print(f\"{key}: {value:.2f}\")\n",
        "\n",
        "print(\"\\nConjunto de prueba:\")\n",
        "for key, value in test_stats.items():\n",
        "    print(f\"{key}: {value:.2f}\")\n",
        "\n",
        "# Visualizar distribución de longitudes\n",
        "plt.figure(figsize=(12, 4))\n",
        "\n",
        "plt.subplot(131)\n",
        "plt.hist(train_lengths, bins=50)\n",
        "plt.title(\"Longitudes - Entrenamiento\")\n",
        "plt.xlabel(\"Longitud\")\n",
        "plt.ylabel(\"Frecuencia\")\n",
        "\n",
        "plt.subplot(132)\n",
        "plt.hist(val_lengths, bins=50)\n",
        "plt.title(\"Longitudes - Validación\")\n",
        "plt.xlabel(\"Longitud\")\n",
        "\n",
        "plt.subplot(133)\n",
        "plt.hist(test_lengths, bins=50)\n",
        "plt.title(\"Longitudes - Prueba\")\n",
        "plt.xlabel(\"Longitud\")\n",
        "\n",
        "plt.tight_layout()\n",
        "plt.show()"
      ]
    },
    {
      "cell_type": "code",
      "execution_count": 21,
      "id": "7ad52981",
      "metadata": {
        "colab": {
          "base_uri": "https://localhost:8080/"
        },
        "id": "7ad52981",
        "outputId": "149bc7c9-e170-42d9-8c19-943e0ec05745"
      },
      "outputs": [
        {
          "name": "stdout",
          "output_type": "stream",
          "text": [
            "Cargando señales desde /content/gdrive/MyDrive/Notebooks/SeismicWaves/training_augmented/augmented...\n"
          ]
        },
        {
          "name": "stderr",
          "output_type": "stream",
          "text": [
            "100%|██████████| 4989/4989 [01:27<00:00, 56.96it/s]\n"
          ]
        },
        {
          "name": "stdout",
          "output_type": "stream",
          "text": [
            "Cargando señales desde /content/gdrive/MyDrive/Notebooks/SeismicWaves/training_augmented/val...\n"
          ]
        },
        {
          "name": "stderr",
          "output_type": "stream",
          "text": [
            "100%|██████████| 317/317 [00:05<00:00, 57.90it/s]\n"
          ]
        },
        {
          "name": "stdout",
          "output_type": "stream",
          "text": [
            "Cargando señales desde /content/gdrive/MyDrive/Notebooks/SeismicWaves/training_augmented/testing...\n"
          ]
        },
        {
          "name": "stderr",
          "output_type": "stream",
          "text": [
            "100%|██████████| 496/496 [00:10<00:00, 47.05it/s]\n"
          ]
        },
        {
          "name": "stdout",
          "output_type": "stream",
          "text": [
            "Formas:\n",
            "Entrenamiento señales crudas: (4989, 8000, 1)\n",
            "Validación señales crudas: (317, 8000, 1)\n",
            "Prueba señales crudas: (496, 8000, 1)\n"
          ]
        }
      ],
      "source": [
        "\n",
        "def pad_or_trim(signal, target_length=8000):\n",
        "    if len(signal) > target_length:\n",
        "        return signal[:target_length]\n",
        "    elif len(signal) < target_length:\n",
        "        pad_width = target_length - len(signal)\n",
        "        return np.pad(signal, (0, pad_width), mode='constant')\n",
        "    return signal\n",
        "\n",
        "# ------------------- Funciones de Carga -------------------\n",
        "def load_data(data_path):\n",
        "    # Cargar señales crudas\n",
        "    raw_signals = []\n",
        "    files_df = pd.read_csv(os.path.join(data_path, 'feature_files.csv'))\n",
        "    print(f'Cargando señales desde {data_path}...')\n",
        "    for file in tqdm(files_df['file']):\n",
        "        file_path = os.path.join(data_path, file)\n",
        "        st = read(file_path)\n",
        "        signal = st[0].data\n",
        "        signal = pad_or_trim(signal, target_length=8000)\n",
        "        raw_signals.append(signal)\n",
        "\n",
        "    X_raw = np.array(raw_signals)\n",
        "    X_raw = X_raw.reshape(X_raw.shape[0], -1, 1)  # Añadir dimensión para CNN\n",
        "\n",
        "    # Cargar características wavelets\n",
        "    X_wavelets = np.load(os.path.join(data_path, 'wavelet_features.npy'))\n",
        "\n",
        "    # Cargar tiempos de llegada\n",
        "    y = np.load(os.path.join(data_path, 'arrival_times.npy'))\n",
        "\n",
        "    return X_raw, X_wavelets, y, files_df\n",
        "\n",
        "# ------------------- Carga de Datos -------------------\n",
        "X_raw_train, X_wavelets_train, y_train, train_files = load_data(train_augmented_data_path)\n",
        "X_raw_val, X_wavelets_val, y_val, val_files = load_data(val_data_path)\n",
        "X_raw_test, X_wavelets_test, y_test, test_files = load_data(test_data_path)\n",
        "\n",
        "print('Formas:')\n",
        "print(f'Entrenamiento señales crudas: {X_raw_train.shape}')\n",
        "print(f'Validación señales crudas: {X_raw_val.shape}')\n",
        "print(f'Prueba señales crudas: {X_raw_test.shape}')"
      ]
    },
    {
      "cell_type": "code",
      "execution_count": 22,
      "id": "effc50e5",
      "metadata": {
        "colab": {
          "base_uri": "https://localhost:8080/",
          "height": 1000
        },
        "id": "effc50e5",
        "outputId": "e44f6356-4f7a-45f8-868c-447e14c9f466"
      },
      "outputs": [
        {
          "data": {
            "text/html": [
              "<pre style=\"white-space:pre;overflow-x:auto;line-height:normal;font-family:Menlo,'DejaVu Sans Mono',consolas,'Courier New',monospace\"><span style=\"font-weight: bold\">Model: \"functional_2\"</span>\n",
              "</pre>\n"
            ],
            "text/plain": [
              "\u001b[1mModel: \"functional_2\"\u001b[0m\n"
            ]
          },
          "metadata": {},
          "output_type": "display_data"
        },
        {
          "data": {
            "text/html": [
              "<pre style=\"white-space:pre;overflow-x:auto;line-height:normal;font-family:Menlo,'DejaVu Sans Mono',consolas,'Courier New',monospace\">┏━━━━━━━━━━━━━━━━━━━━━┳━━━━━━━━━━━━━━━━━━━┳━━━━━━━━━━━━┳━━━━━━━━━━━━━━━━━━━┓\n",
              "┃<span style=\"font-weight: bold\"> Layer (type)        </span>┃<span style=\"font-weight: bold\"> Output Shape      </span>┃<span style=\"font-weight: bold\">    Param # </span>┃<span style=\"font-weight: bold\"> Connected to      </span>┃\n",
              "┡━━━━━━━━━━━━━━━━━━━━━╇━━━━━━━━━━━━━━━━━━━╇━━━━━━━━━━━━╇━━━━━━━━━━━━━━━━━━━┩\n",
              "│ input_layer_4       │ (<span style=\"color: #00d7ff; text-decoration-color: #00d7ff\">None</span>, <span style=\"color: #00af00; text-decoration-color: #00af00\">8000</span>, <span style=\"color: #00af00; text-decoration-color: #00af00\">1</span>)   │          <span style=\"color: #00af00; text-decoration-color: #00af00\">0</span> │ -                 │\n",
              "│ (<span style=\"color: #0087ff; text-decoration-color: #0087ff\">InputLayer</span>)        │                   │            │                   │\n",
              "├─────────────────────┼───────────────────┼────────────┼───────────────────┤\n",
              "│ batch_normalizatio… │ (<span style=\"color: #00d7ff; text-decoration-color: #00d7ff\">None</span>, <span style=\"color: #00af00; text-decoration-color: #00af00\">8000</span>, <span style=\"color: #00af00; text-decoration-color: #00af00\">1</span>)   │          <span style=\"color: #00af00; text-decoration-color: #00af00\">4</span> │ input_layer_4[<span style=\"color: #00af00; text-decoration-color: #00af00\">0</span>]… │\n",
              "│ (<span style=\"color: #0087ff; text-decoration-color: #0087ff\">BatchNormalizatio…</span> │                   │            │                   │\n",
              "├─────────────────────┼───────────────────┼────────────┼───────────────────┤\n",
              "│ conv1d_6 (<span style=\"color: #0087ff; text-decoration-color: #0087ff\">Conv1D</span>)   │ (<span style=\"color: #00d7ff; text-decoration-color: #00d7ff\">None</span>, <span style=\"color: #00af00; text-decoration-color: #00af00\">8000</span>, <span style=\"color: #00af00; text-decoration-color: #00af00\">32</span>)  │        <span style=\"color: #00af00; text-decoration-color: #00af00\">192</span> │ batch_normalizat… │\n",
              "├─────────────────────┼───────────────────┼────────────┼───────────────────┤\n",
              "│ batch_normalizatio… │ (<span style=\"color: #00d7ff; text-decoration-color: #00d7ff\">None</span>, <span style=\"color: #00af00; text-decoration-color: #00af00\">8000</span>, <span style=\"color: #00af00; text-decoration-color: #00af00\">32</span>)  │        <span style=\"color: #00af00; text-decoration-color: #00af00\">128</span> │ conv1d_6[<span style=\"color: #00af00; text-decoration-color: #00af00\">0</span>][<span style=\"color: #00af00; text-decoration-color: #00af00\">0</span>]    │\n",
              "│ (<span style=\"color: #0087ff; text-decoration-color: #0087ff\">BatchNormalizatio…</span> │                   │            │                   │\n",
              "├─────────────────────┼───────────────────┼────────────┼───────────────────┤\n",
              "│ max_pooling1d_4     │ (<span style=\"color: #00d7ff; text-decoration-color: #00d7ff\">None</span>, <span style=\"color: #00af00; text-decoration-color: #00af00\">4000</span>, <span style=\"color: #00af00; text-decoration-color: #00af00\">32</span>)  │          <span style=\"color: #00af00; text-decoration-color: #00af00\">0</span> │ batch_normalizat… │\n",
              "│ (<span style=\"color: #0087ff; text-decoration-color: #0087ff\">MaxPooling1D</span>)      │                   │            │                   │\n",
              "├─────────────────────┼───────────────────┼────────────┼───────────────────┤\n",
              "│ conv1d_7 (<span style=\"color: #0087ff; text-decoration-color: #0087ff\">Conv1D</span>)   │ (<span style=\"color: #00d7ff; text-decoration-color: #00d7ff\">None</span>, <span style=\"color: #00af00; text-decoration-color: #00af00\">4000</span>, <span style=\"color: #00af00; text-decoration-color: #00af00\">64</span>)  │     <span style=\"color: #00af00; text-decoration-color: #00af00\">10,304</span> │ max_pooling1d_4[<span style=\"color: #00af00; text-decoration-color: #00af00\">…</span> │\n",
              "├─────────────────────┼───────────────────┼────────────┼───────────────────┤\n",
              "│ batch_normalizatio… │ (<span style=\"color: #00d7ff; text-decoration-color: #00d7ff\">None</span>, <span style=\"color: #00af00; text-decoration-color: #00af00\">4000</span>, <span style=\"color: #00af00; text-decoration-color: #00af00\">64</span>)  │        <span style=\"color: #00af00; text-decoration-color: #00af00\">256</span> │ conv1d_7[<span style=\"color: #00af00; text-decoration-color: #00af00\">0</span>][<span style=\"color: #00af00; text-decoration-color: #00af00\">0</span>]    │\n",
              "│ (<span style=\"color: #0087ff; text-decoration-color: #0087ff\">BatchNormalizatio…</span> │                   │            │                   │\n",
              "├─────────────────────┼───────────────────┼────────────┼───────────────────┤\n",
              "│ input_layer_5       │ (<span style=\"color: #00d7ff; text-decoration-color: #00d7ff\">None</span>, <span style=\"color: #00af00; text-decoration-color: #00af00\">60</span>)        │          <span style=\"color: #00af00; text-decoration-color: #00af00\">0</span> │ -                 │\n",
              "│ (<span style=\"color: #0087ff; text-decoration-color: #0087ff\">InputLayer</span>)        │                   │            │                   │\n",
              "├─────────────────────┼───────────────────┼────────────┼───────────────────┤\n",
              "│ max_pooling1d_5     │ (<span style=\"color: #00d7ff; text-decoration-color: #00d7ff\">None</span>, <span style=\"color: #00af00; text-decoration-color: #00af00\">2000</span>, <span style=\"color: #00af00; text-decoration-color: #00af00\">64</span>)  │          <span style=\"color: #00af00; text-decoration-color: #00af00\">0</span> │ batch_normalizat… │\n",
              "│ (<span style=\"color: #0087ff; text-decoration-color: #0087ff\">MaxPooling1D</span>)      │                   │            │                   │\n",
              "├─────────────────────┼───────────────────┼────────────┼───────────────────┤\n",
              "│ batch_normalizatio… │ (<span style=\"color: #00d7ff; text-decoration-color: #00d7ff\">None</span>, <span style=\"color: #00af00; text-decoration-color: #00af00\">60</span>)        │        <span style=\"color: #00af00; text-decoration-color: #00af00\">240</span> │ input_layer_5[<span style=\"color: #00af00; text-decoration-color: #00af00\">0</span>]… │\n",
              "│ (<span style=\"color: #0087ff; text-decoration-color: #0087ff\">BatchNormalizatio…</span> │                   │            │                   │\n",
              "├─────────────────────┼───────────────────┼────────────┼───────────────────┤\n",
              "│ conv1d_8 (<span style=\"color: #0087ff; text-decoration-color: #0087ff\">Conv1D</span>)   │ (<span style=\"color: #00d7ff; text-decoration-color: #00d7ff\">None</span>, <span style=\"color: #00af00; text-decoration-color: #00af00\">2000</span>, <span style=\"color: #00af00; text-decoration-color: #00af00\">128</span>) │     <span style=\"color: #00af00; text-decoration-color: #00af00\">41,088</span> │ max_pooling1d_5[<span style=\"color: #00af00; text-decoration-color: #00af00\">…</span> │\n",
              "├─────────────────────┼───────────────────┼────────────┼───────────────────┤\n",
              "│ dense_8 (<span style=\"color: #0087ff; text-decoration-color: #0087ff\">Dense</span>)     │ (<span style=\"color: #00d7ff; text-decoration-color: #00d7ff\">None</span>, <span style=\"color: #00af00; text-decoration-color: #00af00\">128</span>)       │      <span style=\"color: #00af00; text-decoration-color: #00af00\">7,808</span> │ batch_normalizat… │\n",
              "├─────────────────────┼───────────────────┼────────────┼───────────────────┤\n",
              "│ batch_normalizatio… │ (<span style=\"color: #00d7ff; text-decoration-color: #00d7ff\">None</span>, <span style=\"color: #00af00; text-decoration-color: #00af00\">2000</span>, <span style=\"color: #00af00; text-decoration-color: #00af00\">128</span>) │        <span style=\"color: #00af00; text-decoration-color: #00af00\">512</span> │ conv1d_8[<span style=\"color: #00af00; text-decoration-color: #00af00\">0</span>][<span style=\"color: #00af00; text-decoration-color: #00af00\">0</span>]    │\n",
              "│ (<span style=\"color: #0087ff; text-decoration-color: #0087ff\">BatchNormalizatio…</span> │                   │            │                   │\n",
              "├─────────────────────┼───────────────────┼────────────┼───────────────────┤\n",
              "│ batch_normalizatio… │ (<span style=\"color: #00d7ff; text-decoration-color: #00d7ff\">None</span>, <span style=\"color: #00af00; text-decoration-color: #00af00\">128</span>)       │        <span style=\"color: #00af00; text-decoration-color: #00af00\">512</span> │ dense_8[<span style=\"color: #00af00; text-decoration-color: #00af00\">0</span>][<span style=\"color: #00af00; text-decoration-color: #00af00\">0</span>]     │\n",
              "│ (<span style=\"color: #0087ff; text-decoration-color: #0087ff\">BatchNormalizatio…</span> │                   │            │                   │\n",
              "├─────────────────────┼───────────────────┼────────────┼───────────────────┤\n",
              "│ global_average_poo… │ (<span style=\"color: #00d7ff; text-decoration-color: #00d7ff\">None</span>, <span style=\"color: #00af00; text-decoration-color: #00af00\">128</span>)       │          <span style=\"color: #00af00; text-decoration-color: #00af00\">0</span> │ batch_normalizat… │\n",
              "│ (<span style=\"color: #0087ff; text-decoration-color: #0087ff\">GlobalAveragePool…</span> │                   │            │                   │\n",
              "├─────────────────────┼───────────────────┼────────────┼───────────────────┤\n",
              "│ dropout_6 (<span style=\"color: #0087ff; text-decoration-color: #0087ff\">Dropout</span>) │ (<span style=\"color: #00d7ff; text-decoration-color: #00d7ff\">None</span>, <span style=\"color: #00af00; text-decoration-color: #00af00\">128</span>)       │          <span style=\"color: #00af00; text-decoration-color: #00af00\">0</span> │ batch_normalizat… │\n",
              "├─────────────────────┼───────────────────┼────────────┼───────────────────┤\n",
              "│ concatenate_2       │ (<span style=\"color: #00d7ff; text-decoration-color: #00d7ff\">None</span>, <span style=\"color: #00af00; text-decoration-color: #00af00\">256</span>)       │          <span style=\"color: #00af00; text-decoration-color: #00af00\">0</span> │ global_average_p… │\n",
              "│ (<span style=\"color: #0087ff; text-decoration-color: #0087ff\">Concatenate</span>)       │                   │            │ dropout_6[<span style=\"color: #00af00; text-decoration-color: #00af00\">0</span>][<span style=\"color: #00af00; text-decoration-color: #00af00\">0</span>]   │\n",
              "├─────────────────────┼───────────────────┼────────────┼───────────────────┤\n",
              "│ dense_9 (<span style=\"color: #0087ff; text-decoration-color: #0087ff\">Dense</span>)     │ (<span style=\"color: #00d7ff; text-decoration-color: #00d7ff\">None</span>, <span style=\"color: #00af00; text-decoration-color: #00af00\">256</span>)       │     <span style=\"color: #00af00; text-decoration-color: #00af00\">65,792</span> │ concatenate_2[<span style=\"color: #00af00; text-decoration-color: #00af00\">0</span>]… │\n",
              "├─────────────────────┼───────────────────┼────────────┼───────────────────┤\n",
              "│ batch_normalizatio… │ (<span style=\"color: #00d7ff; text-decoration-color: #00d7ff\">None</span>, <span style=\"color: #00af00; text-decoration-color: #00af00\">256</span>)       │      <span style=\"color: #00af00; text-decoration-color: #00af00\">1,024</span> │ dense_9[<span style=\"color: #00af00; text-decoration-color: #00af00\">0</span>][<span style=\"color: #00af00; text-decoration-color: #00af00\">0</span>]     │\n",
              "│ (<span style=\"color: #0087ff; text-decoration-color: #0087ff\">BatchNormalizatio…</span> │                   │            │                   │\n",
              "├─────────────────────┼───────────────────┼────────────┼───────────────────┤\n",
              "│ dropout_7 (<span style=\"color: #0087ff; text-decoration-color: #0087ff\">Dropout</span>) │ (<span style=\"color: #00d7ff; text-decoration-color: #00d7ff\">None</span>, <span style=\"color: #00af00; text-decoration-color: #00af00\">256</span>)       │          <span style=\"color: #00af00; text-decoration-color: #00af00\">0</span> │ batch_normalizat… │\n",
              "├─────────────────────┼───────────────────┼────────────┼───────────────────┤\n",
              "│ dense_10 (<span style=\"color: #0087ff; text-decoration-color: #0087ff\">Dense</span>)    │ (<span style=\"color: #00d7ff; text-decoration-color: #00d7ff\">None</span>, <span style=\"color: #00af00; text-decoration-color: #00af00\">128</span>)       │     <span style=\"color: #00af00; text-decoration-color: #00af00\">32,896</span> │ dropout_7[<span style=\"color: #00af00; text-decoration-color: #00af00\">0</span>][<span style=\"color: #00af00; text-decoration-color: #00af00\">0</span>]   │\n",
              "├─────────────────────┼───────────────────┼────────────┼───────────────────┤\n",
              "│ batch_normalizatio… │ (<span style=\"color: #00d7ff; text-decoration-color: #00d7ff\">None</span>, <span style=\"color: #00af00; text-decoration-color: #00af00\">128</span>)       │        <span style=\"color: #00af00; text-decoration-color: #00af00\">512</span> │ dense_10[<span style=\"color: #00af00; text-decoration-color: #00af00\">0</span>][<span style=\"color: #00af00; text-decoration-color: #00af00\">0</span>]    │\n",
              "│ (<span style=\"color: #0087ff; text-decoration-color: #0087ff\">BatchNormalizatio…</span> │                   │            │                   │\n",
              "├─────────────────────┼───────────────────┼────────────┼───────────────────┤\n",
              "│ dropout_8 (<span style=\"color: #0087ff; text-decoration-color: #0087ff\">Dropout</span>) │ (<span style=\"color: #00d7ff; text-decoration-color: #00d7ff\">None</span>, <span style=\"color: #00af00; text-decoration-color: #00af00\">128</span>)       │          <span style=\"color: #00af00; text-decoration-color: #00af00\">0</span> │ batch_normalizat… │\n",
              "├─────────────────────┼───────────────────┼────────────┼───────────────────┤\n",
              "│ dense_11 (<span style=\"color: #0087ff; text-decoration-color: #0087ff\">Dense</span>)    │ (<span style=\"color: #00d7ff; text-decoration-color: #00d7ff\">None</span>, <span style=\"color: #00af00; text-decoration-color: #00af00\">1</span>)         │        <span style=\"color: #00af00; text-decoration-color: #00af00\">129</span> │ dropout_8[<span style=\"color: #00af00; text-decoration-color: #00af00\">0</span>][<span style=\"color: #00af00; text-decoration-color: #00af00\">0</span>]   │\n",
              "└─────────────────────┴───────────────────┴────────────┴───────────────────┘\n",
              "</pre>\n"
            ],
            "text/plain": [
              "┏━━━━━━━━━━━━━━━━━━━━━┳━━━━━━━━━━━━━━━━━━━┳━━━━━━━━━━━━┳━━━━━━━━━━━━━━━━━━━┓\n",
              "┃\u001b[1m \u001b[0m\u001b[1mLayer (type)       \u001b[0m\u001b[1m \u001b[0m┃\u001b[1m \u001b[0m\u001b[1mOutput Shape     \u001b[0m\u001b[1m \u001b[0m┃\u001b[1m \u001b[0m\u001b[1m   Param #\u001b[0m\u001b[1m \u001b[0m┃\u001b[1m \u001b[0m\u001b[1mConnected to     \u001b[0m\u001b[1m \u001b[0m┃\n",
              "┡━━━━━━━━━━━━━━━━━━━━━╇━━━━━━━━━━━━━━━━━━━╇━━━━━━━━━━━━╇━━━━━━━━━━━━━━━━━━━┩\n",
              "│ input_layer_4       │ (\u001b[38;5;45mNone\u001b[0m, \u001b[38;5;34m8000\u001b[0m, \u001b[38;5;34m1\u001b[0m)   │          \u001b[38;5;34m0\u001b[0m │ -                 │\n",
              "│ (\u001b[38;5;33mInputLayer\u001b[0m)        │                   │            │                   │\n",
              "├─────────────────────┼───────────────────┼────────────┼───────────────────┤\n",
              "│ batch_normalizatio… │ (\u001b[38;5;45mNone\u001b[0m, \u001b[38;5;34m8000\u001b[0m, \u001b[38;5;34m1\u001b[0m)   │          \u001b[38;5;34m4\u001b[0m │ input_layer_4[\u001b[38;5;34m0\u001b[0m]… │\n",
              "│ (\u001b[38;5;33mBatchNormalizatio…\u001b[0m │                   │            │                   │\n",
              "├─────────────────────┼───────────────────┼────────────┼───────────────────┤\n",
              "│ conv1d_6 (\u001b[38;5;33mConv1D\u001b[0m)   │ (\u001b[38;5;45mNone\u001b[0m, \u001b[38;5;34m8000\u001b[0m, \u001b[38;5;34m32\u001b[0m)  │        \u001b[38;5;34m192\u001b[0m │ batch_normalizat… │\n",
              "├─────────────────────┼───────────────────┼────────────┼───────────────────┤\n",
              "│ batch_normalizatio… │ (\u001b[38;5;45mNone\u001b[0m, \u001b[38;5;34m8000\u001b[0m, \u001b[38;5;34m32\u001b[0m)  │        \u001b[38;5;34m128\u001b[0m │ conv1d_6[\u001b[38;5;34m0\u001b[0m][\u001b[38;5;34m0\u001b[0m]    │\n",
              "│ (\u001b[38;5;33mBatchNormalizatio…\u001b[0m │                   │            │                   │\n",
              "├─────────────────────┼───────────────────┼────────────┼───────────────────┤\n",
              "│ max_pooling1d_4     │ (\u001b[38;5;45mNone\u001b[0m, \u001b[38;5;34m4000\u001b[0m, \u001b[38;5;34m32\u001b[0m)  │          \u001b[38;5;34m0\u001b[0m │ batch_normalizat… │\n",
              "│ (\u001b[38;5;33mMaxPooling1D\u001b[0m)      │                   │            │                   │\n",
              "├─────────────────────┼───────────────────┼────────────┼───────────────────┤\n",
              "│ conv1d_7 (\u001b[38;5;33mConv1D\u001b[0m)   │ (\u001b[38;5;45mNone\u001b[0m, \u001b[38;5;34m4000\u001b[0m, \u001b[38;5;34m64\u001b[0m)  │     \u001b[38;5;34m10,304\u001b[0m │ max_pooling1d_4[\u001b[38;5;34m…\u001b[0m │\n",
              "├─────────────────────┼───────────────────┼────────────┼───────────────────┤\n",
              "│ batch_normalizatio… │ (\u001b[38;5;45mNone\u001b[0m, \u001b[38;5;34m4000\u001b[0m, \u001b[38;5;34m64\u001b[0m)  │        \u001b[38;5;34m256\u001b[0m │ conv1d_7[\u001b[38;5;34m0\u001b[0m][\u001b[38;5;34m0\u001b[0m]    │\n",
              "│ (\u001b[38;5;33mBatchNormalizatio…\u001b[0m │                   │            │                   │\n",
              "├─────────────────────┼───────────────────┼────────────┼───────────────────┤\n",
              "│ input_layer_5       │ (\u001b[38;5;45mNone\u001b[0m, \u001b[38;5;34m60\u001b[0m)        │          \u001b[38;5;34m0\u001b[0m │ -                 │\n",
              "│ (\u001b[38;5;33mInputLayer\u001b[0m)        │                   │            │                   │\n",
              "├─────────────────────┼───────────────────┼────────────┼───────────────────┤\n",
              "│ max_pooling1d_5     │ (\u001b[38;5;45mNone\u001b[0m, \u001b[38;5;34m2000\u001b[0m, \u001b[38;5;34m64\u001b[0m)  │          \u001b[38;5;34m0\u001b[0m │ batch_normalizat… │\n",
              "│ (\u001b[38;5;33mMaxPooling1D\u001b[0m)      │                   │            │                   │\n",
              "├─────────────────────┼───────────────────┼────────────┼───────────────────┤\n",
              "│ batch_normalizatio… │ (\u001b[38;5;45mNone\u001b[0m, \u001b[38;5;34m60\u001b[0m)        │        \u001b[38;5;34m240\u001b[0m │ input_layer_5[\u001b[38;5;34m0\u001b[0m]… │\n",
              "│ (\u001b[38;5;33mBatchNormalizatio…\u001b[0m │                   │            │                   │\n",
              "├─────────────────────┼───────────────────┼────────────┼───────────────────┤\n",
              "│ conv1d_8 (\u001b[38;5;33mConv1D\u001b[0m)   │ (\u001b[38;5;45mNone\u001b[0m, \u001b[38;5;34m2000\u001b[0m, \u001b[38;5;34m128\u001b[0m) │     \u001b[38;5;34m41,088\u001b[0m │ max_pooling1d_5[\u001b[38;5;34m…\u001b[0m │\n",
              "├─────────────────────┼───────────────────┼────────────┼───────────────────┤\n",
              "│ dense_8 (\u001b[38;5;33mDense\u001b[0m)     │ (\u001b[38;5;45mNone\u001b[0m, \u001b[38;5;34m128\u001b[0m)       │      \u001b[38;5;34m7,808\u001b[0m │ batch_normalizat… │\n",
              "├─────────────────────┼───────────────────┼────────────┼───────────────────┤\n",
              "│ batch_normalizatio… │ (\u001b[38;5;45mNone\u001b[0m, \u001b[38;5;34m2000\u001b[0m, \u001b[38;5;34m128\u001b[0m) │        \u001b[38;5;34m512\u001b[0m │ conv1d_8[\u001b[38;5;34m0\u001b[0m][\u001b[38;5;34m0\u001b[0m]    │\n",
              "│ (\u001b[38;5;33mBatchNormalizatio…\u001b[0m │                   │            │                   │\n",
              "├─────────────────────┼───────────────────┼────────────┼───────────────────┤\n",
              "│ batch_normalizatio… │ (\u001b[38;5;45mNone\u001b[0m, \u001b[38;5;34m128\u001b[0m)       │        \u001b[38;5;34m512\u001b[0m │ dense_8[\u001b[38;5;34m0\u001b[0m][\u001b[38;5;34m0\u001b[0m]     │\n",
              "│ (\u001b[38;5;33mBatchNormalizatio…\u001b[0m │                   │            │                   │\n",
              "├─────────────────────┼───────────────────┼────────────┼───────────────────┤\n",
              "│ global_average_poo… │ (\u001b[38;5;45mNone\u001b[0m, \u001b[38;5;34m128\u001b[0m)       │          \u001b[38;5;34m0\u001b[0m │ batch_normalizat… │\n",
              "│ (\u001b[38;5;33mGlobalAveragePool…\u001b[0m │                   │            │                   │\n",
              "├─────────────────────┼───────────────────┼────────────┼───────────────────┤\n",
              "│ dropout_6 (\u001b[38;5;33mDropout\u001b[0m) │ (\u001b[38;5;45mNone\u001b[0m, \u001b[38;5;34m128\u001b[0m)       │          \u001b[38;5;34m0\u001b[0m │ batch_normalizat… │\n",
              "├─────────────────────┼───────────────────┼────────────┼───────────────────┤\n",
              "│ concatenate_2       │ (\u001b[38;5;45mNone\u001b[0m, \u001b[38;5;34m256\u001b[0m)       │          \u001b[38;5;34m0\u001b[0m │ global_average_p… │\n",
              "│ (\u001b[38;5;33mConcatenate\u001b[0m)       │                   │            │ dropout_6[\u001b[38;5;34m0\u001b[0m][\u001b[38;5;34m0\u001b[0m]   │\n",
              "├─────────────────────┼───────────────────┼────────────┼───────────────────┤\n",
              "│ dense_9 (\u001b[38;5;33mDense\u001b[0m)     │ (\u001b[38;5;45mNone\u001b[0m, \u001b[38;5;34m256\u001b[0m)       │     \u001b[38;5;34m65,792\u001b[0m │ concatenate_2[\u001b[38;5;34m0\u001b[0m]… │\n",
              "├─────────────────────┼───────────────────┼────────────┼───────────────────┤\n",
              "│ batch_normalizatio… │ (\u001b[38;5;45mNone\u001b[0m, \u001b[38;5;34m256\u001b[0m)       │      \u001b[38;5;34m1,024\u001b[0m │ dense_9[\u001b[38;5;34m0\u001b[0m][\u001b[38;5;34m0\u001b[0m]     │\n",
              "│ (\u001b[38;5;33mBatchNormalizatio…\u001b[0m │                   │            │                   │\n",
              "├─────────────────────┼───────────────────┼────────────┼───────────────────┤\n",
              "│ dropout_7 (\u001b[38;5;33mDropout\u001b[0m) │ (\u001b[38;5;45mNone\u001b[0m, \u001b[38;5;34m256\u001b[0m)       │          \u001b[38;5;34m0\u001b[0m │ batch_normalizat… │\n",
              "├─────────────────────┼───────────────────┼────────────┼───────────────────┤\n",
              "│ dense_10 (\u001b[38;5;33mDense\u001b[0m)    │ (\u001b[38;5;45mNone\u001b[0m, \u001b[38;5;34m128\u001b[0m)       │     \u001b[38;5;34m32,896\u001b[0m │ dropout_7[\u001b[38;5;34m0\u001b[0m][\u001b[38;5;34m0\u001b[0m]   │\n",
              "├─────────────────────┼───────────────────┼────────────┼───────────────────┤\n",
              "│ batch_normalizatio… │ (\u001b[38;5;45mNone\u001b[0m, \u001b[38;5;34m128\u001b[0m)       │        \u001b[38;5;34m512\u001b[0m │ dense_10[\u001b[38;5;34m0\u001b[0m][\u001b[38;5;34m0\u001b[0m]    │\n",
              "│ (\u001b[38;5;33mBatchNormalizatio…\u001b[0m │                   │            │                   │\n",
              "├─────────────────────┼───────────────────┼────────────┼───────────────────┤\n",
              "│ dropout_8 (\u001b[38;5;33mDropout\u001b[0m) │ (\u001b[38;5;45mNone\u001b[0m, \u001b[38;5;34m128\u001b[0m)       │          \u001b[38;5;34m0\u001b[0m │ batch_normalizat… │\n",
              "├─────────────────────┼───────────────────┼────────────┼───────────────────┤\n",
              "│ dense_11 (\u001b[38;5;33mDense\u001b[0m)    │ (\u001b[38;5;45mNone\u001b[0m, \u001b[38;5;34m1\u001b[0m)         │        \u001b[38;5;34m129\u001b[0m │ dropout_8[\u001b[38;5;34m0\u001b[0m][\u001b[38;5;34m0\u001b[0m]   │\n",
              "└─────────────────────┴───────────────────┴────────────┴───────────────────┘\n"
            ]
          },
          "metadata": {},
          "output_type": "display_data"
        },
        {
          "data": {
            "text/html": [
              "<pre style=\"white-space:pre;overflow-x:auto;line-height:normal;font-family:Menlo,'DejaVu Sans Mono',consolas,'Courier New',monospace\"><span style=\"font-weight: bold\"> Total params: </span><span style=\"color: #00af00; text-decoration-color: #00af00\">161,397</span> (630.46 KB)\n",
              "</pre>\n"
            ],
            "text/plain": [
              "\u001b[1m Total params: \u001b[0m\u001b[38;5;34m161,397\u001b[0m (630.46 KB)\n"
            ]
          },
          "metadata": {},
          "output_type": "display_data"
        },
        {
          "data": {
            "text/html": [
              "<pre style=\"white-space:pre;overflow-x:auto;line-height:normal;font-family:Menlo,'DejaVu Sans Mono',consolas,'Courier New',monospace\"><span style=\"font-weight: bold\"> Trainable params: </span><span style=\"color: #00af00; text-decoration-color: #00af00\">159,803</span> (624.23 KB)\n",
              "</pre>\n"
            ],
            "text/plain": [
              "\u001b[1m Trainable params: \u001b[0m\u001b[38;5;34m159,803\u001b[0m (624.23 KB)\n"
            ]
          },
          "metadata": {},
          "output_type": "display_data"
        },
        {
          "data": {
            "text/html": [
              "<pre style=\"white-space:pre;overflow-x:auto;line-height:normal;font-family:Menlo,'DejaVu Sans Mono',consolas,'Courier New',monospace\"><span style=\"font-weight: bold\"> Non-trainable params: </span><span style=\"color: #00af00; text-decoration-color: #00af00\">1,594</span> (6.23 KB)\n",
              "</pre>\n"
            ],
            "text/plain": [
              "\u001b[1m Non-trainable params: \u001b[0m\u001b[38;5;34m1,594\u001b[0m (6.23 KB)\n"
            ]
          },
          "metadata": {},
          "output_type": "display_data"
        }
      ],
      "source": [
        "# ------------------- Creación del Modelo -------------------\n",
        "def create_model(input_shape_raw, input_shape_wavelets):\n",
        "    raw_input = tf.keras.layers.Input(shape=input_shape_raw)\n",
        "    x1 = tf.keras.layers.BatchNormalization()(raw_input)\n",
        "    x1 = tf.keras.layers.Conv1D(32, 5, padding='same', activation='relu')(x1)\n",
        "    x1 = tf.keras.layers.BatchNormalization()(x1)\n",
        "    x1 = tf.keras.layers.MaxPooling1D(2)(x1)\n",
        "    x1 = tf.keras.layers.Conv1D(64, 5, padding='same', activation='relu')(x1)\n",
        "    x1 = tf.keras.layers.BatchNormalization()(x1)\n",
        "    x1 = tf.keras.layers.MaxPooling1D(2)(x1)\n",
        "    x1 = tf.keras.layers.Conv1D(128, 5, padding='same', activation='relu')(x1)\n",
        "    x1 = tf.keras.layers.BatchNormalization()(x1)\n",
        "    x1 = tf.keras.layers.GlobalAveragePooling1D()(x1)\n",
        "\n",
        "    wavelet_input = tf.keras.layers.Input(shape=input_shape_wavelets)\n",
        "    x2 = tf.keras.layers.BatchNormalization()(wavelet_input)\n",
        "    x2 = tf.keras.layers.Dense(128, activation='relu')(x2)\n",
        "    x2 = tf.keras.layers.BatchNormalization()(x2)\n",
        "    x2 = tf.keras.layers.Dropout(0.3)(x2)\n",
        "\n",
        "    combined = tf.keras.layers.concatenate([x1, x2])\n",
        "\n",
        "    x = tf.keras.layers.Dense(256, activation='relu')(combined)\n",
        "    x = tf.keras.layers.BatchNormalization()(x)\n",
        "    x = tf.keras.layers.Dropout(0.3)(x)\n",
        "    x = tf.keras.layers.Dense(128, activation='relu')(x)\n",
        "    x = tf.keras.layers.BatchNormalization()(x)\n",
        "    x = tf.keras.layers.Dropout(0.2)(x)\n",
        "\n",
        "    output = tf.keras.layers.Dense(1)(x)\n",
        "\n",
        "    model = tf.keras.Model(inputs=[raw_input, wavelet_input], outputs=output)\n",
        "    return model\n",
        "\n",
        "input_shape_raw = (8000, 1)\n",
        "input_shape_wavelets = (X_wavelets_train.shape[1],)\n",
        "\n",
        "model = create_model(input_shape_raw, input_shape_wavelets)\n",
        "optimizer = tf.keras.optimizers.Adam(learning_rate=0.001)\n",
        "\n",
        "model.compile(optimizer=optimizer, loss='mse', metrics=['mae', 'mse'])\n",
        "model.summary()\n"
      ]
    },
    {
      "cell_type": "code",
      "execution_count": 23,
      "id": "f2201de4",
      "metadata": {
        "colab": {
          "base_uri": "https://localhost:8080/"
        },
        "id": "f2201de4",
        "outputId": "84db1dbe-06f7-41ca-b44d-c736ef3daae5"
      },
      "outputs": [
        {
          "name": "stdout",
          "output_type": "stream",
          "text": [
            "Epoch 1/100\n",
            "\u001b[1m78/78\u001b[0m \u001b[32m━━━━━━━━━━━━━━━━━━━━\u001b[0m\u001b[37m\u001b[0m \u001b[1m26s\u001b[0m 191ms/step - loss: 923.0400 - mae: 29.9839 - mse: 923.0400 - val_loss: 802.8702 - val_mae: 28.1140 - val_mse: 802.8702 - learning_rate: 0.0010\n",
            "Epoch 2/100\n",
            "\u001b[1m78/78\u001b[0m \u001b[32m━━━━━━━━━━━━━━━━━━━━\u001b[0m\u001b[37m\u001b[0m \u001b[1m26s\u001b[0m 82ms/step - loss: 804.4974 - mae: 27.9492 - mse: 804.4974 - val_loss: 623.6250 - val_mae: 24.7564 - val_mse: 623.6250 - learning_rate: 0.0010\n",
            "Epoch 3/100\n",
            "\u001b[1m78/78\u001b[0m \u001b[32m━━━━━━━━━━━━━━━━━━━━\u001b[0m\u001b[37m\u001b[0m \u001b[1m6s\u001b[0m 80ms/step - loss: 582.5784 - mae: 23.5666 - mse: 582.5784 - val_loss: 344.5493 - val_mae: 18.3289 - val_mse: 344.5493 - learning_rate: 0.0010\n",
            "Epoch 4/100\n",
            "\u001b[1m78/78\u001b[0m \u001b[32m━━━━━━━━━━━━━━━━━━━━\u001b[0m\u001b[37m\u001b[0m \u001b[1m10s\u001b[0m 81ms/step - loss: 304.4127 - mae: 16.6350 - mse: 304.4127 - val_loss: 116.9643 - val_mae: 10.5617 - val_mse: 116.9644 - learning_rate: 0.0010\n",
            "Epoch 5/100\n",
            "\u001b[1m78/78\u001b[0m \u001b[32m━━━━━━━━━━━━━━━━━━━━\u001b[0m\u001b[37m\u001b[0m \u001b[1m10s\u001b[0m 81ms/step - loss: 115.9669 - mae: 9.6212 - mse: 115.9669 - val_loss: 34.8180 - val_mae: 5.2260 - val_mse: 34.8180 - learning_rate: 0.0010\n",
            "Epoch 6/100\n",
            "\u001b[1m78/78\u001b[0m \u001b[32m━━━━━━━━━━━━━━━━━━━━\u001b[0m\u001b[37m\u001b[0m \u001b[1m6s\u001b[0m 81ms/step - loss: 45.2986 - mae: 5.3118 - mse: 45.2986 - val_loss: 14.8874 - val_mae: 2.0956 - val_mse: 14.8874 - learning_rate: 0.0010\n",
            "Epoch 7/100\n",
            "\u001b[1m78/78\u001b[0m \u001b[32m━━━━━━━━━━━━━━━━━━━━\u001b[0m\u001b[37m\u001b[0m \u001b[1m10s\u001b[0m 81ms/step - loss: 33.1997 - mae: 4.2575 - mse: 33.1997 - val_loss: 14.2366 - val_mae: 1.6023 - val_mse: 14.2366 - learning_rate: 0.0010\n",
            "Epoch 8/100\n",
            "\u001b[1m78/78\u001b[0m \u001b[32m━━━━━━━━━━━━━━━━━━━━\u001b[0m\u001b[37m\u001b[0m \u001b[1m10s\u001b[0m 80ms/step - loss: 32.8770 - mae: 4.1362 - mse: 32.8770 - val_loss: 15.2940 - val_mae: 1.8310 - val_mse: 15.2940 - learning_rate: 0.0010\n",
            "Epoch 9/100\n",
            "\u001b[1m78/78\u001b[0m \u001b[32m━━━━━━━━━━━━━━━━━━━━\u001b[0m\u001b[37m\u001b[0m \u001b[1m10s\u001b[0m 80ms/step - loss: 31.2261 - mae: 4.0297 - mse: 31.2261 - val_loss: 15.2419 - val_mae: 1.7421 - val_mse: 15.2419 - learning_rate: 0.0010\n",
            "Epoch 10/100\n",
            "\u001b[1m78/78\u001b[0m \u001b[32m━━━━━━━━━━━━━━━━━━━━\u001b[0m\u001b[37m\u001b[0m \u001b[1m10s\u001b[0m 81ms/step - loss: 30.9773 - mae: 3.9534 - mse: 30.9773 - val_loss: 14.1938 - val_mae: 1.7065 - val_mse: 14.1938 - learning_rate: 0.0010\n",
            "Epoch 11/100\n",
            "\u001b[1m78/78\u001b[0m \u001b[32m━━━━━━━━━━━━━━━━━━━━\u001b[0m\u001b[37m\u001b[0m \u001b[1m10s\u001b[0m 81ms/step - loss: 30.9361 - mae: 4.0128 - mse: 30.9361 - val_loss: 14.2770 - val_mae: 1.6287 - val_mse: 14.2770 - learning_rate: 0.0010\n",
            "Epoch 12/100\n",
            "\u001b[1m78/78\u001b[0m \u001b[32m━━━━━━━━━━━━━━━━━━━━\u001b[0m\u001b[37m\u001b[0m \u001b[1m6s\u001b[0m 81ms/step - loss: 28.3271 - mae: 3.7729 - mse: 28.3271 - val_loss: 13.1724 - val_mae: 1.3211 - val_mse: 13.1724 - learning_rate: 0.0010\n",
            "Epoch 13/100\n",
            "\u001b[1m78/78\u001b[0m \u001b[32m━━━━━━━━━━━━━━━━━━━━\u001b[0m\u001b[37m\u001b[0m \u001b[1m10s\u001b[0m 80ms/step - loss: 30.2671 - mae: 3.9288 - mse: 30.2671 - val_loss: 13.3216 - val_mae: 1.4433 - val_mse: 13.3216 - learning_rate: 0.0010\n",
            "Epoch 14/100\n",
            "\u001b[1m78/78\u001b[0m \u001b[32m━━━━━━━━━━━━━━━━━━━━\u001b[0m\u001b[37m\u001b[0m \u001b[1m10s\u001b[0m 81ms/step - loss: 27.5039 - mae: 3.7115 - mse: 27.5039 - val_loss: 13.0711 - val_mae: 1.3910 - val_mse: 13.0711 - learning_rate: 0.0010\n",
            "Epoch 15/100\n",
            "\u001b[1m78/78\u001b[0m \u001b[32m━━━━━━━━━━━━━━━━━━━━\u001b[0m\u001b[37m\u001b[0m \u001b[1m6s\u001b[0m 80ms/step - loss: 28.5618 - mae: 3.7561 - mse: 28.5618 - val_loss: 12.9546 - val_mae: 1.4339 - val_mse: 12.9546 - learning_rate: 0.0010\n",
            "Epoch 16/100\n",
            "\u001b[1m78/78\u001b[0m \u001b[32m━━━━━━━━━━━━━━━━━━━━\u001b[0m\u001b[37m\u001b[0m \u001b[1m10s\u001b[0m 81ms/step - loss: 29.3147 - mae: 3.8327 - mse: 29.3147 - val_loss: 13.6240 - val_mae: 1.5528 - val_mse: 13.6240 - learning_rate: 0.0010\n",
            "Epoch 17/100\n",
            "\u001b[1m78/78\u001b[0m \u001b[32m━━━━━━━━━━━━━━━━━━━━\u001b[0m\u001b[37m\u001b[0m \u001b[1m10s\u001b[0m 81ms/step - loss: 26.8110 - mae: 3.6731 - mse: 26.8110 - val_loss: 13.2275 - val_mae: 1.3567 - val_mse: 13.2275 - learning_rate: 0.0010\n",
            "Epoch 18/100\n",
            "\u001b[1m78/78\u001b[0m \u001b[32m━━━━━━━━━━━━━━━━━━━━\u001b[0m\u001b[37m\u001b[0m \u001b[1m6s\u001b[0m 81ms/step - loss: 27.2273 - mae: 3.7091 - mse: 27.2273 - val_loss: 12.6220 - val_mae: 1.2593 - val_mse: 12.6220 - learning_rate: 5.0000e-04\n",
            "Epoch 19/100\n",
            "\u001b[1m78/78\u001b[0m \u001b[32m━━━━━━━━━━━━━━━━━━━━\u001b[0m\u001b[37m\u001b[0m \u001b[1m6s\u001b[0m 82ms/step - loss: 26.6508 - mae: 3.6270 - mse: 26.6508 - val_loss: 12.7238 - val_mae: 1.2085 - val_mse: 12.7238 - learning_rate: 5.0000e-04\n",
            "Epoch 20/100\n",
            "\u001b[1m78/78\u001b[0m \u001b[32m━━━━━━━━━━━━━━━━━━━━\u001b[0m\u001b[37m\u001b[0m \u001b[1m6s\u001b[0m 81ms/step - loss: 27.3071 - mae: 3.7113 - mse: 27.3071 - val_loss: 12.7267 - val_mae: 1.1980 - val_mse: 12.7267 - learning_rate: 5.0000e-04\n",
            "Epoch 21/100\n",
            "\u001b[1m78/78\u001b[0m \u001b[32m━━━━━━━━━━━━━━━━━━━━\u001b[0m\u001b[37m\u001b[0m \u001b[1m10s\u001b[0m 81ms/step - loss: 27.3823 - mae: 3.7436 - mse: 27.3823 - val_loss: 13.0969 - val_mae: 1.3118 - val_mse: 13.0969 - learning_rate: 5.0000e-04\n",
            "Epoch 22/100\n",
            "\u001b[1m78/78\u001b[0m \u001b[32m━━━━━━━━━━━━━━━━━━━━\u001b[0m\u001b[37m\u001b[0m \u001b[1m10s\u001b[0m 81ms/step - loss: 26.9179 - mae: 3.6296 - mse: 26.9179 - val_loss: 12.9371 - val_mae: 1.2590 - val_mse: 12.9371 - learning_rate: 5.0000e-04\n",
            "Epoch 23/100\n",
            "\u001b[1m78/78\u001b[0m \u001b[32m━━━━━━━━━━━━━━━━━━━━\u001b[0m\u001b[37m\u001b[0m \u001b[1m6s\u001b[0m 79ms/step - loss: 25.1202 - mae: 3.5517 - mse: 25.1202 - val_loss: 12.8056 - val_mae: 1.2190 - val_mse: 12.8056 - learning_rate: 5.0000e-04\n",
            "Epoch 24/100\n",
            "\u001b[1m78/78\u001b[0m \u001b[32m━━━━━━━━━━━━━━━━━━━━\u001b[0m\u001b[37m\u001b[0m \u001b[1m10s\u001b[0m 80ms/step - loss: 27.0382 - mae: 3.6660 - mse: 27.0382 - val_loss: 12.8782 - val_mae: 1.2875 - val_mse: 12.8782 - learning_rate: 5.0000e-04\n",
            "Epoch 25/100\n",
            "\u001b[1m78/78\u001b[0m \u001b[32m━━━━━━━━━━━━━━━━━━━━\u001b[0m\u001b[37m\u001b[0m \u001b[1m6s\u001b[0m 80ms/step - loss: 26.1369 - mae: 3.6348 - mse: 26.1369 - val_loss: 12.8438 - val_mae: 1.2731 - val_mse: 12.8438 - learning_rate: 5.0000e-04\n",
            "Epoch 26/100\n",
            "\u001b[1m78/78\u001b[0m \u001b[32m━━━━━━━━━━━━━━━━━━━━\u001b[0m\u001b[37m\u001b[0m \u001b[1m6s\u001b[0m 79ms/step - loss: 25.4956 - mae: 3.5869 - mse: 25.4956 - val_loss: 12.6992 - val_mae: 1.2314 - val_mse: 12.6992 - learning_rate: 2.5000e-04\n",
            "Epoch 27/100\n",
            "\u001b[1m78/78\u001b[0m \u001b[32m━━━━━━━━━━━━━━━━━━━━\u001b[0m\u001b[37m\u001b[0m \u001b[1m10s\u001b[0m 80ms/step - loss: 26.9938 - mae: 3.6559 - mse: 26.9938 - val_loss: 12.9935 - val_mae: 1.2605 - val_mse: 12.9935 - learning_rate: 2.5000e-04\n",
            "Epoch 28/100\n",
            "\u001b[1m78/78\u001b[0m \u001b[32m━━━━━━━━━━━━━━━━━━━━\u001b[0m\u001b[37m\u001b[0m \u001b[1m6s\u001b[0m 81ms/step - loss: 25.7751 - mae: 3.6104 - mse: 25.7751 - val_loss: 12.8397 - val_mae: 1.2357 - val_mse: 12.8397 - learning_rate: 2.5000e-04\n",
            "Epoch 29/100\n",
            "\u001b[1m78/78\u001b[0m \u001b[32m━━━━━━━━━━━━━━━━━━━━\u001b[0m\u001b[37m\u001b[0m \u001b[1m10s\u001b[0m 80ms/step - loss: 25.8980 - mae: 3.5779 - mse: 25.8980 - val_loss: 13.1343 - val_mae: 1.3234 - val_mse: 13.1343 - learning_rate: 2.5000e-04\n",
            "Epoch 30/100\n",
            "\u001b[1m78/78\u001b[0m \u001b[32m━━━━━━━━━━━━━━━━━━━━\u001b[0m\u001b[37m\u001b[0m \u001b[1m6s\u001b[0m 80ms/step - loss: 25.6584 - mae: 3.6250 - mse: 25.6584 - val_loss: 13.0681 - val_mae: 1.2755 - val_mse: 13.0681 - learning_rate: 2.5000e-04\n",
            "Epoch 31/100\n",
            "\u001b[1m78/78\u001b[0m \u001b[32m━━━━━━━━━━━━━━━━━━━━\u001b[0m\u001b[37m\u001b[0m \u001b[1m6s\u001b[0m 79ms/step - loss: 24.3451 - mae: 3.5460 - mse: 24.3451 - val_loss: 12.7542 - val_mae: 1.2556 - val_mse: 12.7542 - learning_rate: 1.2500e-04\n",
            "Epoch 32/100\n",
            "\u001b[1m78/78\u001b[0m \u001b[32m━━━━━━━━━━━━━━━━━━━━\u001b[0m\u001b[37m\u001b[0m \u001b[1m10s\u001b[0m 80ms/step - loss: 25.5422 - mae: 3.6171 - mse: 25.5422 - val_loss: 12.7347 - val_mae: 1.2393 - val_mse: 12.7347 - learning_rate: 1.2500e-04\n",
            "Epoch 33/100\n",
            "\u001b[1m78/78\u001b[0m \u001b[32m━━━━━━━━━━━━━━━━━━━━\u001b[0m\u001b[37m\u001b[0m \u001b[1m6s\u001b[0m 80ms/step - loss: 25.1248 - mae: 3.5332 - mse: 25.1248 - val_loss: 12.8285 - val_mae: 1.2320 - val_mse: 12.8285 - learning_rate: 1.2500e-04\n",
            "Epoch 34/100\n",
            "\u001b[1m78/78\u001b[0m \u001b[32m━━━━━━━━━━━━━━━━━━━━\u001b[0m\u001b[37m\u001b[0m \u001b[1m6s\u001b[0m 79ms/step - loss: 25.8090 - mae: 3.5736 - mse: 25.8090 - val_loss: 12.8980 - val_mae: 1.2360 - val_mse: 12.8980 - learning_rate: 1.2500e-04\n",
            "Epoch 35/100\n",
            "\u001b[1m78/78\u001b[0m \u001b[32m━━━━━━━━━━━━━━━━━━━━\u001b[0m\u001b[37m\u001b[0m \u001b[1m6s\u001b[0m 81ms/step - loss: 24.6774 - mae: 3.5204 - mse: 24.6774 - val_loss: 13.0238 - val_mae: 1.2564 - val_mse: 13.0238 - learning_rate: 1.2500e-04\n"
          ]
        }
      ],
      "source": [
        "# ------------------- Callbacks -------------------\n",
        "callbacks = [\n",
        "    tf.keras.callbacks.EarlyStopping(monitor='val_mae', patience=15, restore_best_weights=True, mode='min'),\n",
        "    tf.keras.callbacks.ReduceLROnPlateau(monitor='val_mae', factor=0.5, patience=5, min_lr=1e-6, mode='min'),\n",
        "    tf.keras.callbacks.ModelCheckpoint(filepath='augmeted_model.keras', monitor='val_mae', save_best_only=True, mode='min')\n",
        "]\n",
        "\n",
        "# ------------------- Entrenamiento -------------------\n",
        "history = model.fit(\n",
        "    [X_raw_train, X_wavelets_train],\n",
        "    y_train,\n",
        "    validation_data=([X_raw_val, X_wavelets_val], y_val),\n",
        "    epochs=100,\n",
        "    batch_size=64,\n",
        "    callbacks=callbacks,\n",
        "    verbose=1\n",
        ")\n"
      ]
    },
    {
      "cell_type": "code",
      "execution_count": 24,
      "id": "83656eb1",
      "metadata": {
        "colab": {
          "base_uri": "https://localhost:8080/"
        },
        "id": "83656eb1",
        "outputId": "72b3894b-7bbe-45cb-df13-7c62afe1a862"
      },
      "outputs": [
        {
          "name": "stdout",
          "output_type": "stream",
          "text": [
            "Realizando predicciones en conjunto de prueba...\n",
            "\u001b[1m16/16\u001b[0m \u001b[32m━━━━━━━━━━━━━━━━━━━━\u001b[0m\u001b[37m\u001b[0m \u001b[1m1s\u001b[0m 40ms/step\n"
          ]
        }
      ],
      "source": [
        "# ------------------- Evaluación -------------------\n",
        "print('Realizando predicciones en conjunto de prueba...')\n",
        "y_pred = model.predict([X_raw_test, X_wavelets_test])\n",
        "\n",
        "# Guardar resultados\n",
        "results_df = pd.DataFrame({\n",
        "    'file': test_files['file'],\n",
        "    'real_time': y_test,\n",
        "    'predicted_time': y_pred.flatten(),\n",
        "    'error': y_pred.flatten() - y_test\n",
        "})\n",
        "results_df['abs_error'] = np.abs(results_df['error'])\n",
        "results_df = results_df.sort_values('abs_error', ascending=False)\n",
        "\n",
        "results_df.to_csv(os.path.join(features_path, 'model_evaluation_results.csv'), index=False)\n"
      ]
    },
    {
      "cell_type": "code",
      "execution_count": 25,
      "id": "05ced207",
      "metadata": {
        "colab": {
          "base_uri": "https://localhost:8080/"
        },
        "id": "05ced207",
        "outputId": "eec6d754-e50d-4c08-f368-6e75ea880ac4"
      },
      "outputs": [
        {
          "name": "stdout",
          "output_type": "stream",
          "text": [
            "\n",
            "Métricas de rendimiento en conjunto de prueba:\n",
            "MAE: 1.0369 segundos\n",
            "RMSE: 2.8667 segundos\n",
            "Máximo error: 30.0965 segundos\n"
          ]
        }
      ],
      "source": [
        "# ------------------- Métricas Finales -------------------\n",
        "print('\\nMétricas de rendimiento en conjunto de prueba:')\n",
        "mae = np.mean(np.abs(results_df['error']))\n",
        "rmse = np.sqrt(np.mean(results_df['error']**2))\n",
        "max_error = np.max(results_df['abs_error'])\n",
        "\n",
        "print(f'MAE: {mae:.4f} segundos')\n",
        "print(f'RMSE: {rmse:.4f} segundos')\n",
        "print(f'Máximo error: {max_error:.4f} segundos')"
      ]
    },
    {
      "cell_type": "code",
      "execution_count": 26,
      "id": "4dcb5b92",
      "metadata": {
        "colab": {
          "base_uri": "https://localhost:8080/",
          "height": 629
        },
        "id": "4dcb5b92",
        "outputId": "fe37a979-309f-406b-bd74-3268a3eb073b"
      },
      "outputs": [
        {
          "data": {
            "image/png": "[encoded data removed]",
            "text/plain": [
              "<Figure size 1200x500 with 2 Axes>"
            ]
          },
          "metadata": {},
          "output_type": "display_data"
        },
        {
          "name": "stdout",
          "output_type": "stream",
          "text": [
            "\n",
            "Estadísticas de errores:\n",
            "Error medio: 0.2324 segundos\n",
            "Desviación estándar: 2.8572 segundos\n",
            "Mediana del error: 0.1238 segundos\n",
            "Error dentro de ±0.5s: 48.4%\n",
            "Error dentro de ±1.0s: 77.0%\n"
          ]
        }
      ],
      "source": [
        "# ------------------- Visualización -------------------\n",
        "errors = y_pred.flatten() - y_test\n",
        "\n",
        "plt.figure(figsize=(12, 5))\n",
        "\n",
        "# Histograma de errores\n",
        "plt.subplot(1, 2, 1)\n",
        "plt.hist(errors, bins=50, edgecolor='black')\n",
        "plt.title('Distribución de errores')\n",
        "plt.xlabel('Error (segundos)')\n",
        "plt.ylabel('Frecuencia')\n",
        "plt.axvline(x=0, color='r', linestyle='--', label='Error cero')\n",
        "plt.legend()\n",
        "\n",
        "# Scatter plot\n",
        "plt.subplot(1, 2, 2)\n",
        "plt.scatter(y_test, y_pred.flatten(), alpha=0.5)\n",
        "plt.plot([y_test.min(), y_test.max()], [y_test.min(), y_test.max()], 'r--')\n",
        "plt.xlabel('Tiempo real (s)')\n",
        "plt.ylabel('Tiempo predicho (s)')\n",
        "plt.title('Predicción vs Real')\n",
        "\n",
        "plt.tight_layout()\n",
        "plt.show()\n",
        "\n",
        "# Estadísticas adicionales\n",
        "print('\\nEstadísticas de errores:')\n",
        "print(f'Error medio: {np.mean(errors):.4f} segundos')\n",
        "print(f'Desviación estándar: {np.std(errors):.4f} segundos')\n",
        "print(f'Mediana del error: {np.median(errors):.4f} segundos')\n",
        "print(f'Error dentro de ±0.5s: {100*np.mean(np.abs(errors) < 0.5):.1f}%')\n",
        "print(f'Error dentro de ±1.0s: {100*np.mean(np.abs(errors) < 1.0):.1f}%')"
      ]
    },
    {
      "cell_type": "code",
      "execution_count": 27,
      "id": "E1iiQ9C1haUy",
      "metadata": {
        "colab": {
          "base_uri": "https://localhost:8080/",
          "height": 1000
        },
        "id": "E1iiQ9C1haUy",
        "outputId": "59af80a3-968e-496a-930b-1da5e192a24a"
      },
      "outputs": [
        {
          "name": "stdout",
          "output_type": "stream",
          "text": [
            "Cargando señales desde /content/gdrive/MyDrive/Notebooks/SeismicWaves/training_augmented/train...\n"
          ]
        },
        {
          "name": "stderr",
          "output_type": "stream",
          "text": [
            "100%|██████████| 1663/1663 [00:29<00:00, 56.51it/s]\n"
          ]
        },
        {
          "name": "stdout",
          "output_type": "stream",
          "text": [
            "Cargando señales desde /content/gdrive/MyDrive/Notebooks/SeismicWaves/training_augmented/val...\n"
          ]
        },
        {
          "name": "stderr",
          "output_type": "stream",
          "text": [
            "100%|██████████| 317/317 [00:05<00:00, 53.78it/s]\n"
          ]
        },
        {
          "name": "stdout",
          "output_type": "stream",
          "text": [
            "Cargando señales desde /content/gdrive/MyDrive/Notebooks/SeismicWaves/training_augmented/testing...\n"
          ]
        },
        {
          "name": "stderr",
          "output_type": "stream",
          "text": [
            "100%|██████████| 496/496 [00:08<00:00, 58.27it/s]\n"
          ]
        },
        {
          "name": "stdout",
          "output_type": "stream",
          "text": [
            "Formas:\n",
            "Entrenamiento señales crudas: (1663, 8000, 1)\n",
            "Validación señales crudas: (317, 8000, 1)\n",
            "Prueba señales crudas: (496, 8000, 1)\n"
          ]
        },
        {
          "data": {
            "text/html": [
              "<pre style=\"white-space:pre;overflow-x:auto;line-height:normal;font-family:Menlo,'DejaVu Sans Mono',consolas,'Courier New',monospace\"><span style=\"font-weight: bold\">Model: \"functional_3\"</span>\n",
              "</pre>\n"
            ],
            "text/plain": [
              "\u001b[1mModel: \"functional_3\"\u001b[0m\n"
            ]
          },
          "metadata": {},
          "output_type": "display_data"
        },
        {
          "data": {
            "text/html": [
              "<pre style=\"white-space:pre;overflow-x:auto;line-height:normal;font-family:Menlo,'DejaVu Sans Mono',consolas,'Courier New',monospace\">┏━━━━━━━━━━━━━━━━━━━━━┳━━━━━━━━━━━━━━━━━━━┳━━━━━━━━━━━━┳━━━━━━━━━━━━━━━━━━━┓\n",
              "┃<span style=\"font-weight: bold\"> Layer (type)        </span>┃<span style=\"font-weight: bold\"> Output Shape      </span>┃<span style=\"font-weight: bold\">    Param # </span>┃<span style=\"font-weight: bold\"> Connected to      </span>┃\n",
              "┡━━━━━━━━━━━━━━━━━━━━━╇━━━━━━━━━━━━━━━━━━━╇━━━━━━━━━━━━╇━━━━━━━━━━━━━━━━━━━┩\n",
              "│ input_layer_6       │ (<span style=\"color: #00d7ff; text-decoration-color: #00d7ff\">None</span>, <span style=\"color: #00af00; text-decoration-color: #00af00\">8000</span>, <span style=\"color: #00af00; text-decoration-color: #00af00\">1</span>)   │          <span style=\"color: #00af00; text-decoration-color: #00af00\">0</span> │ -                 │\n",
              "│ (<span style=\"color: #0087ff; text-decoration-color: #0087ff\">InputLayer</span>)        │                   │            │                   │\n",
              "├─────────────────────┼───────────────────┼────────────┼───────────────────┤\n",
              "│ batch_normalizatio… │ (<span style=\"color: #00d7ff; text-decoration-color: #00d7ff\">None</span>, <span style=\"color: #00af00; text-decoration-color: #00af00\">8000</span>, <span style=\"color: #00af00; text-decoration-color: #00af00\">1</span>)   │          <span style=\"color: #00af00; text-decoration-color: #00af00\">4</span> │ input_layer_6[<span style=\"color: #00af00; text-decoration-color: #00af00\">0</span>]… │\n",
              "│ (<span style=\"color: #0087ff; text-decoration-color: #0087ff\">BatchNormalizatio…</span> │                   │            │                   │\n",
              "├─────────────────────┼───────────────────┼────────────┼───────────────────┤\n",
              "│ conv1d_9 (<span style=\"color: #0087ff; text-decoration-color: #0087ff\">Conv1D</span>)   │ (<span style=\"color: #00d7ff; text-decoration-color: #00d7ff\">None</span>, <span style=\"color: #00af00; text-decoration-color: #00af00\">8000</span>, <span style=\"color: #00af00; text-decoration-color: #00af00\">32</span>)  │        <span style=\"color: #00af00; text-decoration-color: #00af00\">192</span> │ batch_normalizat… │\n",
              "├─────────────────────┼───────────────────┼────────────┼───────────────────┤\n",
              "│ batch_normalizatio… │ (<span style=\"color: #00d7ff; text-decoration-color: #00d7ff\">None</span>, <span style=\"color: #00af00; text-decoration-color: #00af00\">8000</span>, <span style=\"color: #00af00; text-decoration-color: #00af00\">32</span>)  │        <span style=\"color: #00af00; text-decoration-color: #00af00\">128</span> │ conv1d_9[<span style=\"color: #00af00; text-decoration-color: #00af00\">0</span>][<span style=\"color: #00af00; text-decoration-color: #00af00\">0</span>]    │\n",
              "│ (<span style=\"color: #0087ff; text-decoration-color: #0087ff\">BatchNormalizatio…</span> │                   │            │                   │\n",
              "├─────────────────────┼───────────────────┼────────────┼───────────────────┤\n",
              "│ max_pooling1d_6     │ (<span style=\"color: #00d7ff; text-decoration-color: #00d7ff\">None</span>, <span style=\"color: #00af00; text-decoration-color: #00af00\">4000</span>, <span style=\"color: #00af00; text-decoration-color: #00af00\">32</span>)  │          <span style=\"color: #00af00; text-decoration-color: #00af00\">0</span> │ batch_normalizat… │\n",
              "│ (<span style=\"color: #0087ff; text-decoration-color: #0087ff\">MaxPooling1D</span>)      │                   │            │                   │\n",
              "├─────────────────────┼───────────────────┼────────────┼───────────────────┤\n",
              "│ conv1d_10 (<span style=\"color: #0087ff; text-decoration-color: #0087ff\">Conv1D</span>)  │ (<span style=\"color: #00d7ff; text-decoration-color: #00d7ff\">None</span>, <span style=\"color: #00af00; text-decoration-color: #00af00\">4000</span>, <span style=\"color: #00af00; text-decoration-color: #00af00\">64</span>)  │     <span style=\"color: #00af00; text-decoration-color: #00af00\">10,304</span> │ max_pooling1d_6[<span style=\"color: #00af00; text-decoration-color: #00af00\">…</span> │\n",
              "├─────────────────────┼───────────────────┼────────────┼───────────────────┤\n",
              "│ batch_normalizatio… │ (<span style=\"color: #00d7ff; text-decoration-color: #00d7ff\">None</span>, <span style=\"color: #00af00; text-decoration-color: #00af00\">4000</span>, <span style=\"color: #00af00; text-decoration-color: #00af00\">64</span>)  │        <span style=\"color: #00af00; text-decoration-color: #00af00\">256</span> │ conv1d_10[<span style=\"color: #00af00; text-decoration-color: #00af00\">0</span>][<span style=\"color: #00af00; text-decoration-color: #00af00\">0</span>]   │\n",
              "│ (<span style=\"color: #0087ff; text-decoration-color: #0087ff\">BatchNormalizatio…</span> │                   │            │                   │\n",
              "├─────────────────────┼───────────────────┼────────────┼───────────────────┤\n",
              "│ input_layer_7       │ (<span style=\"color: #00d7ff; text-decoration-color: #00d7ff\">None</span>, <span style=\"color: #00af00; text-decoration-color: #00af00\">60</span>)        │          <span style=\"color: #00af00; text-decoration-color: #00af00\">0</span> │ -                 │\n",
              "│ (<span style=\"color: #0087ff; text-decoration-color: #0087ff\">InputLayer</span>)        │                   │            │                   │\n",
              "├─────────────────────┼───────────────────┼────────────┼───────────────────┤\n",
              "│ max_pooling1d_7     │ (<span style=\"color: #00d7ff; text-decoration-color: #00d7ff\">None</span>, <span style=\"color: #00af00; text-decoration-color: #00af00\">2000</span>, <span style=\"color: #00af00; text-decoration-color: #00af00\">64</span>)  │          <span style=\"color: #00af00; text-decoration-color: #00af00\">0</span> │ batch_normalizat… │\n",
              "│ (<span style=\"color: #0087ff; text-decoration-color: #0087ff\">MaxPooling1D</span>)      │                   │            │                   │\n",
              "├─────────────────────┼───────────────────┼────────────┼───────────────────┤\n",
              "│ batch_normalizatio… │ (<span style=\"color: #00d7ff; text-decoration-color: #00d7ff\">None</span>, <span style=\"color: #00af00; text-decoration-color: #00af00\">60</span>)        │        <span style=\"color: #00af00; text-decoration-color: #00af00\">240</span> │ input_layer_7[<span style=\"color: #00af00; text-decoration-color: #00af00\">0</span>]… │\n",
              "│ (<span style=\"color: #0087ff; text-decoration-color: #0087ff\">BatchNormalizatio…</span> │                   │            │                   │\n",
              "├─────────────────────┼───────────────────┼────────────┼───────────────────┤\n",
              "│ conv1d_11 (<span style=\"color: #0087ff; text-decoration-color: #0087ff\">Conv1D</span>)  │ (<span style=\"color: #00d7ff; text-decoration-color: #00d7ff\">None</span>, <span style=\"color: #00af00; text-decoration-color: #00af00\">2000</span>, <span style=\"color: #00af00; text-decoration-color: #00af00\">128</span>) │     <span style=\"color: #00af00; text-decoration-color: #00af00\">41,088</span> │ max_pooling1d_7[<span style=\"color: #00af00; text-decoration-color: #00af00\">…</span> │\n",
              "├─────────────────────┼───────────────────┼────────────┼───────────────────┤\n",
              "│ dense_12 (<span style=\"color: #0087ff; text-decoration-color: #0087ff\">Dense</span>)    │ (<span style=\"color: #00d7ff; text-decoration-color: #00d7ff\">None</span>, <span style=\"color: #00af00; text-decoration-color: #00af00\">128</span>)       │      <span style=\"color: #00af00; text-decoration-color: #00af00\">7,808</span> │ batch_normalizat… │\n",
              "├─────────────────────┼───────────────────┼────────────┼───────────────────┤\n",
              "│ batch_normalizatio… │ (<span style=\"color: #00d7ff; text-decoration-color: #00d7ff\">None</span>, <span style=\"color: #00af00; text-decoration-color: #00af00\">2000</span>, <span style=\"color: #00af00; text-decoration-color: #00af00\">128</span>) │        <span style=\"color: #00af00; text-decoration-color: #00af00\">512</span> │ conv1d_11[<span style=\"color: #00af00; text-decoration-color: #00af00\">0</span>][<span style=\"color: #00af00; text-decoration-color: #00af00\">0</span>]   │\n",
              "│ (<span style=\"color: #0087ff; text-decoration-color: #0087ff\">BatchNormalizatio…</span> │                   │            │                   │\n",
              "├─────────────────────┼───────────────────┼────────────┼───────────────────┤\n",
              "│ batch_normalizatio… │ (<span style=\"color: #00d7ff; text-decoration-color: #00d7ff\">None</span>, <span style=\"color: #00af00; text-decoration-color: #00af00\">128</span>)       │        <span style=\"color: #00af00; text-decoration-color: #00af00\">512</span> │ dense_12[<span style=\"color: #00af00; text-decoration-color: #00af00\">0</span>][<span style=\"color: #00af00; text-decoration-color: #00af00\">0</span>]    │\n",
              "│ (<span style=\"color: #0087ff; text-decoration-color: #0087ff\">BatchNormalizatio…</span> │                   │            │                   │\n",
              "├─────────────────────┼───────────────────┼────────────┼───────────────────┤\n",
              "│ global_average_poo… │ (<span style=\"color: #00d7ff; text-decoration-color: #00d7ff\">None</span>, <span style=\"color: #00af00; text-decoration-color: #00af00\">128</span>)       │          <span style=\"color: #00af00; text-decoration-color: #00af00\">0</span> │ batch_normalizat… │\n",
              "│ (<span style=\"color: #0087ff; text-decoration-color: #0087ff\">GlobalAveragePool…</span> │                   │            │                   │\n",
              "├─────────────────────┼───────────────────┼────────────┼───────────────────┤\n",
              "│ dropout_9 (<span style=\"color: #0087ff; text-decoration-color: #0087ff\">Dropout</span>) │ (<span style=\"color: #00d7ff; text-decoration-color: #00d7ff\">None</span>, <span style=\"color: #00af00; text-decoration-color: #00af00\">128</span>)       │          <span style=\"color: #00af00; text-decoration-color: #00af00\">0</span> │ batch_normalizat… │\n",
              "├─────────────────────┼───────────────────┼────────────┼───────────────────┤\n",
              "│ concatenate_3       │ (<span style=\"color: #00d7ff; text-decoration-color: #00d7ff\">None</span>, <span style=\"color: #00af00; text-decoration-color: #00af00\">256</span>)       │          <span style=\"color: #00af00; text-decoration-color: #00af00\">0</span> │ global_average_p… │\n",
              "│ (<span style=\"color: #0087ff; text-decoration-color: #0087ff\">Concatenate</span>)       │                   │            │ dropout_9[<span style=\"color: #00af00; text-decoration-color: #00af00\">0</span>][<span style=\"color: #00af00; text-decoration-color: #00af00\">0</span>]   │\n",
              "├─────────────────────┼───────────────────┼────────────┼───────────────────┤\n",
              "│ dense_13 (<span style=\"color: #0087ff; text-decoration-color: #0087ff\">Dense</span>)    │ (<span style=\"color: #00d7ff; text-decoration-color: #00d7ff\">None</span>, <span style=\"color: #00af00; text-decoration-color: #00af00\">256</span>)       │     <span style=\"color: #00af00; text-decoration-color: #00af00\">65,792</span> │ concatenate_3[<span style=\"color: #00af00; text-decoration-color: #00af00\">0</span>]… │\n",
              "├─────────────────────┼───────────────────┼────────────┼───────────────────┤\n",
              "│ batch_normalizatio… │ (<span style=\"color: #00d7ff; text-decoration-color: #00d7ff\">None</span>, <span style=\"color: #00af00; text-decoration-color: #00af00\">256</span>)       │      <span style=\"color: #00af00; text-decoration-color: #00af00\">1,024</span> │ dense_13[<span style=\"color: #00af00; text-decoration-color: #00af00\">0</span>][<span style=\"color: #00af00; text-decoration-color: #00af00\">0</span>]    │\n",
              "│ (<span style=\"color: #0087ff; text-decoration-color: #0087ff\">BatchNormalizatio…</span> │                   │            │                   │\n",
              "├─────────────────────┼───────────────────┼────────────┼───────────────────┤\n",
              "│ dropout_10          │ (<span style=\"color: #00d7ff; text-decoration-color: #00d7ff\">None</span>, <span style=\"color: #00af00; text-decoration-color: #00af00\">256</span>)       │          <span style=\"color: #00af00; text-decoration-color: #00af00\">0</span> │ batch_normalizat… │\n",
              "│ (<span style=\"color: #0087ff; text-decoration-color: #0087ff\">Dropout</span>)           │                   │            │                   │\n",
              "├─────────────────────┼───────────────────┼────────────┼───────────────────┤\n",
              "│ dense_14 (<span style=\"color: #0087ff; text-decoration-color: #0087ff\">Dense</span>)    │ (<span style=\"color: #00d7ff; text-decoration-color: #00d7ff\">None</span>, <span style=\"color: #00af00; text-decoration-color: #00af00\">128</span>)       │     <span style=\"color: #00af00; text-decoration-color: #00af00\">32,896</span> │ dropout_10[<span style=\"color: #00af00; text-decoration-color: #00af00\">0</span>][<span style=\"color: #00af00; text-decoration-color: #00af00\">0</span>]  │\n",
              "├─────────────────────┼───────────────────┼────────────┼───────────────────┤\n",
              "│ batch_normalizatio… │ (<span style=\"color: #00d7ff; text-decoration-color: #00d7ff\">None</span>, <span style=\"color: #00af00; text-decoration-color: #00af00\">128</span>)       │        <span style=\"color: #00af00; text-decoration-color: #00af00\">512</span> │ dense_14[<span style=\"color: #00af00; text-decoration-color: #00af00\">0</span>][<span style=\"color: #00af00; text-decoration-color: #00af00\">0</span>]    │\n",
              "│ (<span style=\"color: #0087ff; text-decoration-color: #0087ff\">BatchNormalizatio…</span> │                   │            │                   │\n",
              "├─────────────────────┼───────────────────┼────────────┼───────────────────┤\n",
              "│ dropout_11          │ (<span style=\"color: #00d7ff; text-decoration-color: #00d7ff\">None</span>, <span style=\"color: #00af00; text-decoration-color: #00af00\">128</span>)       │          <span style=\"color: #00af00; text-decoration-color: #00af00\">0</span> │ batch_normalizat… │\n",
              "│ (<span style=\"color: #0087ff; text-decoration-color: #0087ff\">Dropout</span>)           │                   │            │                   │\n",
              "├─────────────────────┼───────────────────┼────────────┼───────────────────┤\n",
              "│ dense_15 (<span style=\"color: #0087ff; text-decoration-color: #0087ff\">Dense</span>)    │ (<span style=\"color: #00d7ff; text-decoration-color: #00d7ff\">None</span>, <span style=\"color: #00af00; text-decoration-color: #00af00\">1</span>)         │        <span style=\"color: #00af00; text-decoration-color: #00af00\">129</span> │ dropout_11[<span style=\"color: #00af00; text-decoration-color: #00af00\">0</span>][<span style=\"color: #00af00; text-decoration-color: #00af00\">0</span>]  │\n",
              "└─────────────────────┴───────────────────┴────────────┴───────────────────┘\n",
              "</pre>\n"
            ],
            "text/plain": [
              "┏━━━━━━━━━━━━━━━━━━━━━┳━━━━━━━━━━━━━━━━━━━┳━━━━━━━━━━━━┳━━━━━━━━━━━━━━━━━━━┓\n",
              "┃\u001b[1m \u001b[0m\u001b[1mLayer (type)       \u001b[0m\u001b[1m \u001b[0m┃\u001b[1m \u001b[0m\u001b[1mOutput Shape     \u001b[0m\u001b[1m \u001b[0m┃\u001b[1m \u001b[0m\u001b[1m   Param #\u001b[0m\u001b[1m \u001b[0m┃\u001b[1m \u001b[0m\u001b[1mConnected to     \u001b[0m\u001b[1m \u001b[0m┃\n",
              "┡━━━━━━━━━━━━━━━━━━━━━╇━━━━━━━━━━━━━━━━━━━╇━━━━━━━━━━━━╇━━━━━━━━━━━━━━━━━━━┩\n",
              "│ input_layer_6       │ (\u001b[38;5;45mNone\u001b[0m, \u001b[38;5;34m8000\u001b[0m, \u001b[38;5;34m1\u001b[0m)   │          \u001b[38;5;34m0\u001b[0m │ -                 │\n",
              "│ (\u001b[38;5;33mInputLayer\u001b[0m)        │                   │            │                   │\n",
              "├─────────────────────┼───────────────────┼────────────┼───────────────────┤\n",
              "│ batch_normalizatio… │ (\u001b[38;5;45mNone\u001b[0m, \u001b[38;5;34m8000\u001b[0m, \u001b[38;5;34m1\u001b[0m)   │          \u001b[38;5;34m4\u001b[0m │ input_layer_6[\u001b[38;5;34m0\u001b[0m]… │\n",
              "│ (\u001b[38;5;33mBatchNormalizatio…\u001b[0m │                   │            │                   │\n",
              "├─────────────────────┼───────────────────┼────────────┼───────────────────┤\n",
              "│ conv1d_9 (\u001b[38;5;33mConv1D\u001b[0m)   │ (\u001b[38;5;45mNone\u001b[0m, \u001b[38;5;34m8000\u001b[0m, \u001b[38;5;34m32\u001b[0m)  │        \u001b[38;5;34m192\u001b[0m │ batch_normalizat… │\n",
              "├─────────────────────┼───────────────────┼────────────┼───────────────────┤\n",
              "│ batch_normalizatio… │ (\u001b[38;5;45mNone\u001b[0m, \u001b[38;5;34m8000\u001b[0m, \u001b[38;5;34m32\u001b[0m)  │        \u001b[38;5;34m128\u001b[0m │ conv1d_9[\u001b[38;5;34m0\u001b[0m][\u001b[38;5;34m0\u001b[0m]    │\n",
              "│ (\u001b[38;5;33mBatchNormalizatio…\u001b[0m │                   │            │                   │\n",
              "├─────────────────────┼───────────────────┼────────────┼───────────────────┤\n",
              "│ max_pooling1d_6     │ (\u001b[38;5;45mNone\u001b[0m, \u001b[38;5;34m4000\u001b[0m, \u001b[38;5;34m32\u001b[0m)  │          \u001b[38;5;34m0\u001b[0m │ batch_normalizat… │\n",
              "│ (\u001b[38;5;33mMaxPooling1D\u001b[0m)      │                   │            │                   │\n",
              "├─────────────────────┼───────────────────┼────────────┼───────────────────┤\n",
              "│ conv1d_10 (\u001b[38;5;33mConv1D\u001b[0m)  │ (\u001b[38;5;45mNone\u001b[0m, \u001b[38;5;34m4000\u001b[0m, \u001b[38;5;34m64\u001b[0m)  │     \u001b[38;5;34m10,304\u001b[0m │ max_pooling1d_6[\u001b[38;5;34m…\u001b[0m │\n",
              "├─────────────────────┼───────────────────┼────────────┼───────────────────┤\n",
              "│ batch_normalizatio… │ (\u001b[38;5;45mNone\u001b[0m, \u001b[38;5;34m4000\u001b[0m, \u001b[38;5;34m64\u001b[0m)  │        \u001b[38;5;34m256\u001b[0m │ conv1d_10[\u001b[38;5;34m0\u001b[0m][\u001b[38;5;34m0\u001b[0m]   │\n",
              "│ (\u001b[38;5;33mBatchNormalizatio…\u001b[0m │                   │            │                   │\n",
              "├─────────────────────┼───────────────────┼────────────┼───────────────────┤\n",
              "│ input_layer_7       │ (\u001b[38;5;45mNone\u001b[0m, \u001b[38;5;34m60\u001b[0m)        │          \u001b[38;5;34m0\u001b[0m │ -                 │\n",
              "│ (\u001b[38;5;33mInputLayer\u001b[0m)        │                   │            │                   │\n",
              "├─────────────────────┼───────────────────┼────────────┼───────────────────┤\n",
              "│ max_pooling1d_7     │ (\u001b[38;5;45mNone\u001b[0m, \u001b[38;5;34m2000\u001b[0m, \u001b[38;5;34m64\u001b[0m)  │          \u001b[38;5;34m0\u001b[0m │ batch_normalizat… │\n",
              "│ (\u001b[38;5;33mMaxPooling1D\u001b[0m)      │                   │            │                   │\n",
              "├─────────────────────┼───────────────────┼────────────┼───────────────────┤\n",
              "│ batch_normalizatio… │ (\u001b[38;5;45mNone\u001b[0m, \u001b[38;5;34m60\u001b[0m)        │        \u001b[38;5;34m240\u001b[0m │ input_layer_7[\u001b[38;5;34m0\u001b[0m]… │\n",
              "│ (\u001b[38;5;33mBatchNormalizatio…\u001b[0m │                   │            │                   │\n",
              "├─────────────────────┼───────────────────┼────────────┼───────────────────┤\n",
              "│ conv1d_11 (\u001b[38;5;33mConv1D\u001b[0m)  │ (\u001b[38;5;45mNone\u001b[0m, \u001b[38;5;34m2000\u001b[0m, \u001b[38;5;34m128\u001b[0m) │     \u001b[38;5;34m41,088\u001b[0m │ max_pooling1d_7[\u001b[38;5;34m…\u001b[0m │\n",
              "├─────────────────────┼───────────────────┼────────────┼───────────────────┤\n",
              "│ dense_12 (\u001b[38;5;33mDense\u001b[0m)    │ (\u001b[38;5;45mNone\u001b[0m, \u001b[38;5;34m128\u001b[0m)       │      \u001b[38;5;34m7,808\u001b[0m │ batch_normalizat… │\n",
              "├─────────────────────┼───────────────────┼────────────┼───────────────────┤\n",
              "│ batch_normalizatio… │ (\u001b[38;5;45mNone\u001b[0m, \u001b[38;5;34m2000\u001b[0m, \u001b[38;5;34m128\u001b[0m) │        \u001b[38;5;34m512\u001b[0m │ conv1d_11[\u001b[38;5;34m0\u001b[0m][\u001b[38;5;34m0\u001b[0m]   │\n",
              "│ (\u001b[38;5;33mBatchNormalizatio…\u001b[0m │                   │            │                   │\n",
              "├─────────────────────┼───────────────────┼────────────┼───────────────────┤\n",
              "│ batch_normalizatio… │ (\u001b[38;5;45mNone\u001b[0m, \u001b[38;5;34m128\u001b[0m)       │        \u001b[38;5;34m512\u001b[0m │ dense_12[\u001b[38;5;34m0\u001b[0m][\u001b[38;5;34m0\u001b[0m]    │\n",
              "│ (\u001b[38;5;33mBatchNormalizatio…\u001b[0m │                   │            │                   │\n",
              "├─────────────────────┼───────────────────┼────────────┼───────────────────┤\n",
              "│ global_average_poo… │ (\u001b[38;5;45mNone\u001b[0m, \u001b[38;5;34m128\u001b[0m)       │          \u001b[38;5;34m0\u001b[0m │ batch_normalizat… │\n",
              "│ (\u001b[38;5;33mGlobalAveragePool…\u001b[0m │                   │            │                   │\n",
              "├─────────────────────┼───────────────────┼────────────┼───────────────────┤\n",
              "│ dropout_9 (\u001b[38;5;33mDropout\u001b[0m) │ (\u001b[38;5;45mNone\u001b[0m, \u001b[38;5;34m128\u001b[0m)       │          \u001b[38;5;34m0\u001b[0m │ batch_normalizat… │\n",
              "├─────────────────────┼───────────────────┼────────────┼───────────────────┤\n",
              "│ concatenate_3       │ (\u001b[38;5;45mNone\u001b[0m, \u001b[38;5;34m256\u001b[0m)       │          \u001b[38;5;34m0\u001b[0m │ global_average_p… │\n",
              "│ (\u001b[38;5;33mConcatenate\u001b[0m)       │                   │            │ dropout_9[\u001b[38;5;34m0\u001b[0m][\u001b[38;5;34m0\u001b[0m]   │\n",
              "├─────────────────────┼───────────────────┼────────────┼───────────────────┤\n",
              "│ dense_13 (\u001b[38;5;33mDense\u001b[0m)    │ (\u001b[38;5;45mNone\u001b[0m, \u001b[38;5;34m256\u001b[0m)       │     \u001b[38;5;34m65,792\u001b[0m │ concatenate_3[\u001b[38;5;34m0\u001b[0m]… │\n",
              "├─────────────────────┼───────────────────┼────────────┼───────────────────┤\n",
              "│ batch_normalizatio… │ (\u001b[38;5;45mNone\u001b[0m, \u001b[38;5;34m256\u001b[0m)       │      \u001b[38;5;34m1,024\u001b[0m │ dense_13[\u001b[38;5;34m0\u001b[0m][\u001b[38;5;34m0\u001b[0m]    │\n",
              "│ (\u001b[38;5;33mBatchNormalizatio…\u001b[0m │                   │            │                   │\n",
              "├─────────────────────┼───────────────────┼────────────┼───────────────────┤\n",
              "│ dropout_10          │ (\u001b[38;5;45mNone\u001b[0m, \u001b[38;5;34m256\u001b[0m)       │          \u001b[38;5;34m0\u001b[0m │ batch_normalizat… │\n",
              "│ (\u001b[38;5;33mDropout\u001b[0m)           │                   │            │                   │\n",
              "├─────────────────────┼───────────────────┼────────────┼───────────────────┤\n",
              "│ dense_14 (\u001b[38;5;33mDense\u001b[0m)    │ (\u001b[38;5;45mNone\u001b[0m, \u001b[38;5;34m128\u001b[0m)       │     \u001b[38;5;34m32,896\u001b[0m │ dropout_10[\u001b[38;5;34m0\u001b[0m][\u001b[38;5;34m0\u001b[0m]  │\n",
              "├─────────────────────┼───────────────────┼────────────┼───────────────────┤\n",
              "│ batch_normalizatio… │ (\u001b[38;5;45mNone\u001b[0m, \u001b[38;5;34m128\u001b[0m)       │        \u001b[38;5;34m512\u001b[0m │ dense_14[\u001b[38;5;34m0\u001b[0m][\u001b[38;5;34m0\u001b[0m]    │\n",
              "│ (\u001b[38;5;33mBatchNormalizatio…\u001b[0m │                   │            │                   │\n",
              "├─────────────────────┼───────────────────┼────────────┼───────────────────┤\n",
              "│ dropout_11          │ (\u001b[38;5;45mNone\u001b[0m, \u001b[38;5;34m128\u001b[0m)       │          \u001b[38;5;34m0\u001b[0m │ batch_normalizat… │\n",
              "│ (\u001b[38;5;33mDropout\u001b[0m)           │                   │            │                   │\n",
              "├─────────────────────┼───────────────────┼────────────┼───────────────────┤\n",
              "│ dense_15 (\u001b[38;5;33mDense\u001b[0m)    │ (\u001b[38;5;45mNone\u001b[0m, \u001b[38;5;34m1\u001b[0m)         │        \u001b[38;5;34m129\u001b[0m │ dropout_11[\u001b[38;5;34m0\u001b[0m][\u001b[38;5;34m0\u001b[0m]  │\n",
              "└─────────────────────┴───────────────────┴────────────┴───────────────────┘\n"
            ]
          },
          "metadata": {},
          "output_type": "display_data"
        },
        {
          "data": {
            "text/html": [
              "<pre style=\"white-space:pre;overflow-x:auto;line-height:normal;font-family:Menlo,'DejaVu Sans Mono',consolas,'Courier New',monospace\"><span style=\"font-weight: bold\"> Total params: </span><span style=\"color: #00af00; text-decoration-color: #00af00\">161,397</span> (630.46 KB)\n",
              "</pre>\n"
            ],
            "text/plain": [
              "\u001b[1m Total params: \u001b[0m\u001b[38;5;34m161,397\u001b[0m (630.46 KB)\n"
            ]
          },
          "metadata": {},
          "output_type": "display_data"
        },
        {
          "data": {
            "text/html": [
              "<pre style=\"white-space:pre;overflow-x:auto;line-height:normal;font-family:Menlo,'DejaVu Sans Mono',consolas,'Courier New',monospace\"><span style=\"font-weight: bold\"> Trainable params: </span><span style=\"color: #00af00; text-decoration-color: #00af00\">159,803</span> (624.23 KB)\n",
              "</pre>\n"
            ],
            "text/plain": [
              "\u001b[1m Trainable params: \u001b[0m\u001b[38;5;34m159,803\u001b[0m (624.23 KB)\n"
            ]
          },
          "metadata": {},
          "output_type": "display_data"
        },
        {
          "data": {
            "text/html": [
              "<pre style=\"white-space:pre;overflow-x:auto;line-height:normal;font-family:Menlo,'DejaVu Sans Mono',consolas,'Courier New',monospace\"><span style=\"font-weight: bold\"> Non-trainable params: </span><span style=\"color: #00af00; text-decoration-color: #00af00\">1,594</span> (6.23 KB)\n",
              "</pre>\n"
            ],
            "text/plain": [
              "\u001b[1m Non-trainable params: \u001b[0m\u001b[38;5;34m1,594\u001b[0m (6.23 KB)\n"
            ]
          },
          "metadata": {},
          "output_type": "display_data"
        },
        {
          "name": "stdout",
          "output_type": "stream",
          "text": [
            "Epoch 1/100\n",
            "\u001b[1m26/26\u001b[0m \u001b[32m━━━━━━━━━━━━━━━━━━━━\u001b[0m\u001b[37m\u001b[0m \u001b[1m21s\u001b[0m 447ms/step - loss: 919.9874 - mae: 30.1674 - mse: 919.9874 - val_loss: 771.3480 - val_mae: 27.5491 - val_mse: 771.3481 - learning_rate: 0.0010\n",
            "Epoch 2/100\n",
            "\u001b[1m26/26\u001b[0m \u001b[32m━━━━━━━━━━━━━━━━━━━━\u001b[0m\u001b[37m\u001b[0m \u001b[1m7s\u001b[0m 86ms/step - loss: 889.1205 - mae: 29.6471 - mse: 889.1205 - val_loss: 784.1013 - val_mae: 27.7763 - val_mse: 784.1013 - learning_rate: 0.0010\n",
            "Epoch 3/100\n",
            "\u001b[1m26/26\u001b[0m \u001b[32m━━━━━━━━━━━━━━━━━━━━\u001b[0m\u001b[37m\u001b[0m \u001b[1m2s\u001b[0m 81ms/step - loss: 865.2930 - mae: 29.2391 - mse: 865.2930 - val_loss: 777.0379 - val_mae: 27.6485 - val_mse: 777.0379 - learning_rate: 0.0010\n",
            "Epoch 4/100\n",
            "\u001b[1m26/26\u001b[0m \u001b[32m━━━━━━━━━━━━━━━━━━━━\u001b[0m\u001b[37m\u001b[0m \u001b[1m3s\u001b[0m 86ms/step - loss: 823.1367 - mae: 28.5216 - mse: 823.1367 - val_loss: 755.8062 - val_mae: 27.2625 - val_mse: 755.8062 - learning_rate: 0.0010\n",
            "Epoch 5/100\n",
            "\u001b[1m26/26\u001b[0m \u001b[32m━━━━━━━━━━━━━━━━━━━━\u001b[0m\u001b[37m\u001b[0m \u001b[1m2s\u001b[0m 86ms/step - loss: 768.5917 - mae: 27.5601 - mse: 768.5917 - val_loss: 710.9633 - val_mae: 26.4373 - val_mse: 710.9633 - learning_rate: 0.0010\n",
            "Epoch 6/100\n",
            "\u001b[1m26/26\u001b[0m \u001b[32m━━━━━━━━━━━━━━━━━━━━\u001b[0m\u001b[37m\u001b[0m \u001b[1m2s\u001b[0m 93ms/step - loss: 699.8344 - mae: 26.2699 - mse: 699.8344 - val_loss: 609.6981 - val_mae: 24.4665 - val_mse: 609.6981 - learning_rate: 0.0010\n",
            "Epoch 7/100\n",
            "\u001b[1m26/26\u001b[0m \u001b[32m━━━━━━━━━━━━━━━━━━━━\u001b[0m\u001b[37m\u001b[0m \u001b[1m3s\u001b[0m 93ms/step - loss: 619.4232 - mae: 24.6587 - mse: 619.4232 - val_loss: 528.0463 - val_mae: 22.7513 - val_mse: 528.0463 - learning_rate: 0.0010\n",
            "Epoch 8/100\n",
            "\u001b[1m26/26\u001b[0m \u001b[32m━━━━━━━━━━━━━━━━━━━━\u001b[0m\u001b[37m\u001b[0m \u001b[1m2s\u001b[0m 86ms/step - loss: 513.4167 - mae: 22.3694 - mse: 513.4167 - val_loss: 402.9836 - val_mae: 19.8477 - val_mse: 402.9836 - learning_rate: 0.0010\n",
            "Epoch 9/100\n",
            "\u001b[1m26/26\u001b[0m \u001b[32m━━━━━━━━━━━━━━━━━━━━\u001b[0m\u001b[37m\u001b[0m \u001b[1m3s\u001b[0m 86ms/step - loss: 422.1773 - mae: 20.2358 - mse: 422.1773 - val_loss: 314.8859 - val_mae: 17.5101 - val_mse: 314.8859 - learning_rate: 0.0010\n",
            "Epoch 10/100\n",
            "\u001b[1m26/26\u001b[0m \u001b[32m━━━━━━━━━━━━━━━━━━━━\u001b[0m\u001b[37m\u001b[0m \u001b[1m2s\u001b[0m 87ms/step - loss: 327.3331 - mae: 17.7432 - mse: 327.3331 - val_loss: 246.2750 - val_mae: 15.4309 - val_mse: 246.2750 - learning_rate: 0.0010\n",
            "Epoch 11/100\n",
            "\u001b[1m26/26\u001b[0m \u001b[32m━━━━━━━━━━━━━━━━━━━━\u001b[0m\u001b[37m\u001b[0m \u001b[1m2s\u001b[0m 87ms/step - loss: 242.0289 - mae: 15.2034 - mse: 242.0289 - val_loss: 180.1125 - val_mae: 13.1764 - val_mse: 180.1125 - learning_rate: 0.0010\n",
            "Epoch 12/100\n",
            "\u001b[1m26/26\u001b[0m \u001b[32m━━━━━━━━━━━━━━━━━━━━\u001b[0m\u001b[37m\u001b[0m \u001b[1m2s\u001b[0m 93ms/step - loss: 175.0092 - mae: 12.7949 - mse: 175.0092 - val_loss: 116.0881 - val_mae: 10.5070 - val_mse: 116.0881 - learning_rate: 0.0010\n",
            "Epoch 13/100\n",
            "\u001b[1m26/26\u001b[0m \u001b[32m━━━━━━━━━━━━━━━━━━━━\u001b[0m\u001b[37m\u001b[0m \u001b[1m2s\u001b[0m 87ms/step - loss: 116.0786 - mae: 10.2471 - mse: 116.0786 - val_loss: 77.2686 - val_mae: 8.4354 - val_mse: 77.2687 - learning_rate: 0.0010\n",
            "Epoch 14/100\n",
            "\u001b[1m26/26\u001b[0m \u001b[32m━━━━━━━━━━━━━━━━━━━━\u001b[0m\u001b[37m\u001b[0m \u001b[1m3s\u001b[0m 87ms/step - loss: 76.7331 - mae: 8.1352 - mse: 76.7331 - val_loss: 47.1451 - val_mae: 6.3382 - val_mse: 47.1451 - learning_rate: 0.0010\n",
            "Epoch 15/100\n",
            "\u001b[1m26/26\u001b[0m \u001b[32m━━━━━━━━━━━━━━━━━━━━\u001b[0m\u001b[37m\u001b[0m \u001b[1m2s\u001b[0m 87ms/step - loss: 50.0714 - mae: 6.2648 - mse: 50.0714 - val_loss: 31.2510 - val_mae: 4.8661 - val_mse: 31.2510 - learning_rate: 0.0010\n",
            "Epoch 16/100\n",
            "\u001b[1m26/26\u001b[0m \u001b[32m━━━━━━━━━━━━━━━━━━━━\u001b[0m\u001b[37m\u001b[0m \u001b[1m2s\u001b[0m 87ms/step - loss: 35.3899 - mae: 4.9914 - mse: 35.3899 - val_loss: 22.5975 - val_mae: 3.7332 - val_mse: 22.5975 - learning_rate: 0.0010\n",
            "Epoch 17/100\n",
            "\u001b[1m26/26\u001b[0m \u001b[32m━━━━━━━━━━━━━━━━━━━━\u001b[0m\u001b[37m\u001b[0m \u001b[1m2s\u001b[0m 89ms/step - loss: 24.4560 - mae: 3.8854 - mse: 24.4560 - val_loss: 19.5865 - val_mae: 3.0740 - val_mse: 19.5865 - learning_rate: 0.0010\n",
            "Epoch 18/100\n",
            "\u001b[1m26/26\u001b[0m \u001b[32m━━━━━━━━━━━━━━━━━━━━\u001b[0m\u001b[37m\u001b[0m \u001b[1m2s\u001b[0m 89ms/step - loss: 20.8373 - mae: 3.4883 - mse: 20.8373 - val_loss: 15.4555 - val_mae: 2.0949 - val_mse: 15.4555 - learning_rate: 0.0010\n",
            "Epoch 19/100\n",
            "\u001b[1m26/26\u001b[0m \u001b[32m━━━━━━━━━━━━━━━━━━━━\u001b[0m\u001b[37m\u001b[0m \u001b[1m2s\u001b[0m 87ms/step - loss: 18.3692 - mae: 3.1100 - mse: 18.3692 - val_loss: 14.0510 - val_mae: 1.9029 - val_mse: 14.0510 - learning_rate: 0.0010\n",
            "Epoch 20/100\n",
            "\u001b[1m26/26\u001b[0m \u001b[32m━━━━━━━━━━━━━━━━━━━━\u001b[0m\u001b[37m\u001b[0m \u001b[1m2s\u001b[0m 87ms/step - loss: 17.6261 - mae: 3.0144 - mse: 17.6261 - val_loss: 14.2212 - val_mae: 1.6638 - val_mse: 14.2212 - learning_rate: 0.0010\n",
            "Epoch 21/100\n",
            "\u001b[1m26/26\u001b[0m \u001b[32m━━━━━━━━━━━━━━━━━━━━\u001b[0m\u001b[37m\u001b[0m \u001b[1m3s\u001b[0m 88ms/step - loss: 18.0379 - mae: 2.9394 - mse: 18.0379 - val_loss: 13.0832 - val_mae: 1.6311 - val_mse: 13.0832 - learning_rate: 0.0010\n",
            "Epoch 22/100\n",
            "\u001b[1m26/26\u001b[0m \u001b[32m━━━━━━━━━━━━━━━━━━━━\u001b[0m\u001b[37m\u001b[0m \u001b[1m2s\u001b[0m 82ms/step - loss: 17.8543 - mae: 2.9450 - mse: 17.8543 - val_loss: 14.7574 - val_mae: 1.7168 - val_mse: 14.7574 - learning_rate: 0.0010\n",
            "Epoch 23/100\n",
            "\u001b[1m26/26\u001b[0m \u001b[32m━━━━━━━━━━━━━━━━━━━━\u001b[0m\u001b[37m\u001b[0m \u001b[1m3s\u001b[0m 91ms/step - loss: 16.7146 - mae: 2.8284 - mse: 16.7146 - val_loss: 12.9644 - val_mae: 1.3192 - val_mse: 12.9644 - learning_rate: 0.0010\n",
            "Epoch 24/100\n",
            "\u001b[1m26/26\u001b[0m \u001b[32m━━━━━━━━━━━━━━━━━━━━\u001b[0m\u001b[37m\u001b[0m \u001b[1m2s\u001b[0m 84ms/step - loss: 17.6514 - mae: 2.8525 - mse: 17.6514 - val_loss: 13.9691 - val_mae: 1.4926 - val_mse: 13.9691 - learning_rate: 0.0010\n",
            "Epoch 25/100\n",
            "\u001b[1m26/26\u001b[0m \u001b[32m━━━━━━━━━━━━━━━━━━━━\u001b[0m\u001b[37m\u001b[0m \u001b[1m2s\u001b[0m 83ms/step - loss: 15.6436 - mae: 2.7574 - mse: 15.6436 - val_loss: 13.7139 - val_mae: 1.4257 - val_mse: 13.7139 - learning_rate: 0.0010\n",
            "Epoch 26/100\n",
            "\u001b[1m26/26\u001b[0m \u001b[32m━━━━━━━━━━━━━━━━━━━━\u001b[0m\u001b[37m\u001b[0m \u001b[1m2s\u001b[0m 83ms/step - loss: 18.6758 - mae: 2.9241 - mse: 18.6758 - val_loss: 13.1173 - val_mae: 1.3863 - val_mse: 13.1173 - learning_rate: 0.0010\n",
            "Epoch 27/100\n",
            "\u001b[1m26/26\u001b[0m \u001b[32m━━━━━━━━━━━━━━━━━━━━\u001b[0m\u001b[37m\u001b[0m \u001b[1m2s\u001b[0m 82ms/step - loss: 13.8996 - mae: 2.5903 - mse: 13.8996 - val_loss: 13.0055 - val_mae: 1.3376 - val_mse: 13.0055 - learning_rate: 0.0010\n",
            "Epoch 28/100\n",
            "\u001b[1m26/26\u001b[0m \u001b[32m━━━━━━━━━━━━━━━━━━━━\u001b[0m\u001b[37m\u001b[0m \u001b[1m3s\u001b[0m 84ms/step - loss: 16.2962 - mae: 2.7871 - mse: 16.2962 - val_loss: 13.7843 - val_mae: 1.5003 - val_mse: 13.7843 - learning_rate: 0.0010\n",
            "Epoch 29/100\n",
            "\u001b[1m26/26\u001b[0m \u001b[32m━━━━━━━━━━━━━━━━━━━━\u001b[0m\u001b[37m\u001b[0m \u001b[1m2s\u001b[0m 88ms/step - loss: 13.9344 - mae: 2.5396 - mse: 13.9344 - val_loss: 13.5061 - val_mae: 1.2992 - val_mse: 13.5061 - learning_rate: 5.0000e-04\n",
            "Epoch 30/100\n",
            "\u001b[1m26/26\u001b[0m \u001b[32m━━━━━━━━━━━━━━━━━━━━\u001b[0m\u001b[37m\u001b[0m \u001b[1m2s\u001b[0m 82ms/step - loss: 13.9739 - mae: 2.6137 - mse: 13.9739 - val_loss: 13.5667 - val_mae: 1.3319 - val_mse: 13.5667 - learning_rate: 5.0000e-04\n",
            "Epoch 31/100\n",
            "\u001b[1m26/26\u001b[0m \u001b[32m━━━━━━━━━━━━━━━━━━━━\u001b[0m\u001b[37m\u001b[0m \u001b[1m2s\u001b[0m 87ms/step - loss: 16.6764 - mae: 2.7688 - mse: 16.6764 - val_loss: 12.6789 - val_mae: 1.1945 - val_mse: 12.6789 - learning_rate: 5.0000e-04\n",
            "Epoch 32/100\n",
            "\u001b[1m26/26\u001b[0m \u001b[32m━━━━━━━━━━━━━━━━━━━━\u001b[0m\u001b[37m\u001b[0m \u001b[1m2s\u001b[0m 82ms/step - loss: 15.6214 - mae: 2.7189 - mse: 15.6214 - val_loss: 13.3102 - val_mae: 1.2785 - val_mse: 13.3102 - learning_rate: 5.0000e-04\n",
            "Epoch 33/100\n",
            "\u001b[1m26/26\u001b[0m \u001b[32m━━━━━━━━━━━━━━━━━━━━\u001b[0m\u001b[37m\u001b[0m \u001b[1m2s\u001b[0m 82ms/step - loss: 17.7025 - mae: 2.8387 - mse: 17.7025 - val_loss: 13.1025 - val_mae: 1.2212 - val_mse: 13.1025 - learning_rate: 5.0000e-04\n",
            "Epoch 34/100\n",
            "\u001b[1m26/26\u001b[0m \u001b[32m━━━━━━━━━━━━━━━━━━━━\u001b[0m\u001b[37m\u001b[0m \u001b[1m3s\u001b[0m 93ms/step - loss: 15.9573 - mae: 2.6526 - mse: 15.9573 - val_loss: 12.8012 - val_mae: 1.1629 - val_mse: 12.8012 - learning_rate: 5.0000e-04\n",
            "Epoch 35/100\n",
            "\u001b[1m26/26\u001b[0m \u001b[32m━━━━━━━━━━━━━━━━━━━━\u001b[0m\u001b[37m\u001b[0m \u001b[1m2s\u001b[0m 83ms/step - loss: 16.6662 - mae: 2.7864 - mse: 16.6662 - val_loss: 12.7002 - val_mae: 1.2014 - val_mse: 12.7002 - learning_rate: 5.0000e-04\n",
            "Epoch 36/100\n",
            "\u001b[1m26/26\u001b[0m \u001b[32m━━━━━━━━━━━━━━━━━━━━\u001b[0m\u001b[37m\u001b[0m \u001b[1m2s\u001b[0m 83ms/step - loss: 17.0151 - mae: 2.6819 - mse: 17.0151 - val_loss: 13.1636 - val_mae: 1.2513 - val_mse: 13.1636 - learning_rate: 5.0000e-04\n",
            "Epoch 37/100\n",
            "\u001b[1m26/26\u001b[0m \u001b[32m━━━━━━━━━━━━━━━━━━━━\u001b[0m\u001b[37m\u001b[0m \u001b[1m2s\u001b[0m 82ms/step - loss: 15.5511 - mae: 2.6476 - mse: 15.5511 - val_loss: 13.2765 - val_mae: 1.2870 - val_mse: 13.2765 - learning_rate: 5.0000e-04\n",
            "Epoch 38/100\n",
            "\u001b[1m26/26\u001b[0m \u001b[32m━━━━━━━━━━━━━━━━━━━━\u001b[0m\u001b[37m\u001b[0m \u001b[1m3s\u001b[0m 82ms/step - loss: 14.8105 - mae: 2.6357 - mse: 14.8105 - val_loss: 12.7553 - val_mae: 1.2055 - val_mse: 12.7553 - learning_rate: 5.0000e-04\n",
            "Epoch 39/100\n",
            "\u001b[1m26/26\u001b[0m \u001b[32m━━━━━━━━━━━━━━━━━━━━\u001b[0m\u001b[37m\u001b[0m \u001b[1m3s\u001b[0m 87ms/step - loss: 14.8249 - mae: 2.6421 - mse: 14.8249 - val_loss: 13.4169 - val_mae: 1.3165 - val_mse: 13.4169 - learning_rate: 5.0000e-04\n",
            "Epoch 40/100\n",
            "\u001b[1m26/26\u001b[0m \u001b[32m━━━━━━━━━━━━━━━━━━━━\u001b[0m\u001b[37m\u001b[0m \u001b[1m2s\u001b[0m 84ms/step - loss: 13.2160 - mae: 2.5357 - mse: 13.2160 - val_loss: 13.2237 - val_mae: 1.2632 - val_mse: 13.2237 - learning_rate: 2.5000e-04\n",
            "Epoch 41/100\n",
            "\u001b[1m26/26\u001b[0m \u001b[32m━━━━━━━━━━━━━━━━━━━━\u001b[0m\u001b[37m\u001b[0m \u001b[1m2s\u001b[0m 82ms/step - loss: 13.5667 - mae: 2.5495 - mse: 13.5667 - val_loss: 12.8672 - val_mae: 1.2763 - val_mse: 12.8672 - learning_rate: 2.5000e-04\n",
            "Epoch 42/100\n",
            "\u001b[1m26/26\u001b[0m \u001b[32m━━━━━━━━━━━━━━━━━━━━\u001b[0m\u001b[37m\u001b[0m \u001b[1m3s\u001b[0m 82ms/step - loss: 13.4522 - mae: 2.5362 - mse: 13.4522 - val_loss: 12.7717 - val_mae: 1.2352 - val_mse: 12.7717 - learning_rate: 2.5000e-04\n",
            "Epoch 43/100\n",
            "\u001b[1m26/26\u001b[0m \u001b[32m━━━━━━━━━━━━━━━━━━━━\u001b[0m\u001b[37m\u001b[0m \u001b[1m3s\u001b[0m 82ms/step - loss: 14.8082 - mae: 2.5468 - mse: 14.8082 - val_loss: 13.1320 - val_mae: 1.2599 - val_mse: 13.1320 - learning_rate: 2.5000e-04\n",
            "Epoch 44/100\n",
            "\u001b[1m26/26\u001b[0m \u001b[32m━━━━━━━━━━━━━━━━━━━━\u001b[0m\u001b[37m\u001b[0m \u001b[1m2s\u001b[0m 83ms/step - loss: 14.3745 - mae: 2.5691 - mse: 14.3745 - val_loss: 13.0415 - val_mae: 1.2108 - val_mse: 13.0415 - learning_rate: 2.5000e-04\n",
            "Epoch 45/100\n",
            "\u001b[1m26/26\u001b[0m \u001b[32m━━━━━━━━━━━━━━━━━━━━\u001b[0m\u001b[37m\u001b[0m \u001b[1m2s\u001b[0m 85ms/step - loss: 14.6784 - mae: 2.6314 - mse: 14.6784 - val_loss: 13.0864 - val_mae: 1.2201 - val_mse: 13.0864 - learning_rate: 1.2500e-04\n",
            "Epoch 46/100\n",
            "\u001b[1m26/26\u001b[0m \u001b[32m━━━━━━━━━━━━━━━━━━━━\u001b[0m\u001b[37m\u001b[0m \u001b[1m2s\u001b[0m 82ms/step - loss: 15.6439 - mae: 2.7000 - mse: 15.6439 - val_loss: 12.8870 - val_mae: 1.1765 - val_mse: 12.8870 - learning_rate: 1.2500e-04\n",
            "Epoch 47/100\n",
            "\u001b[1m26/26\u001b[0m \u001b[32m━━━━━━━━━━━━━━━━━━━━\u001b[0m\u001b[37m\u001b[0m \u001b[1m2s\u001b[0m 87ms/step - loss: 13.9470 - mae: 2.6058 - mse: 13.9470 - val_loss: 12.8678 - val_mae: 1.1570 - val_mse: 12.8678 - learning_rate: 1.2500e-04\n",
            "Epoch 48/100\n",
            "\u001b[1m26/26\u001b[0m \u001b[32m━━━━━━━━━━━━━━━━━━━━\u001b[0m\u001b[37m\u001b[0m \u001b[1m2s\u001b[0m 82ms/step - loss: 14.0433 - mae: 2.5212 - mse: 14.0433 - val_loss: 12.9760 - val_mae: 1.1720 - val_mse: 12.9760 - learning_rate: 1.2500e-04\n",
            "Epoch 49/100\n",
            "\u001b[1m26/26\u001b[0m \u001b[32m━━━━━━━━━━━━━━━━━━━━\u001b[0m\u001b[37m\u001b[0m \u001b[1m3s\u001b[0m 83ms/step - loss: 14.8259 - mae: 2.6423 - mse: 14.8259 - val_loss: 12.8663 - val_mae: 1.1660 - val_mse: 12.8663 - learning_rate: 1.2500e-04\n",
            "Epoch 50/100\n",
            "\u001b[1m26/26\u001b[0m \u001b[32m━━━━━━━━━━━━━━━━━━━━\u001b[0m\u001b[37m\u001b[0m \u001b[1m2s\u001b[0m 84ms/step - loss: 15.5236 - mae: 2.5443 - mse: 15.5236 - val_loss: 12.8332 - val_mae: 1.1791 - val_mse: 12.8332 - learning_rate: 1.2500e-04\n",
            "Epoch 51/100\n",
            "\u001b[1m26/26\u001b[0m \u001b[32m━━━━━━━━━━━━━━━━━━━━\u001b[0m\u001b[37m\u001b[0m \u001b[1m2s\u001b[0m 84ms/step - loss: 13.6964 - mae: 2.5492 - mse: 13.6964 - val_loss: 12.8571 - val_mae: 1.1800 - val_mse: 12.8571 - learning_rate: 1.2500e-04\n",
            "Epoch 52/100\n",
            "\u001b[1m26/26\u001b[0m \u001b[32m━━━━━━━━━━━━━━━━━━━━\u001b[0m\u001b[37m\u001b[0m \u001b[1m2s\u001b[0m 82ms/step - loss: 15.6366 - mae: 2.6107 - mse: 15.6366 - val_loss: 13.1036 - val_mae: 1.2455 - val_mse: 13.1036 - learning_rate: 1.2500e-04\n",
            "Epoch 53/100\n",
            "\u001b[1m26/26\u001b[0m \u001b[32m━━━━━━━━━━━━━━━━━━━━\u001b[0m\u001b[37m\u001b[0m \u001b[1m2s\u001b[0m 82ms/step - loss: 14.0534 - mae: 2.5968 - mse: 14.0534 - val_loss: 13.1779 - val_mae: 1.2565 - val_mse: 13.1779 - learning_rate: 6.2500e-05\n",
            "Epoch 54/100\n",
            "\u001b[1m26/26\u001b[0m \u001b[32m━━━━━━━━━━━━━━━━━━━━\u001b[0m\u001b[37m\u001b[0m \u001b[1m2s\u001b[0m 83ms/step - loss: 15.2842 - mae: 2.6009 - mse: 15.2842 - val_loss: 13.0894 - val_mae: 1.2293 - val_mse: 13.0894 - learning_rate: 6.2500e-05\n",
            "Epoch 55/100\n",
            "\u001b[1m26/26\u001b[0m \u001b[32m━━━━━━━━━━━━━━━━━━━━\u001b[0m\u001b[37m\u001b[0m \u001b[1m3s\u001b[0m 82ms/step - loss: 14.9019 - mae: 2.6444 - mse: 14.9019 - val_loss: 13.0282 - val_mae: 1.2058 - val_mse: 13.0282 - learning_rate: 6.2500e-05\n",
            "Epoch 56/100\n",
            "\u001b[1m26/26\u001b[0m \u001b[32m━━━━━━━━━━━━━━━━━━━━\u001b[0m\u001b[37m\u001b[0m \u001b[1m3s\u001b[0m 90ms/step - loss: 13.5099 - mae: 2.4817 - mse: 13.5099 - val_loss: 13.0182 - val_mae: 1.2059 - val_mse: 13.0182 - learning_rate: 6.2500e-05\n",
            "Epoch 57/100\n",
            "\u001b[1m26/26\u001b[0m \u001b[32m━━━━━━━━━━━━━━━━━━━━\u001b[0m\u001b[37m\u001b[0m \u001b[1m2s\u001b[0m 82ms/step - loss: 12.6762 - mae: 2.4286 - mse: 12.6762 - val_loss: 12.9873 - val_mae: 1.1926 - val_mse: 12.9873 - learning_rate: 6.2500e-05\n",
            "Epoch 58/100\n",
            "\u001b[1m26/26\u001b[0m \u001b[32m━━━━━━━━━━━━━━━━━━━━\u001b[0m\u001b[37m\u001b[0m \u001b[1m3s\u001b[0m 82ms/step - loss: 14.5813 - mae: 2.5360 - mse: 14.5813 - val_loss: 12.9213 - val_mae: 1.1873 - val_mse: 12.9213 - learning_rate: 3.1250e-05\n",
            "Epoch 59/100\n",
            "\u001b[1m26/26\u001b[0m \u001b[32m━━━━━━━━━━━━━━━━━━━━\u001b[0m\u001b[37m\u001b[0m \u001b[1m2s\u001b[0m 83ms/step - loss: 13.3084 - mae: 2.4968 - mse: 13.3084 - val_loss: 12.8910 - val_mae: 1.1897 - val_mse: 12.8910 - learning_rate: 3.1250e-05\n",
            "Epoch 60/100\n",
            "\u001b[1m26/26\u001b[0m \u001b[32m━━━━━━━━━━━━━━━━━━━━\u001b[0m\u001b[37m\u001b[0m \u001b[1m3s\u001b[0m 82ms/step - loss: 16.1004 - mae: 2.6112 - mse: 16.1004 - val_loss: 12.9295 - val_mae: 1.1922 - val_mse: 12.9295 - learning_rate: 3.1250e-05\n",
            "Epoch 61/100\n",
            "\u001b[1m26/26\u001b[0m \u001b[32m━━━━━━━━━━━━━━━━━━━━\u001b[0m\u001b[37m\u001b[0m \u001b[1m2s\u001b[0m 89ms/step - loss: 14.9098 - mae: 2.5145 - mse: 14.9098 - val_loss: 13.0039 - val_mae: 1.1952 - val_mse: 13.0039 - learning_rate: 3.1250e-05\n",
            "Epoch 62/100\n",
            "\u001b[1m26/26\u001b[0m \u001b[32m━━━━━━━━━━━━━━━━━━━━\u001b[0m\u001b[37m\u001b[0m \u001b[1m2s\u001b[0m 83ms/step - loss: 14.3563 - mae: 2.5374 - mse: 14.3563 - val_loss: 12.9961 - val_mae: 1.1951 - val_mse: 12.9961 - learning_rate: 3.1250e-05\n"
          ]
        }
      ],
      "source": [
        "# ------------------- Carga de Datos -------------------\n",
        "X_raw_train, X_wavelets_train, y_train, train_files = load_data(train_data_path)\n",
        "X_raw_val, X_wavelets_val, y_val, val_files = load_data(val_data_path)\n",
        "X_raw_test, X_wavelets_test, y_test, test_files = load_data(test_data_path)\n",
        "\n",
        "print('Formas:')\n",
        "print(f'Entrenamiento señales crudas: {X_raw_train.shape}')\n",
        "print(f'Validación señales crudas: {X_raw_val.shape}')\n",
        "print(f'Prueba señales crudas: {X_raw_test.shape}')\n",
        "\n",
        "# ------------------- Creación del Modelo -------------------\n",
        "def create_model(input_shape_raw, input_shape_wavelets):\n",
        "    raw_input = tf.keras.layers.Input(shape=input_shape_raw)\n",
        "    x1 = tf.keras.layers.BatchNormalization()(raw_input)\n",
        "    x1 = tf.keras.layers.Conv1D(32, 5, padding='same', activation='relu')(x1)\n",
        "    x1 = tf.keras.layers.BatchNormalization()(x1)\n",
        "    x1 = tf.keras.layers.MaxPooling1D(2)(x1)\n",
        "    x1 = tf.keras.layers.Conv1D(64, 5, padding='same', activation='relu')(x1)\n",
        "    x1 = tf.keras.layers.BatchNormalization()(x1)\n",
        "    x1 = tf.keras.layers.MaxPooling1D(2)(x1)\n",
        "    x1 = tf.keras.layers.Conv1D(128, 5, padding='same', activation='relu')(x1)\n",
        "    x1 = tf.keras.layers.BatchNormalization()(x1)\n",
        "    x1 = tf.keras.layers.GlobalAveragePooling1D()(x1)\n",
        "\n",
        "    wavelet_input = tf.keras.layers.Input(shape=input_shape_wavelets)\n",
        "    x2 = tf.keras.layers.BatchNormalization()(wavelet_input)\n",
        "    x2 = tf.keras.layers.Dense(128, activation='relu')(x2)\n",
        "    x2 = tf.keras.layers.BatchNormalization()(x2)\n",
        "    x2 = tf.keras.layers.Dropout(0.3)(x2)\n",
        "\n",
        "    combined = tf.keras.layers.concatenate([x1, x2])\n",
        "\n",
        "    x = tf.keras.layers.Dense(256, activation='relu')(combined)\n",
        "    x = tf.keras.layers.BatchNormalization()(x)\n",
        "    x = tf.keras.layers.Dropout(0.3)(x)\n",
        "    x = tf.keras.layers.Dense(128, activation='relu')(x)\n",
        "    x = tf.keras.layers.BatchNormalization()(x)\n",
        "    x = tf.keras.layers.Dropout(0.2)(x)\n",
        "\n",
        "    output = tf.keras.layers.Dense(1)(x)\n",
        "\n",
        "    model = tf.keras.Model(inputs=[raw_input, wavelet_input], outputs=output)\n",
        "    return model\n",
        "\n",
        "input_shape_raw = (8000, 1)\n",
        "input_shape_wavelets = (X_wavelets_train.shape[1],)\n",
        "\n",
        "model = create_model(input_shape_raw, input_shape_wavelets)\n",
        "optimizer = tf.keras.optimizers.Adam(learning_rate=0.001)\n",
        "\n",
        "model.compile(optimizer=optimizer, loss='mse', metrics=['mae', 'mse'])\n",
        "model.summary()\n",
        "\n",
        "# ------------------- Callbacks -------------------\n",
        "callbacks = [\n",
        "    tf.keras.callbacks.EarlyStopping(monitor='val_mae', patience=15, restore_best_weights=True, mode='min'),\n",
        "    tf.keras.callbacks.ReduceLROnPlateau(monitor='val_mae', factor=0.5, patience=5, min_lr=1e-6, mode='min'),\n",
        "    tf.keras.callbacks.ModelCheckpoint(filepath='normal_data.keras', monitor='val_mae', save_best_only=True, mode='min')\n",
        "]\n",
        "\n",
        "# ------------------- Entrenamiento -------------------\n",
        "history = model.fit(\n",
        "    [X_raw_train, X_wavelets_train],\n",
        "    y_train,\n",
        "    validation_data=([X_raw_val, X_wavelets_val], y_val),\n",
        "    epochs=100,\n",
        "    batch_size=64,\n",
        "    callbacks=callbacks,\n",
        "    verbose=1\n",
        ")"
      ]
    },
    {
      "cell_type": "code",
      "execution_count": 28,
      "id": "3TepBuQsi5Uh",
      "metadata": {
        "colab": {
          "base_uri": "https://localhost:8080/"
        },
        "id": "3TepBuQsi5Uh",
        "outputId": "0b62b56f-7456-43b8-c9be-e904da1b8f5e"
      },
      "outputs": [
        {
          "name": "stdout",
          "output_type": "stream",
          "text": [
            "Realizando predicciones en conjunto de prueba...\n",
            "\u001b[1m16/16\u001b[0m \u001b[32m━━━━━━━━━━━━━━━━━━━━\u001b[0m\u001b[37m\u001b[0m \u001b[1m1s\u001b[0m 42ms/step\n"
          ]
        }
      ],
      "source": [
        "# ------------------- Evaluación -------------------\n",
        "print('Realizando predicciones en conjunto de prueba...')\n",
        "y_pred = model.predict([X_raw_test, X_wavelets_test])\n",
        "\n",
        "# Guardar resultados\n",
        "results_df = pd.DataFrame({\n",
        "    'file': test_files['file'],\n",
        "    'real_time': y_test,\n",
        "    'predicted_time': y_pred.flatten(),\n",
        "    'error': y_pred.flatten() - y_test\n",
        "})\n",
        "results_df['abs_error'] = np.abs(results_df['error'])\n",
        "results_df = results_df.sort_values('abs_error', ascending=False)\n",
        "\n",
        "results_df.to_csv(os.path.join(features_path, 'model_evaluation_results.csv'), index=False)\n"
      ]
    },
    {
      "cell_type": "code",
      "execution_count": 29,
      "id": "cO7UNjKAp4ED",
      "metadata": {
        "colab": {
          "base_uri": "https://localhost:8080/"
        },
        "id": "cO7UNjKAp4ED",
        "outputId": "f21cdbd4-1a87-48f9-dd86-a4fa33caa902"
      },
      "outputs": [
        {
          "name": "stdout",
          "output_type": "stream",
          "text": [
            "\n",
            "Métricas de rendimiento en conjunto de prueba:\n",
            "MAE: 0.9401 segundos\n",
            "RMSE: 2.8205 segundos\n",
            "Máximo error: 30.8757 segundos\n"
          ]
        }
      ],
      "source": [
        "# ------------------- Métricas Finales -------------------\n",
        "print('\\nMétricas de rendimiento en conjunto de prueba:')\n",
        "mae = np.mean(np.abs(results_df['error']))\n",
        "rmse = np.sqrt(np.mean(results_df['error']**2))\n",
        "max_error = np.max(results_df['abs_error'])\n",
        "\n",
        "print(f'MAE: {mae:.4f} segundos')\n",
        "print(f'RMSE: {rmse:.4f} segundos')\n",
        "print(f'Máximo error: {max_error:.4f} segundos')"
      ]
    },
    {
      "cell_type": "code",
      "execution_count": 30,
      "id": "SO8w7hfLp6tV",
      "metadata": {
        "colab": {
          "base_uri": "https://localhost:8080/",
          "height": 629
        },
        "id": "SO8w7hfLp6tV",
        "outputId": "de023ab1-5828-44ac-f12e-9152cbd4f6d5"
      },
      "outputs": [
        {
          "data": {
            "image/png": "[encoded data removed]",
            "text/plain": [
              "<Figure size 1200x500 with 2 Axes>"
            ]
          },
          "metadata": {},
          "output_type": "display_data"
        },
        {
          "name": "stdout",
          "output_type": "stream",
          "text": [
            "\n",
            "Estadísticas de errores:\n",
            "Error medio: -0.0221 segundos\n",
            "Desviación estándar: 2.8204 segundos\n",
            "Mediana del error: -0.1777 segundos\n",
            "Error dentro de ±0.5s: 51.6%\n",
            "Error dentro de ±1.0s: 84.3%\n"
          ]
        }
      ],
      "source": [
        "# ------------------- Visualización -------------------\n",
        "errors = y_pred.flatten() - y_test\n",
        "\n",
        "plt.figure(figsize=(12, 5))\n",
        "\n",
        "# Histograma de errores\n",
        "plt.subplot(1, 2, 1)\n",
        "plt.hist(errors, bins=50, edgecolor='black')\n",
        "plt.title('Distribución de errores')\n",
        "plt.xlabel('Error (segundos)')\n",
        "plt.ylabel('Frecuencia')\n",
        "plt.axvline(x=0, color='r', linestyle='--', label='Error cero')\n",
        "plt.legend()\n",
        "\n",
        "# Scatter plot\n",
        "plt.subplot(1, 2, 2)\n",
        "plt.scatter(y_test, y_pred.flatten(), alpha=0.5)\n",
        "plt.plot([y_test.min(), y_test.max()], [y_test.min(), y_test.max()], 'r--')\n",
        "plt.xlabel('Tiempo real (s)')\n",
        "plt.ylabel('Tiempo predicho (s)')\n",
        "plt.title('Predicción vs Real')\n",
        "\n",
        "plt.tight_layout()\n",
        "plt.show()\n",
        "\n",
        "# Estadísticas adicionales\n",
        "print('\\nEstadísticas de errores:')\n",
        "print(f'Error medio: {np.mean(errors):.4f} segundos')\n",
        "print(f'Desviación estándar: {np.std(errors):.4f} segundos')\n",
        "print(f'Mediana del error: {np.median(errors):.4f} segundos')\n",
        "print(f'Error dentro de ±0.5s: {100*np.mean(np.abs(errors) < 0.5):.1f}%')\n",
        "print(f'Error dentro de ±1.0s: {100*np.mean(np.abs(errors) < 1.0):.1f}%')"
      ]
    }
  ],
  "metadata": {
    "accelerator": "GPU",
    "colab": {
      "gpuType": "T4",
      "provenance": []
    },
    "kernelspec": {
      "display_name": "wavePredict",
      "language": "python",
      "name": "python3"
    },
    "language_info": {
      "codemirror_mode": {
        "name": "ipython",
        "version": 3
      },
      "file_extension": ".py",
      "mimetype": "text/x-python",
      "name": "python",
      "nbconvert_exporter": "python",
      "pygments_lexer": "ipython3",
      "version": "3.12.10"
    }
  },
  "nbformat": 4,
  "nbformat_minor": 5
}
