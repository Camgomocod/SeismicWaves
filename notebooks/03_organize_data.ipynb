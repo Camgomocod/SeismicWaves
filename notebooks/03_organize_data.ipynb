{
 "cells": [
  {
   "cell_type": "markdown",
   "id": "0bcfef69",
   "metadata": {},
   "source": [
    "# Data Organization for Seismic Wave Analysis\n",
    "\n",
    "This notebook handles the organization of seismic wave data for model training. The main objectives are:\n",
    "\n",
    "1. Split the filtered dataset into training (80%) and testing (20%) sets\n",
    "2. Move files to their respective directories\n",
    "3. Verify the data distribution\n",
    "\n",
    "## Directory Structure\n",
    "- `normalized_filtered_dataset/`: Contains the preprocessed and filtered seismic data\n",
    "- `data/training/`: Destination for training data (80%)\n",
    "- `data/testing/`: Destination for testing data (20%) "
   ]
  },
  {
   "cell_type": "code",
   "execution_count": 2,
   "id": "2931cf8b",
   "metadata": {},
   "outputs": [],
   "source": [
    "import pandas as pd \n",
    "import os \n",
    "import shutil\n",
    "import numpy as np\n",
    "from obspy import read\n",
    "import matplotlib.pyplot as plt\n",
    "import scipy\n",
    "from sklearn.model_selection import train_test_split"
   ]
  },
  {
   "cell_type": "code",
   "execution_count": 3,
   "id": "be579aaf",
   "metadata": {},
   "outputs": [
    {
     "name": "stdout",
     "output_type": "stream",
     "text": [
      "Total files in filtered dataset: 2476\n"
     ]
    }
   ],
   "source": [
    "filtered_dataset_path = '/mnt/c/Users/Usuario/Documents/Studies/GicoProject/SeismicWaves/data/procesed/normalized_filtered_dataset'\n",
    "train_dataset_path = '/mnt/c/Users/Usuario/Documents/Studies/GicoProject/SeismicWaves/data/procesed/used_data/training'\n",
    "test_dataset_path = '/mnt/c/Users/Usuario/Documents/Studies/GicoProject/SeismicWaves/data/procesed/used_data/testing'\n",
    "data_csv_path = '/mnt/c/Users/Usuario/Documents/Studies/GicoProject/SeismicWaves/data/raw/VT_P_training.csv'\n",
    "\n",
    "files = os.listdir(filtered_dataset_path)\n",
    "print(f'Total files in filtered dataset: {len(files)}')"
   ]
  },
  {
   "cell_type": "code",
   "execution_count": 8,
   "id": "9e0a2356",
   "metadata": {},
   "outputs": [
    {
     "name": "stdout",
     "output_type": "stream",
     "text": [
      "Total files in training set: 1980\n",
      "Total files in testing set: 496\n"
     ]
    }
   ],
   "source": [
    "df = pd.DataFrame(files, columns=['filename'])\n",
    "df['filename'] = df['filename'].str.replace('.mseed', '') \n",
    "train_set, test_set = train_test_split(df, test_size=0.2, random_state=42)\n",
    "\n",
    "# print the number of files in each set\n",
    "print(f'Total files in training set: {len(train_set)}')\n",
    "print(f'Total files in testing set: {len(test_set)}')"
   ]
  },
  {
   "cell_type": "code",
   "execution_count": 9,
   "id": "c5c5fbe1",
   "metadata": {},
   "outputs": [],
   "source": [
    "def move_files(df, source_path, dest_path):\n",
    "    \"\"\"\n",
    "    Move files from source_path to dest_path based on the filenames in the dataframe.\t\n",
    "    \"\"\"\n",
    "    for index, row in df.iterrows():\n",
    "        filename = row['filename']\n",
    "        source_file = os.path.join(source_path, filename + '.mseed')\n",
    "        dest_file = os.path.join(dest_path, filename + '.mseed')\n",
    "        if os.path.exists(source_file):\n",
    "            shutil.move(source_file, dest_file)\n",
    "            print(f'Moved {source_file} to {dest_file}')\n",
    "        else:\n",
    "            print(f'File {source_file} does not exist')"
   ]
  },
  {
   "cell_type": "code",
   "execution_count": null,
   "id": "53b8e174",
   "metadata": {},
   "outputs": [],
   "source": [
    "# move train_set\n",
    "move_files(train_set, filtered_dataset_path, train_dataset_path)\n",
    "\n",
    "# move test_set\n",
    "move_files(test_set, filtered_dataset_path, test_dataset_path)"
   ]
  },
  {
   "cell_type": "code",
   "execution_count": 5,
   "id": "ccd415c7",
   "metadata": {},
   "outputs": [
    {
     "name": "stdout",
     "output_type": "stream",
     "text": [
      "Total files in filtered dataset: 2476\n",
      "Total files in training dataset: 317\n",
      "Total files in test dataset: 496\n"
     ]
    }
   ],
   "source": [
    "files_train = os.listdir(train_dataset_path)\n",
    "files_test = os.listdir(test_dataset_path)\n",
    "files = os.listdir(filtered_dataset_path)\n",
    "print(f'Total files in filtered dataset: {len(files)}')\n",
    "print(f'Total files in training dataset: {len(files_train)}')\n",
    "print(f'Total files in test dataset: {len(files_test)}')\n"
   ]
  },
  {
   "cell_type": "code",
   "execution_count": 44,
   "id": "3c4e9fa8",
   "metadata": {},
   "outputs": [
    {
     "data": {
      "text/html": [
       "<div>\n",
       "<style scoped>\n",
       "    .dataframe tbody tr th:only-of-type {\n",
       "        vertical-align: middle;\n",
       "    }\n",
       "\n",
       "    .dataframe tbody tr th {\n",
       "        vertical-align: top;\n",
       "    }\n",
       "\n",
       "    .dataframe thead th {\n",
       "        text-align: right;\n",
       "    }\n",
       "</style>\n",
       "<table border=\"1\" class=\"dataframe\">\n",
       "  <thead>\n",
       "    <tr style=\"text-align: right;\">\n",
       "      <th></th>\n",
       "      <th>filename</th>\n",
       "    </tr>\n",
       "  </thead>\n",
       "  <tbody>\n",
       "    <tr>\n",
       "      <th>51</th>\n",
       "      <td>01062222</td>\n",
       "    </tr>\n",
       "    <tr>\n",
       "      <th>198</th>\n",
       "      <td>01220330</td>\n",
       "    </tr>\n",
       "    <tr>\n",
       "      <th>765</th>\n",
       "      <td>04301304</td>\n",
       "    </tr>\n",
       "    <tr>\n",
       "      <th>631</th>\n",
       "      <td>04190209</td>\n",
       "    </tr>\n",
       "    <tr>\n",
       "      <th>332</th>\n",
       "      <td>02131016</td>\n",
       "    </tr>\n",
       "  </tbody>\n",
       "</table>\n",
       "</div>"
      ],
      "text/plain": [
       "     filename\n",
       "51   01062222\n",
       "198  01220330\n",
       "765  04301304\n",
       "631  04190209\n",
       "332  02131016"
      ]
     },
     "execution_count": 44,
     "metadata": {},
     "output_type": "execute_result"
    }
   ],
   "source": [
    "train_set.head()"
   ]
  }
 ],
 "metadata": {
  "kernelspec": {
   "display_name": "wavePredict",
   "language": "python",
   "name": "python3"
  },
  "language_info": {
   "codemirror_mode": {
    "name": "ipython",
    "version": 3
   },
   "file_extension": ".py",
   "mimetype": "text/x-python",
   "name": "python",
   "nbconvert_exporter": "python",
   "pygments_lexer": "ipython3",
   "version": "3.12.10"
  }
 },
 "nbformat": 4,
 "nbformat_minor": 5
}
