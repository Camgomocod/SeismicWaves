{
 "cells": [
  {
   "cell_type": "code",
   "execution_count": 5,
   "id": "d9639833",
   "metadata": {},
   "outputs": [],
   "source": [
    "import numpy as np\n",
    "import tensorflow as tf\n",
    "import os"
   ]
  },
  {
   "cell_type": "code",
   "execution_count": 6,
   "id": "1860235d",
   "metadata": {},
   "outputs": [],
   "source": [
    "\n",
    "# Forzar uso de CPU (opcional)\n",
    "os.environ['CUDA_VISIBLE_DEVICES'] = '-1'"
   ]
  },
  {
   "cell_type": "code",
   "execution_count": null,
   "id": "d5801a26",
   "metadata": {},
   "outputs": [],
   "source": [
    "model = tf.keras.models.load_model('/mnt/c/Users/Usuario/Documents/Studies/GicoProject/SeismicWaves/src/models/augmented_ranges_huber_data.keras')"
   ]
  }
 ],
 "metadata": {
  "kernelspec": {
   "display_name": "wavePredict",
   "language": "python",
   "name": "python3"
  },
  "language_info": {
   "codemirror_mode": {
    "name": "ipython",
    "version": 3
   },
   "file_extension": ".py",
   "mimetype": "text/x-python",
   "name": "python",
   "nbconvert_exporter": "python",
   "pygments_lexer": "ipython3",
   "version": "3.12.10"
  }
 },
 "nbformat": 4,
 "nbformat_minor": 5
}
