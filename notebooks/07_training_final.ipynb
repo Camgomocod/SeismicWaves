{
  "cells": [
    {
      "cell_type": "markdown",
      "id": "926a39c2",
      "metadata": {
        "id": "926a39c2"
      },
      "source": [
        "# Training Model: Cnn + wavelets transform"
      ]
    },
    {
      "cell_type": "code",
      "execution_count": 11,
      "id": "SAkblZbMZKOY",
      "metadata": {
        "colab": {
          "base_uri": "https://localhost:8080/"
        },
        "id": "SAkblZbMZKOY",
        "outputId": "c7de8470-cb38-4867-e1ac-be834c0606c7"
      },
      "outputs": [
        {
          "name": "stdout",
          "output_type": "stream",
          "text": [
            "Drive already mounted at /content/gdrive; to attempt to forcibly remount, call drive.mount(\"/content/gdrive\", force_remount=True).\n"
          ]
        }
      ],
      "source": [
        "from google.colab import drive\n",
        "drive.mount('/content/gdrive')"
      ]
    },
    {
      "cell_type": "code",
      "execution_count": 4,
      "id": "53jvg7KWrB0h",
      "metadata": {
        "colab": {
          "base_uri": "https://localhost:8080/"
        },
        "id": "53jvg7KWrB0h",
        "outputId": "98d91894-9427-4677-d7b4-d0a0441492ea"
      },
      "outputs": [
        {
          "name": "stdout",
          "output_type": "stream",
          "text": [
            "Requirement already satisfied: obspy in /usr/local/lib/python3.11/dist-packages (1.4.2)\n",
            "Requirement already satisfied: numpy>=1.20 in /usr/local/lib/python3.11/dist-packages (from obspy) (2.0.2)\n",
            "Requirement already satisfied: scipy>=1.7 in /usr/local/lib/python3.11/dist-packages (from obspy) (1.15.2)\n",
            "Requirement already satisfied: matplotlib>=3.3 in /usr/local/lib/python3.11/dist-packages (from obspy) (3.10.0)\n",
            "Requirement already satisfied: lxml in /usr/local/lib/python3.11/dist-packages (from obspy) (5.4.0)\n",
            "Requirement already satisfied: setuptools in /usr/local/lib/python3.11/dist-packages (from obspy) (75.2.0)\n",
            "Requirement already satisfied: sqlalchemy<2 in /usr/local/lib/python3.11/dist-packages (from obspy) (1.4.54)\n",
            "Requirement already satisfied: decorator in /usr/local/lib/python3.11/dist-packages (from obspy) (4.4.2)\n",
            "Requirement already satisfied: requests in /usr/local/lib/python3.11/dist-packages (from obspy) (2.32.3)\n",
            "Requirement already satisfied: contourpy>=1.0.1 in /usr/local/lib/python3.11/dist-packages (from matplotlib>=3.3->obspy) (1.3.2)\n",
            "Requirement already satisfied: cycler>=0.10 in /usr/local/lib/python3.11/dist-packages (from matplotlib>=3.3->obspy) (0.12.1)\n",
            "Requirement already satisfied: fonttools>=4.22.0 in /usr/local/lib/python3.11/dist-packages (from matplotlib>=3.3->obspy) (4.57.0)\n",
            "Requirement already satisfied: kiwisolver>=1.3.1 in /usr/local/lib/python3.11/dist-packages (from matplotlib>=3.3->obspy) (1.4.8)\n",
            "Requirement already satisfied: packaging>=20.0 in /usr/local/lib/python3.11/dist-packages (from matplotlib>=3.3->obspy) (24.2)\n",
            "Requirement already satisfied: pillow>=8 in /usr/local/lib/python3.11/dist-packages (from matplotlib>=3.3->obspy) (11.2.1)\n",
            "Requirement already satisfied: pyparsing>=2.3.1 in /usr/local/lib/python3.11/dist-packages (from matplotlib>=3.3->obspy) (3.2.3)\n",
            "Requirement already satisfied: python-dateutil>=2.7 in /usr/local/lib/python3.11/dist-packages (from matplotlib>=3.3->obspy) (2.9.0.post0)\n",
            "Requirement already satisfied: greenlet!=0.4.17 in /usr/local/lib/python3.11/dist-packages (from sqlalchemy<2->obspy) (3.2.1)\n",
            "Requirement already satisfied: charset-normalizer<4,>=2 in /usr/local/lib/python3.11/dist-packages (from requests->obspy) (3.4.1)\n",
            "Requirement already satisfied: idna<4,>=2.5 in /usr/local/lib/python3.11/dist-packages (from requests->obspy) (3.10)\n",
            "Requirement already satisfied: urllib3<3,>=1.21.1 in /usr/local/lib/python3.11/dist-packages (from requests->obspy) (2.4.0)\n",
            "Requirement already satisfied: certifi>=2017.4.17 in /usr/local/lib/python3.11/dist-packages (from requests->obspy) (2025.4.26)\n",
            "Requirement already satisfied: six>=1.5 in /usr/local/lib/python3.11/dist-packages (from python-dateutil>=2.7->matplotlib>=3.3->obspy) (1.17.0)\n"
          ]
        }
      ],
      "source": [
        "!pip install obspy"
      ]
    },
    {
      "cell_type": "code",
      "execution_count": null,
      "id": "99d53813",
      "metadata": {
        "id": "99d53813"
      },
      "outputs": [],
      "source": [
        "import os\n",
        "import numpy as np\n",
        "import pandas as pd\n",
        "import matplotlib.pyplot as plt\n",
        "import tensorflow as tf\n",
        "from obspy import read\n",
        "from tqdm import tqdm\n",
        "from sklearn.model_selection import train_test_split\n"
      ]
    },
    {
      "cell_type": "code",
      "execution_count": 12,
      "id": "4029eab8",
      "metadata": {
        "id": "4029eab8"
      },
      "outputs": [],
      "source": [
        "base_path = '/content/gdrive/MyDrive'\n",
        "\n",
        "train_augmented_data_path = f'{base_path}/Notebooks/SeismicWaves/training_augmented/augmented'\n",
        "train_ranges_data_path = f'{base_path}/Notebooks/SeismicWaves/training_augmented/augmented_ranges'\n",
        "train_data_path = f'{base_path}/Notebooks/SeismicWaves/training_augmented/train'\n",
        "val_data_path = f'{base_path}/Notebooks/SeismicWaves/training_augmented/val'\n",
        "test_data_path = f'{base_path}/Notebooks/SeismicWaves/training_augmented/testing'\n",
        "features_path = f'{base_path}/Notebooks/SeismicWaves/procesing'"
      ]
    },
    {
      "cell_type": "code",
      "execution_count": 5,
      "id": "uieAKeerxiJj",
      "metadata": {
        "id": "uieAKeerxiJj"
      },
      "outputs": [],
      "source": [
        "\n",
        "def pad_or_trim(signal, target_length=8000):\n",
        "    if len(signal) > target_length:\n",
        "        return signal[:target_length]\n",
        "    elif len(signal) < target_length:\n",
        "        pad_width = target_length - len(signal)\n",
        "        return np.pad(signal, (0, pad_width), mode='constant')\n",
        "    return signal\n",
        "\n",
        "# ------------------- Funciones de Carga -------------------\n",
        "def load_data(data_path):\n",
        "    # Cargar señales crudas\n",
        "    raw_signals = []\n",
        "    files_df = pd.read_csv(os.path.join(data_path, 'feature_files.csv'))\n",
        "    print(f'Cargando señales desde {data_path}...')\n",
        "    for file in tqdm(files_df['file']):\n",
        "        file_path = os.path.join(data_path, file)\n",
        "        st = read(file_path)\n",
        "        signal = st[0].data\n",
        "        signal = pad_or_trim(signal, target_length=8000)\n",
        "        raw_signals.append(signal)\n",
        "\n",
        "    X_raw = np.array(raw_signals)\n",
        "    X_raw = X_raw.reshape(X_raw.shape[0], -1, 1)  # Añadir dimensión para CNN\n",
        "\n",
        "    # Cargar características wavelets\n",
        "    X_wavelets = np.load(os.path.join(data_path, 'wavelet_features.npy'))\n",
        "\n",
        "    # Cargar tiempos de llegada\n",
        "    y = np.load(os.path.join(data_path, 'arrival_times.npy'))\n",
        "\n",
        "    return X_raw, X_wavelets, y, files_df"
      ]
    },
    {
      "cell_type": "code",
      "execution_count": 8,
      "id": "qPayY1h3zi4S",
      "metadata": {
        "id": "qPayY1h3zi4S"
      },
      "outputs": [],
      "source": [
        "# ------------------- Creación del Modelo -------------------\n",
        "def create_model(input_shape_raw, input_shape_wavelets):\n",
        "    raw_input = tf.keras.layers.Input(shape=input_shape_raw)\n",
        "    x1 = tf.keras.layers.BatchNormalization()(raw_input)\n",
        "    x1 = tf.keras.layers.Conv1D(32, 5, padding='same', activation='relu')(x1)\n",
        "    x1 = tf.keras.layers.BatchNormalization()(x1)\n",
        "    x1 = tf.keras.layers.MaxPooling1D(2)(x1)\n",
        "    x1 = tf.keras.layers.Conv1D(64, 5, padding='same', activation='relu')(x1)\n",
        "    x1 = tf.keras.layers.BatchNormalization()(x1)\n",
        "    x1 = tf.keras.layers.MaxPooling1D(2)(x1)\n",
        "    x1 = tf.keras.layers.Conv1D(128, 5, padding='same', activation='relu')(x1)\n",
        "    x1 = tf.keras.layers.BatchNormalization()(x1)\n",
        "    x1 = tf.keras.layers.GlobalAveragePooling1D()(x1)\n",
        "\n",
        "    wavelet_input = tf.keras.layers.Input(shape=input_shape_wavelets)\n",
        "    x2 = tf.keras.layers.BatchNormalization()(wavelet_input)\n",
        "    x2 = tf.keras.layers.Dense(128, activation='relu')(x2)\n",
        "    x2 = tf.keras.layers.BatchNormalization()(x2)\n",
        "    x2 = tf.keras.layers.Dropout(0.3)(x2)\n",
        "\n",
        "    combined = tf.keras.layers.concatenate([x1, x2])\n",
        "\n",
        "    x = tf.keras.layers.Dense(256, activation='relu')(combined)\n",
        "    x = tf.keras.layers.BatchNormalization()(x)\n",
        "    x = tf.keras.layers.Dropout(0.3)(x)\n",
        "    x = tf.keras.layers.Dense(128, activation='relu')(x)\n",
        "    x = tf.keras.layers.BatchNormalization()(x)\n",
        "    x = tf.keras.layers.Dropout(0.2)(x)\n",
        "\n",
        "    output = tf.keras.layers.Dense(1)(x)\n",
        "\n",
        "    model = tf.keras.Model(inputs=[raw_input, wavelet_input], outputs=output)\n",
        "    return model"
      ]
    },
    {
      "cell_type": "markdown",
      "id": "2QROOtjayP4K",
      "metadata": {
        "id": "2QROOtjayP4K"
      },
      "source": [
        "### Ranges augmented data, v1 model"
      ]
    },
    {
      "cell_type": "code",
      "execution_count": 14,
      "id": "vM6leVXoyXoh",
      "metadata": {
        "colab": {
          "base_uri": "https://localhost:8080/"
        },
        "id": "vM6leVXoyXoh",
        "outputId": "566ab68d-8c4c-40b4-ddb6-0137742543c1"
      },
      "outputs": [
        {
          "name": "stdout",
          "output_type": "stream",
          "text": [
            "Cargando señales desde /content/gdrive/MyDrive/Notebooks/SeismicWaves/training_augmented/augmented_ranges...\n"
          ]
        },
        {
          "name": "stderr",
          "output_type": "stream",
          "text": [
            "100%|██████████| 5940/5940 [1:15:08<00:00,  1.32it/s]\n"
          ]
        },
        {
          "name": "stdout",
          "output_type": "stream",
          "text": [
            "Cargando señales desde /content/gdrive/MyDrive/Notebooks/SeismicWaves/training_augmented/val...\n"
          ]
        },
        {
          "name": "stderr",
          "output_type": "stream",
          "text": [
            "100%|██████████| 317/317 [03:40<00:00,  1.44it/s]\n"
          ]
        },
        {
          "name": "stdout",
          "output_type": "stream",
          "text": [
            "Cargando señales desde /content/gdrive/MyDrive/Notebooks/SeismicWaves/training_augmented/testing...\n"
          ]
        },
        {
          "name": "stderr",
          "output_type": "stream",
          "text": [
            "100%|██████████| 496/496 [05:56<00:00,  1.39it/s]\n"
          ]
        },
        {
          "name": "stdout",
          "output_type": "stream",
          "text": [
            "Formas:\n",
            "Entrenamiento señales crudas: (5940, 8000, 1)\n",
            "Validación señales crudas: (317, 8000, 1)\n",
            "Prueba señales crudas: (496, 8000, 1)\n"
          ]
        }
      ],
      "source": [
        "# ------------------- Carga de Datos -------------------\n",
        "X_raw_train, X_wavelets_train, y_train, train_files = load_data(train_ranges_data_path)\n",
        "X_raw_val, X_wavelets_val, y_val, val_files = load_data(val_data_path)\n",
        "X_raw_test, X_wavelets_test, y_test, test_files = load_data(test_data_path)\n",
        "\n",
        "print('Formas:')\n",
        "print(f'Entrenamiento señales crudas: {X_raw_train.shape}')\n",
        "print(f'Validación señales crudas: {X_raw_val.shape}')\n",
        "print(f'Prueba señales crudas: {X_raw_test.shape}')"
      ]
    },
    {
      "cell_type": "code",
      "execution_count": 15,
      "id": "gYH1FlgZy4p7",
      "metadata": {
        "colab": {
          "base_uri": "https://localhost:8080/",
          "height": 1000
        },
        "id": "gYH1FlgZy4p7",
        "outputId": "ced5c95f-e8df-4c4c-e0c8-852a6f73a58d"
      },
      "outputs": [
        {
          "data": {
            "text/html": [
              "<pre style=\"white-space:pre;overflow-x:auto;line-height:normal;font-family:Menlo,'DejaVu Sans Mono',consolas,'Courier New',monospace\"><span style=\"font-weight: bold\">Model: \"functional\"</span>\n",
              "</pre>\n"
            ],
            "text/plain": [
              "\u001b[1mModel: \"functional\"\u001b[0m\n"
            ]
          },
          "metadata": {},
          "output_type": "display_data"
        },
        {
          "data": {
            "text/html": [
              "<pre style=\"white-space:pre;overflow-x:auto;line-height:normal;font-family:Menlo,'DejaVu Sans Mono',consolas,'Courier New',monospace\">┏━━━━━━━━━━━━━━━━━━━━━┳━━━━━━━━━━━━━━━━━━━┳━━━━━━━━━━━━┳━━━━━━━━━━━━━━━━━━━┓\n",
              "┃<span style=\"font-weight: bold\"> Layer (type)        </span>┃<span style=\"font-weight: bold\"> Output Shape      </span>┃<span style=\"font-weight: bold\">    Param # </span>┃<span style=\"font-weight: bold\"> Connected to      </span>┃\n",
              "┡━━━━━━━━━━━━━━━━━━━━━╇━━━━━━━━━━━━━━━━━━━╇━━━━━━━━━━━━╇━━━━━━━━━━━━━━━━━━━┩\n",
              "│ input_layer         │ (<span style=\"color: #00d7ff; text-decoration-color: #00d7ff\">None</span>, <span style=\"color: #00af00; text-decoration-color: #00af00\">8000</span>, <span style=\"color: #00af00; text-decoration-color: #00af00\">1</span>)   │          <span style=\"color: #00af00; text-decoration-color: #00af00\">0</span> │ -                 │\n",
              "│ (<span style=\"color: #0087ff; text-decoration-color: #0087ff\">InputLayer</span>)        │                   │            │                   │\n",
              "├─────────────────────┼───────────────────┼────────────┼───────────────────┤\n",
              "│ batch_normalization │ (<span style=\"color: #00d7ff; text-decoration-color: #00d7ff\">None</span>, <span style=\"color: #00af00; text-decoration-color: #00af00\">8000</span>, <span style=\"color: #00af00; text-decoration-color: #00af00\">1</span>)   │          <span style=\"color: #00af00; text-decoration-color: #00af00\">4</span> │ input_layer[<span style=\"color: #00af00; text-decoration-color: #00af00\">0</span>][<span style=\"color: #00af00; text-decoration-color: #00af00\">0</span>] │\n",
              "│ (<span style=\"color: #0087ff; text-decoration-color: #0087ff\">BatchNormalizatio…</span> │                   │            │                   │\n",
              "├─────────────────────┼───────────────────┼────────────┼───────────────────┤\n",
              "│ conv1d (<span style=\"color: #0087ff; text-decoration-color: #0087ff\">Conv1D</span>)     │ (<span style=\"color: #00d7ff; text-decoration-color: #00d7ff\">None</span>, <span style=\"color: #00af00; text-decoration-color: #00af00\">8000</span>, <span style=\"color: #00af00; text-decoration-color: #00af00\">32</span>)  │        <span style=\"color: #00af00; text-decoration-color: #00af00\">192</span> │ batch_normalizat… │\n",
              "├─────────────────────┼───────────────────┼────────────┼───────────────────┤\n",
              "│ batch_normalizatio… │ (<span style=\"color: #00d7ff; text-decoration-color: #00d7ff\">None</span>, <span style=\"color: #00af00; text-decoration-color: #00af00\">8000</span>, <span style=\"color: #00af00; text-decoration-color: #00af00\">32</span>)  │        <span style=\"color: #00af00; text-decoration-color: #00af00\">128</span> │ conv1d[<span style=\"color: #00af00; text-decoration-color: #00af00\">0</span>][<span style=\"color: #00af00; text-decoration-color: #00af00\">0</span>]      │\n",
              "│ (<span style=\"color: #0087ff; text-decoration-color: #0087ff\">BatchNormalizatio…</span> │                   │            │                   │\n",
              "├─────────────────────┼───────────────────┼────────────┼───────────────────┤\n",
              "│ max_pooling1d       │ (<span style=\"color: #00d7ff; text-decoration-color: #00d7ff\">None</span>, <span style=\"color: #00af00; text-decoration-color: #00af00\">4000</span>, <span style=\"color: #00af00; text-decoration-color: #00af00\">32</span>)  │          <span style=\"color: #00af00; text-decoration-color: #00af00\">0</span> │ batch_normalizat… │\n",
              "│ (<span style=\"color: #0087ff; text-decoration-color: #0087ff\">MaxPooling1D</span>)      │                   │            │                   │\n",
              "├─────────────────────┼───────────────────┼────────────┼───────────────────┤\n",
              "│ conv1d_1 (<span style=\"color: #0087ff; text-decoration-color: #0087ff\">Conv1D</span>)   │ (<span style=\"color: #00d7ff; text-decoration-color: #00d7ff\">None</span>, <span style=\"color: #00af00; text-decoration-color: #00af00\">4000</span>, <span style=\"color: #00af00; text-decoration-color: #00af00\">64</span>)  │     <span style=\"color: #00af00; text-decoration-color: #00af00\">10,304</span> │ max_pooling1d[<span style=\"color: #00af00; text-decoration-color: #00af00\">0</span>]… │\n",
              "├─────────────────────┼───────────────────┼────────────┼───────────────────┤\n",
              "│ batch_normalizatio… │ (<span style=\"color: #00d7ff; text-decoration-color: #00d7ff\">None</span>, <span style=\"color: #00af00; text-decoration-color: #00af00\">4000</span>, <span style=\"color: #00af00; text-decoration-color: #00af00\">64</span>)  │        <span style=\"color: #00af00; text-decoration-color: #00af00\">256</span> │ conv1d_1[<span style=\"color: #00af00; text-decoration-color: #00af00\">0</span>][<span style=\"color: #00af00; text-decoration-color: #00af00\">0</span>]    │\n",
              "│ (<span style=\"color: #0087ff; text-decoration-color: #0087ff\">BatchNormalizatio…</span> │                   │            │                   │\n",
              "├─────────────────────┼───────────────────┼────────────┼───────────────────┤\n",
              "│ input_layer_1       │ (<span style=\"color: #00d7ff; text-decoration-color: #00d7ff\">None</span>, <span style=\"color: #00af00; text-decoration-color: #00af00\">60</span>)        │          <span style=\"color: #00af00; text-decoration-color: #00af00\">0</span> │ -                 │\n",
              "│ (<span style=\"color: #0087ff; text-decoration-color: #0087ff\">InputLayer</span>)        │                   │            │                   │\n",
              "├─────────────────────┼───────────────────┼────────────┼───────────────────┤\n",
              "│ max_pooling1d_1     │ (<span style=\"color: #00d7ff; text-decoration-color: #00d7ff\">None</span>, <span style=\"color: #00af00; text-decoration-color: #00af00\">2000</span>, <span style=\"color: #00af00; text-decoration-color: #00af00\">64</span>)  │          <span style=\"color: #00af00; text-decoration-color: #00af00\">0</span> │ batch_normalizat… │\n",
              "│ (<span style=\"color: #0087ff; text-decoration-color: #0087ff\">MaxPooling1D</span>)      │                   │            │                   │\n",
              "├─────────────────────┼───────────────────┼────────────┼───────────────────┤\n",
              "│ batch_normalizatio… │ (<span style=\"color: #00d7ff; text-decoration-color: #00d7ff\">None</span>, <span style=\"color: #00af00; text-decoration-color: #00af00\">60</span>)        │        <span style=\"color: #00af00; text-decoration-color: #00af00\">240</span> │ input_layer_1[<span style=\"color: #00af00; text-decoration-color: #00af00\">0</span>]… │\n",
              "│ (<span style=\"color: #0087ff; text-decoration-color: #0087ff\">BatchNormalizatio…</span> │                   │            │                   │\n",
              "├─────────────────────┼───────────────────┼────────────┼───────────────────┤\n",
              "│ conv1d_2 (<span style=\"color: #0087ff; text-decoration-color: #0087ff\">Conv1D</span>)   │ (<span style=\"color: #00d7ff; text-decoration-color: #00d7ff\">None</span>, <span style=\"color: #00af00; text-decoration-color: #00af00\">2000</span>, <span style=\"color: #00af00; text-decoration-color: #00af00\">128</span>) │     <span style=\"color: #00af00; text-decoration-color: #00af00\">41,088</span> │ max_pooling1d_1[<span style=\"color: #00af00; text-decoration-color: #00af00\">…</span> │\n",
              "├─────────────────────┼───────────────────┼────────────┼───────────────────┤\n",
              "│ dense (<span style=\"color: #0087ff; text-decoration-color: #0087ff\">Dense</span>)       │ (<span style=\"color: #00d7ff; text-decoration-color: #00d7ff\">None</span>, <span style=\"color: #00af00; text-decoration-color: #00af00\">128</span>)       │      <span style=\"color: #00af00; text-decoration-color: #00af00\">7,808</span> │ batch_normalizat… │\n",
              "├─────────────────────┼───────────────────┼────────────┼───────────────────┤\n",
              "│ batch_normalizatio… │ (<span style=\"color: #00d7ff; text-decoration-color: #00d7ff\">None</span>, <span style=\"color: #00af00; text-decoration-color: #00af00\">2000</span>, <span style=\"color: #00af00; text-decoration-color: #00af00\">128</span>) │        <span style=\"color: #00af00; text-decoration-color: #00af00\">512</span> │ conv1d_2[<span style=\"color: #00af00; text-decoration-color: #00af00\">0</span>][<span style=\"color: #00af00; text-decoration-color: #00af00\">0</span>]    │\n",
              "│ (<span style=\"color: #0087ff; text-decoration-color: #0087ff\">BatchNormalizatio…</span> │                   │            │                   │\n",
              "├─────────────────────┼───────────────────┼────────────┼───────────────────┤\n",
              "│ batch_normalizatio… │ (<span style=\"color: #00d7ff; text-decoration-color: #00d7ff\">None</span>, <span style=\"color: #00af00; text-decoration-color: #00af00\">128</span>)       │        <span style=\"color: #00af00; text-decoration-color: #00af00\">512</span> │ dense[<span style=\"color: #00af00; text-decoration-color: #00af00\">0</span>][<span style=\"color: #00af00; text-decoration-color: #00af00\">0</span>]       │\n",
              "│ (<span style=\"color: #0087ff; text-decoration-color: #0087ff\">BatchNormalizatio…</span> │                   │            │                   │\n",
              "├─────────────────────┼───────────────────┼────────────┼───────────────────┤\n",
              "│ global_average_poo… │ (<span style=\"color: #00d7ff; text-decoration-color: #00d7ff\">None</span>, <span style=\"color: #00af00; text-decoration-color: #00af00\">128</span>)       │          <span style=\"color: #00af00; text-decoration-color: #00af00\">0</span> │ batch_normalizat… │\n",
              "│ (<span style=\"color: #0087ff; text-decoration-color: #0087ff\">GlobalAveragePool…</span> │                   │            │                   │\n",
              "├─────────────────────┼───────────────────┼────────────┼───────────────────┤\n",
              "│ dropout (<span style=\"color: #0087ff; text-decoration-color: #0087ff\">Dropout</span>)   │ (<span style=\"color: #00d7ff; text-decoration-color: #00d7ff\">None</span>, <span style=\"color: #00af00; text-decoration-color: #00af00\">128</span>)       │          <span style=\"color: #00af00; text-decoration-color: #00af00\">0</span> │ batch_normalizat… │\n",
              "├─────────────────────┼───────────────────┼────────────┼───────────────────┤\n",
              "│ concatenate         │ (<span style=\"color: #00d7ff; text-decoration-color: #00d7ff\">None</span>, <span style=\"color: #00af00; text-decoration-color: #00af00\">256</span>)       │          <span style=\"color: #00af00; text-decoration-color: #00af00\">0</span> │ global_average_p… │\n",
              "│ (<span style=\"color: #0087ff; text-decoration-color: #0087ff\">Concatenate</span>)       │                   │            │ dropout[<span style=\"color: #00af00; text-decoration-color: #00af00\">0</span>][<span style=\"color: #00af00; text-decoration-color: #00af00\">0</span>]     │\n",
              "├─────────────────────┼───────────────────┼────────────┼───────────────────┤\n",
              "│ dense_1 (<span style=\"color: #0087ff; text-decoration-color: #0087ff\">Dense</span>)     │ (<span style=\"color: #00d7ff; text-decoration-color: #00d7ff\">None</span>, <span style=\"color: #00af00; text-decoration-color: #00af00\">256</span>)       │     <span style=\"color: #00af00; text-decoration-color: #00af00\">65,792</span> │ concatenate[<span style=\"color: #00af00; text-decoration-color: #00af00\">0</span>][<span style=\"color: #00af00; text-decoration-color: #00af00\">0</span>] │\n",
              "├─────────────────────┼───────────────────┼────────────┼───────────────────┤\n",
              "│ batch_normalizatio… │ (<span style=\"color: #00d7ff; text-decoration-color: #00d7ff\">None</span>, <span style=\"color: #00af00; text-decoration-color: #00af00\">256</span>)       │      <span style=\"color: #00af00; text-decoration-color: #00af00\">1,024</span> │ dense_1[<span style=\"color: #00af00; text-decoration-color: #00af00\">0</span>][<span style=\"color: #00af00; text-decoration-color: #00af00\">0</span>]     │\n",
              "│ (<span style=\"color: #0087ff; text-decoration-color: #0087ff\">BatchNormalizatio…</span> │                   │            │                   │\n",
              "├─────────────────────┼───────────────────┼────────────┼───────────────────┤\n",
              "│ dropout_1 (<span style=\"color: #0087ff; text-decoration-color: #0087ff\">Dropout</span>) │ (<span style=\"color: #00d7ff; text-decoration-color: #00d7ff\">None</span>, <span style=\"color: #00af00; text-decoration-color: #00af00\">256</span>)       │          <span style=\"color: #00af00; text-decoration-color: #00af00\">0</span> │ batch_normalizat… │\n",
              "├─────────────────────┼───────────────────┼────────────┼───────────────────┤\n",
              "│ dense_2 (<span style=\"color: #0087ff; text-decoration-color: #0087ff\">Dense</span>)     │ (<span style=\"color: #00d7ff; text-decoration-color: #00d7ff\">None</span>, <span style=\"color: #00af00; text-decoration-color: #00af00\">128</span>)       │     <span style=\"color: #00af00; text-decoration-color: #00af00\">32,896</span> │ dropout_1[<span style=\"color: #00af00; text-decoration-color: #00af00\">0</span>][<span style=\"color: #00af00; text-decoration-color: #00af00\">0</span>]   │\n",
              "├─────────────────────┼───────────────────┼────────────┼───────────────────┤\n",
              "│ batch_normalizatio… │ (<span style=\"color: #00d7ff; text-decoration-color: #00d7ff\">None</span>, <span style=\"color: #00af00; text-decoration-color: #00af00\">128</span>)       │        <span style=\"color: #00af00; text-decoration-color: #00af00\">512</span> │ dense_2[<span style=\"color: #00af00; text-decoration-color: #00af00\">0</span>][<span style=\"color: #00af00; text-decoration-color: #00af00\">0</span>]     │\n",
              "│ (<span style=\"color: #0087ff; text-decoration-color: #0087ff\">BatchNormalizatio…</span> │                   │            │                   │\n",
              "├─────────────────────┼───────────────────┼────────────┼───────────────────┤\n",
              "│ dropout_2 (<span style=\"color: #0087ff; text-decoration-color: #0087ff\">Dropout</span>) │ (<span style=\"color: #00d7ff; text-decoration-color: #00d7ff\">None</span>, <span style=\"color: #00af00; text-decoration-color: #00af00\">128</span>)       │          <span style=\"color: #00af00; text-decoration-color: #00af00\">0</span> │ batch_normalizat… │\n",
              "├─────────────────────┼───────────────────┼────────────┼───────────────────┤\n",
              "│ dense_3 (<span style=\"color: #0087ff; text-decoration-color: #0087ff\">Dense</span>)     │ (<span style=\"color: #00d7ff; text-decoration-color: #00d7ff\">None</span>, <span style=\"color: #00af00; text-decoration-color: #00af00\">1</span>)         │        <span style=\"color: #00af00; text-decoration-color: #00af00\">129</span> │ dropout_2[<span style=\"color: #00af00; text-decoration-color: #00af00\">0</span>][<span style=\"color: #00af00; text-decoration-color: #00af00\">0</span>]   │\n",
              "└─────────────────────┴───────────────────┴────────────┴───────────────────┘\n",
              "</pre>\n"
            ],
            "text/plain": [
              "┏━━━━━━━━━━━━━━━━━━━━━┳━━━━━━━━━━━━━━━━━━━┳━━━━━━━━━━━━┳━━━━━━━━━━━━━━━━━━━┓\n",
              "┃\u001b[1m \u001b[0m\u001b[1mLayer (type)       \u001b[0m\u001b[1m \u001b[0m┃\u001b[1m \u001b[0m\u001b[1mOutput Shape     \u001b[0m\u001b[1m \u001b[0m┃\u001b[1m \u001b[0m\u001b[1m   Param #\u001b[0m\u001b[1m \u001b[0m┃\u001b[1m \u001b[0m\u001b[1mConnected to     \u001b[0m\u001b[1m \u001b[0m┃\n",
              "┡━━━━━━━━━━━━━━━━━━━━━╇━━━━━━━━━━━━━━━━━━━╇━━━━━━━━━━━━╇━━━━━━━━━━━━━━━━━━━┩\n",
              "│ input_layer         │ (\u001b[38;5;45mNone\u001b[0m, \u001b[38;5;34m8000\u001b[0m, \u001b[38;5;34m1\u001b[0m)   │          \u001b[38;5;34m0\u001b[0m │ -                 │\n",
              "│ (\u001b[38;5;33mInputLayer\u001b[0m)        │                   │            │                   │\n",
              "├─────────────────────┼───────────────────┼────────────┼───────────────────┤\n",
              "│ batch_normalization │ (\u001b[38;5;45mNone\u001b[0m, \u001b[38;5;34m8000\u001b[0m, \u001b[38;5;34m1\u001b[0m)   │          \u001b[38;5;34m4\u001b[0m │ input_layer[\u001b[38;5;34m0\u001b[0m][\u001b[38;5;34m0\u001b[0m] │\n",
              "│ (\u001b[38;5;33mBatchNormalizatio…\u001b[0m │                   │            │                   │\n",
              "├─────────────────────┼───────────────────┼────────────┼───────────────────┤\n",
              "│ conv1d (\u001b[38;5;33mConv1D\u001b[0m)     │ (\u001b[38;5;45mNone\u001b[0m, \u001b[38;5;34m8000\u001b[0m, \u001b[38;5;34m32\u001b[0m)  │        \u001b[38;5;34m192\u001b[0m │ batch_normalizat… │\n",
              "├─────────────────────┼───────────────────┼────────────┼───────────────────┤\n",
              "│ batch_normalizatio… │ (\u001b[38;5;45mNone\u001b[0m, \u001b[38;5;34m8000\u001b[0m, \u001b[38;5;34m32\u001b[0m)  │        \u001b[38;5;34m128\u001b[0m │ conv1d[\u001b[38;5;34m0\u001b[0m][\u001b[38;5;34m0\u001b[0m]      │\n",
              "│ (\u001b[38;5;33mBatchNormalizatio…\u001b[0m │                   │            │                   │\n",
              "├─────────────────────┼───────────────────┼────────────┼───────────────────┤\n",
              "│ max_pooling1d       │ (\u001b[38;5;45mNone\u001b[0m, \u001b[38;5;34m4000\u001b[0m, \u001b[38;5;34m32\u001b[0m)  │          \u001b[38;5;34m0\u001b[0m │ batch_normalizat… │\n",
              "│ (\u001b[38;5;33mMaxPooling1D\u001b[0m)      │                   │            │                   │\n",
              "├─────────────────────┼───────────────────┼────────────┼───────────────────┤\n",
              "│ conv1d_1 (\u001b[38;5;33mConv1D\u001b[0m)   │ (\u001b[38;5;45mNone\u001b[0m, \u001b[38;5;34m4000\u001b[0m, \u001b[38;5;34m64\u001b[0m)  │     \u001b[38;5;34m10,304\u001b[0m │ max_pooling1d[\u001b[38;5;34m0\u001b[0m]… │\n",
              "├─────────────────────┼───────────────────┼────────────┼───────────────────┤\n",
              "│ batch_normalizatio… │ (\u001b[38;5;45mNone\u001b[0m, \u001b[38;5;34m4000\u001b[0m, \u001b[38;5;34m64\u001b[0m)  │        \u001b[38;5;34m256\u001b[0m │ conv1d_1[\u001b[38;5;34m0\u001b[0m][\u001b[38;5;34m0\u001b[0m]    │\n",
              "│ (\u001b[38;5;33mBatchNormalizatio…\u001b[0m │                   │            │                   │\n",
              "├─────────────────────┼───────────────────┼────────────┼───────────────────┤\n",
              "│ input_layer_1       │ (\u001b[38;5;45mNone\u001b[0m, \u001b[38;5;34m60\u001b[0m)        │          \u001b[38;5;34m0\u001b[0m │ -                 │\n",
              "│ (\u001b[38;5;33mInputLayer\u001b[0m)        │                   │            │                   │\n",
              "├─────────────────────┼───────────────────┼────────────┼───────────────────┤\n",
              "│ max_pooling1d_1     │ (\u001b[38;5;45mNone\u001b[0m, \u001b[38;5;34m2000\u001b[0m, \u001b[38;5;34m64\u001b[0m)  │          \u001b[38;5;34m0\u001b[0m │ batch_normalizat… │\n",
              "│ (\u001b[38;5;33mMaxPooling1D\u001b[0m)      │                   │            │                   │\n",
              "├─────────────────────┼───────────────────┼────────────┼───────────────────┤\n",
              "│ batch_normalizatio… │ (\u001b[38;5;45mNone\u001b[0m, \u001b[38;5;34m60\u001b[0m)        │        \u001b[38;5;34m240\u001b[0m │ input_layer_1[\u001b[38;5;34m0\u001b[0m]… │\n",
              "│ (\u001b[38;5;33mBatchNormalizatio…\u001b[0m │                   │            │                   │\n",
              "├─────────────────────┼───────────────────┼────────────┼───────────────────┤\n",
              "│ conv1d_2 (\u001b[38;5;33mConv1D\u001b[0m)   │ (\u001b[38;5;45mNone\u001b[0m, \u001b[38;5;34m2000\u001b[0m, \u001b[38;5;34m128\u001b[0m) │     \u001b[38;5;34m41,088\u001b[0m │ max_pooling1d_1[\u001b[38;5;34m…\u001b[0m │\n",
              "├─────────────────────┼───────────────────┼────────────┼───────────────────┤\n",
              "│ dense (\u001b[38;5;33mDense\u001b[0m)       │ (\u001b[38;5;45mNone\u001b[0m, \u001b[38;5;34m128\u001b[0m)       │      \u001b[38;5;34m7,808\u001b[0m │ batch_normalizat… │\n",
              "├─────────────────────┼───────────────────┼────────────┼───────────────────┤\n",
              "│ batch_normalizatio… │ (\u001b[38;5;45mNone\u001b[0m, \u001b[38;5;34m2000\u001b[0m, \u001b[38;5;34m128\u001b[0m) │        \u001b[38;5;34m512\u001b[0m │ conv1d_2[\u001b[38;5;34m0\u001b[0m][\u001b[38;5;34m0\u001b[0m]    │\n",
              "│ (\u001b[38;5;33mBatchNormalizatio…\u001b[0m │                   │            │                   │\n",
              "├─────────────────────┼───────────────────┼────────────┼───────────────────┤\n",
              "│ batch_normalizatio… │ (\u001b[38;5;45mNone\u001b[0m, \u001b[38;5;34m128\u001b[0m)       │        \u001b[38;5;34m512\u001b[0m │ dense[\u001b[38;5;34m0\u001b[0m][\u001b[38;5;34m0\u001b[0m]       │\n",
              "│ (\u001b[38;5;33mBatchNormalizatio…\u001b[0m │                   │            │                   │\n",
              "├─────────────────────┼───────────────────┼────────────┼───────────────────┤\n",
              "│ global_average_poo… │ (\u001b[38;5;45mNone\u001b[0m, \u001b[38;5;34m128\u001b[0m)       │          \u001b[38;5;34m0\u001b[0m │ batch_normalizat… │\n",
              "│ (\u001b[38;5;33mGlobalAveragePool…\u001b[0m │                   │            │                   │\n",
              "├─────────────────────┼───────────────────┼────────────┼───────────────────┤\n",
              "│ dropout (\u001b[38;5;33mDropout\u001b[0m)   │ (\u001b[38;5;45mNone\u001b[0m, \u001b[38;5;34m128\u001b[0m)       │          \u001b[38;5;34m0\u001b[0m │ batch_normalizat… │\n",
              "├─────────────────────┼───────────────────┼────────────┼───────────────────┤\n",
              "│ concatenate         │ (\u001b[38;5;45mNone\u001b[0m, \u001b[38;5;34m256\u001b[0m)       │          \u001b[38;5;34m0\u001b[0m │ global_average_p… │\n",
              "│ (\u001b[38;5;33mConcatenate\u001b[0m)       │                   │            │ dropout[\u001b[38;5;34m0\u001b[0m][\u001b[38;5;34m0\u001b[0m]     │\n",
              "├─────────────────────┼───────────────────┼────────────┼───────────────────┤\n",
              "│ dense_1 (\u001b[38;5;33mDense\u001b[0m)     │ (\u001b[38;5;45mNone\u001b[0m, \u001b[38;5;34m256\u001b[0m)       │     \u001b[38;5;34m65,792\u001b[0m │ concatenate[\u001b[38;5;34m0\u001b[0m][\u001b[38;5;34m0\u001b[0m] │\n",
              "├─────────────────────┼───────────────────┼────────────┼───────────────────┤\n",
              "│ batch_normalizatio… │ (\u001b[38;5;45mNone\u001b[0m, \u001b[38;5;34m256\u001b[0m)       │      \u001b[38;5;34m1,024\u001b[0m │ dense_1[\u001b[38;5;34m0\u001b[0m][\u001b[38;5;34m0\u001b[0m]     │\n",
              "│ (\u001b[38;5;33mBatchNormalizatio…\u001b[0m │                   │            │                   │\n",
              "├─────────────────────┼───────────────────┼────────────┼───────────────────┤\n",
              "│ dropout_1 (\u001b[38;5;33mDropout\u001b[0m) │ (\u001b[38;5;45mNone\u001b[0m, \u001b[38;5;34m256\u001b[0m)       │          \u001b[38;5;34m0\u001b[0m │ batch_normalizat… │\n",
              "├─────────────────────┼───────────────────┼────────────┼───────────────────┤\n",
              "│ dense_2 (\u001b[38;5;33mDense\u001b[0m)     │ (\u001b[38;5;45mNone\u001b[0m, \u001b[38;5;34m128\u001b[0m)       │     \u001b[38;5;34m32,896\u001b[0m │ dropout_1[\u001b[38;5;34m0\u001b[0m][\u001b[38;5;34m0\u001b[0m]   │\n",
              "├─────────────────────┼───────────────────┼────────────┼───────────────────┤\n",
              "│ batch_normalizatio… │ (\u001b[38;5;45mNone\u001b[0m, \u001b[38;5;34m128\u001b[0m)       │        \u001b[38;5;34m512\u001b[0m │ dense_2[\u001b[38;5;34m0\u001b[0m][\u001b[38;5;34m0\u001b[0m]     │\n",
              "│ (\u001b[38;5;33mBatchNormalizatio…\u001b[0m │                   │            │                   │\n",
              "├─────────────────────┼───────────────────┼────────────┼───────────────────┤\n",
              "│ dropout_2 (\u001b[38;5;33mDropout\u001b[0m) │ (\u001b[38;5;45mNone\u001b[0m, \u001b[38;5;34m128\u001b[0m)       │          \u001b[38;5;34m0\u001b[0m │ batch_normalizat… │\n",
              "├─────────────────────┼───────────────────┼────────────┼───────────────────┤\n",
              "│ dense_3 (\u001b[38;5;33mDense\u001b[0m)     │ (\u001b[38;5;45mNone\u001b[0m, \u001b[38;5;34m1\u001b[0m)         │        \u001b[38;5;34m129\u001b[0m │ dropout_2[\u001b[38;5;34m0\u001b[0m][\u001b[38;5;34m0\u001b[0m]   │\n",
              "└─────────────────────┴───────────────────┴────────────┴───────────────────┘\n"
            ]
          },
          "metadata": {},
          "output_type": "display_data"
        },
        {
          "data": {
            "text/html": [
              "<pre style=\"white-space:pre;overflow-x:auto;line-height:normal;font-family:Menlo,'DejaVu Sans Mono',consolas,'Courier New',monospace\"><span style=\"font-weight: bold\"> Total params: </span><span style=\"color: #00af00; text-decoration-color: #00af00\">161,397</span> (630.46 KB)\n",
              "</pre>\n"
            ],
            "text/plain": [
              "\u001b[1m Total params: \u001b[0m\u001b[38;5;34m161,397\u001b[0m (630.46 KB)\n"
            ]
          },
          "metadata": {},
          "output_type": "display_data"
        },
        {
          "data": {
            "text/html": [
              "<pre style=\"white-space:pre;overflow-x:auto;line-height:normal;font-family:Menlo,'DejaVu Sans Mono',consolas,'Courier New',monospace\"><span style=\"font-weight: bold\"> Trainable params: </span><span style=\"color: #00af00; text-decoration-color: #00af00\">159,803</span> (624.23 KB)\n",
              "</pre>\n"
            ],
            "text/plain": [
              "\u001b[1m Trainable params: \u001b[0m\u001b[38;5;34m159,803\u001b[0m (624.23 KB)\n"
            ]
          },
          "metadata": {},
          "output_type": "display_data"
        },
        {
          "data": {
            "text/html": [
              "<pre style=\"white-space:pre;overflow-x:auto;line-height:normal;font-family:Menlo,'DejaVu Sans Mono',consolas,'Courier New',monospace\"><span style=\"font-weight: bold\"> Non-trainable params: </span><span style=\"color: #00af00; text-decoration-color: #00af00\">1,594</span> (6.23 KB)\n",
              "</pre>\n"
            ],
            "text/plain": [
              "\u001b[1m Non-trainable params: \u001b[0m\u001b[38;5;34m1,594\u001b[0m (6.23 KB)\n"
            ]
          },
          "metadata": {},
          "output_type": "display_data"
        }
      ],
      "source": [
        "\n",
        "input_shape_raw = (8000, 1)\n",
        "input_shape_wavelets = (X_wavelets_train.shape[1],)\n",
        "\n",
        "model = create_model(input_shape_raw, input_shape_wavelets)\n",
        "optimizer = tf.keras.optimizers.Adam(learning_rate=0.001)\n",
        "\n",
        "model.compile(optimizer=optimizer, loss='huber', metrics=['mae', 'mse'])\n",
        "model.summary()"
      ]
    },
    {
      "cell_type": "code",
      "execution_count": 16,
      "id": "gCC1B1DrzCk6",
      "metadata": {
        "colab": {
          "base_uri": "https://localhost:8080/"
        },
        "id": "gCC1B1DrzCk6",
        "outputId": "8929bd26-1b61-4385-e099-77f34199fde9"
      },
      "outputs": [
        {
          "name": "stdout",
          "output_type": "stream",
          "text": [
            "Epoch 1/100\n",
            "\u001b[1m93/93\u001b[0m \u001b[32m━━━━━━━━━━━━━━━━━━━━\u001b[0m\u001b[37m\u001b[0m \u001b[1m29s\u001b[0m 176ms/step - loss: 29.3437 - mae: 29.8424 - mse: 1090.6622 - val_loss: 28.0413 - val_mae: 28.5401 - val_mse: 827.3677 - learning_rate: 0.0010\n",
            "Epoch 2/100\n",
            "\u001b[1m93/93\u001b[0m \u001b[32m━━━━━━━━━━━━━━━━━━━━\u001b[0m\u001b[37m\u001b[0m \u001b[1m25s\u001b[0m 80ms/step - loss: 26.8386 - mae: 27.3353 - mse: 939.2739 - val_loss: 20.3293 - val_mae: 20.8293 - val_mse: 443.9738 - learning_rate: 0.0010\n",
            "Epoch 3/100\n",
            "\u001b[1m93/93\u001b[0m \u001b[32m━━━━━━━━━━━━━━━━━━━━\u001b[0m\u001b[37m\u001b[0m \u001b[1m7s\u001b[0m 79ms/step - loss: 20.9118 - mae: 21.4076 - mse: 627.4357 - val_loss: 11.3529 - val_mae: 11.8516 - val_mse: 159.6410 - learning_rate: 0.0010\n",
            "Epoch 4/100\n",
            "\u001b[1m93/93\u001b[0m \u001b[32m━━━━━━━━━━━━━━━━━━━━\u001b[0m\u001b[37m\u001b[0m \u001b[1m10s\u001b[0m 80ms/step - loss: 13.9951 - mae: 14.4889 - mse: 321.3628 - val_loss: 2.4371 - val_mae: 2.8844 - val_mse: 21.0958 - learning_rate: 0.0010\n",
            "Epoch 5/100\n",
            "\u001b[1m93/93\u001b[0m \u001b[32m━━━━━━━━━━━━━━━━━━━━\u001b[0m\u001b[37m\u001b[0m \u001b[1m7s\u001b[0m 80ms/step - loss: 10.9127 - mae: 11.3997 - mse: 220.1279 - val_loss: 1.8010 - val_mae: 2.2411 - val_mse: 15.4871 - learning_rate: 0.0010\n",
            "Epoch 6/100\n",
            "\u001b[1m93/93\u001b[0m \u001b[32m━━━━━━━━━━━━━━━━━━━━\u001b[0m\u001b[37m\u001b[0m \u001b[1m7s\u001b[0m 79ms/step - loss: 10.4443 - mae: 10.9255 - mse: 208.5685 - val_loss: 1.0955 - val_mae: 1.4860 - val_mse: 14.1482 - learning_rate: 0.0010\n",
            "Epoch 7/100\n",
            "\u001b[1m93/93\u001b[0m \u001b[32m━━━━━━━━━━━━━━━━━━━━\u001b[0m\u001b[37m\u001b[0m \u001b[1m10s\u001b[0m 79ms/step - loss: 10.3248 - mae: 10.8050 - mse: 206.7177 - val_loss: 1.2372 - val_mae: 1.6482 - val_mse: 13.9937 - learning_rate: 0.0010\n",
            "Epoch 8/100\n",
            "\u001b[1m93/93\u001b[0m \u001b[32m━━━━━━━━━━━━━━━━━━━━\u001b[0m\u001b[37m\u001b[0m \u001b[1m10s\u001b[0m 81ms/step - loss: 10.4749 - mae: 10.9572 - mse: 208.0269 - val_loss: 0.9281 - val_mae: 1.2926 - val_mse: 12.7927 - learning_rate: 0.0010\n",
            "Epoch 9/100\n",
            "\u001b[1m93/93\u001b[0m \u001b[32m━━━━━━━━━━━━━━━━━━━━\u001b[0m\u001b[37m\u001b[0m \u001b[1m10s\u001b[0m 81ms/step - loss: 10.4295 - mae: 10.9092 - mse: 208.7417 - val_loss: 0.9143 - val_mae: 1.2853 - val_mse: 12.1542 - learning_rate: 0.0010\n",
            "Epoch 10/100\n",
            "\u001b[1m93/93\u001b[0m \u001b[32m━━━━━━━━━━━━━━━━━━━━\u001b[0m\u001b[37m\u001b[0m \u001b[1m10s\u001b[0m 80ms/step - loss: 10.2791 - mae: 10.7578 - mse: 203.1959 - val_loss: 1.0420 - val_mae: 1.4289 - val_mse: 12.5239 - learning_rate: 0.0010\n",
            "Epoch 11/100\n",
            "\u001b[1m93/93\u001b[0m \u001b[32m━━━━━━━━━━━━━━━━━━━━\u001b[0m\u001b[37m\u001b[0m \u001b[1m10s\u001b[0m 79ms/step - loss: 10.2002 - mae: 10.6781 - mse: 201.6927 - val_loss: 2.4958 - val_mae: 2.9695 - val_mse: 19.0930 - learning_rate: 0.0010\n",
            "Epoch 12/100\n",
            "\u001b[1m93/93\u001b[0m \u001b[32m━━━━━━━━━━━━━━━━━━━━\u001b[0m\u001b[37m\u001b[0m \u001b[1m8s\u001b[0m 81ms/step - loss: 10.1931 - mae: 10.6695 - mse: 202.6363 - val_loss: 0.8808 - val_mae: 1.2370 - val_mse: 12.0608 - learning_rate: 0.0010\n",
            "Epoch 13/100\n",
            "\u001b[1m93/93\u001b[0m \u001b[32m━━━━━━━━━━━━━━━━━━━━\u001b[0m\u001b[37m\u001b[0m \u001b[1m10s\u001b[0m 81ms/step - loss: 10.0804 - mae: 10.5557 - mse: 201.1332 - val_loss: 1.0874 - val_mae: 1.4617 - val_mse: 12.3019 - learning_rate: 0.0010\n",
            "Epoch 14/100\n",
            "\u001b[1m93/93\u001b[0m \u001b[32m━━━━━━━━━━━━━━━━━━━━\u001b[0m\u001b[37m\u001b[0m \u001b[1m7s\u001b[0m 79ms/step - loss: 10.2689 - mae: 10.7426 - mse: 207.8718 - val_loss: 1.0354 - val_mae: 1.4542 - val_mse: 13.6532 - learning_rate: 0.0010\n",
            "Epoch 15/100\n",
            "\u001b[1m93/93\u001b[0m \u001b[32m━━━━━━━━━━━━━━━━━━━━\u001b[0m\u001b[37m\u001b[0m \u001b[1m10s\u001b[0m 81ms/step - loss: 10.1053 - mae: 10.5807 - mse: 201.7858 - val_loss: 1.5867 - val_mae: 2.0045 - val_mse: 15.3520 - learning_rate: 0.0010\n",
            "Epoch 16/100\n",
            "\u001b[1m93/93\u001b[0m \u001b[32m━━━━━━━━━━━━━━━━━━━━\u001b[0m\u001b[37m\u001b[0m \u001b[1m8s\u001b[0m 82ms/step - loss: 10.0079 - mae: 10.4818 - mse: 200.7094 - val_loss: 0.7162 - val_mae: 1.0020 - val_mse: 12.2149 - learning_rate: 0.0010\n",
            "Epoch 17/100\n",
            "\u001b[1m93/93\u001b[0m \u001b[32m━━━━━━━━━━━━━━━━━━━━\u001b[0m\u001b[37m\u001b[0m \u001b[1m10s\u001b[0m 81ms/step - loss: 9.7658 - mae: 10.2370 - mse: 194.1797 - val_loss: 0.7409 - val_mae: 1.0397 - val_mse: 12.4731 - learning_rate: 0.0010\n",
            "Epoch 18/100\n",
            "\u001b[1m93/93\u001b[0m \u001b[32m━━━━━━━━━━━━━━━━━━━━\u001b[0m\u001b[37m\u001b[0m \u001b[1m10s\u001b[0m 80ms/step - loss: 9.9473 - mae: 10.4203 - mse: 200.6442 - val_loss: 0.7939 - val_mae: 1.1322 - val_mse: 12.3238 - learning_rate: 0.0010\n",
            "Epoch 19/100\n",
            "\u001b[1m93/93\u001b[0m \u001b[32m━━━━━━━━━━━━━━━━━━━━\u001b[0m\u001b[37m\u001b[0m \u001b[1m8s\u001b[0m 81ms/step - loss: 10.0038 - mae: 10.4789 - mse: 197.5787 - val_loss: 3.9544 - val_mae: 4.4332 - val_mse: 36.9793 - learning_rate: 0.0010\n",
            "Epoch 20/100\n",
            "\u001b[1m93/93\u001b[0m \u001b[32m━━━━━━━━━━━━━━━━━━━━\u001b[0m\u001b[37m\u001b[0m \u001b[1m10s\u001b[0m 81ms/step - loss: 10.2933 - mae: 10.7651 - mse: 208.5740 - val_loss: 3.2814 - val_mae: 3.7527 - val_mse: 29.0306 - learning_rate: 0.0010\n",
            "Epoch 21/100\n",
            "\u001b[1m93/93\u001b[0m \u001b[32m━━━━━━━━━━━━━━━━━━━━\u001b[0m\u001b[37m\u001b[0m \u001b[1m10s\u001b[0m 81ms/step - loss: 9.9988 - mae: 10.4737 - mse: 202.3756 - val_loss: 2.1810 - val_mae: 2.6170 - val_mse: 19.9684 - learning_rate: 0.0010\n",
            "Epoch 22/100\n",
            "\u001b[1m93/93\u001b[0m \u001b[32m━━━━━━━━━━━━━━━━━━━━\u001b[0m\u001b[37m\u001b[0m \u001b[1m8s\u001b[0m 81ms/step - loss: 9.8107 - mae: 10.2863 - mse: 197.3491 - val_loss: 0.9922 - val_mae: 1.3254 - val_mse: 12.9183 - learning_rate: 5.0000e-04\n",
            "Epoch 23/100\n",
            "\u001b[1m93/93\u001b[0m \u001b[32m━━━━━━━━━━━━━━━━━━━━\u001b[0m\u001b[37m\u001b[0m \u001b[1m10s\u001b[0m 81ms/step - loss: 9.4463 - mae: 9.9142 - mse: 186.0202 - val_loss: 1.6471 - val_mae: 2.0531 - val_mse: 16.7200 - learning_rate: 5.0000e-04\n",
            "Epoch 24/100\n",
            "\u001b[1m93/93\u001b[0m \u001b[32m━━━━━━━━━━━━━━━━━━━━\u001b[0m\u001b[37m\u001b[0m \u001b[1m8s\u001b[0m 81ms/step - loss: 9.7221 - mae: 10.1925 - mse: 194.0806 - val_loss: 0.6411 - val_mae: 0.9074 - val_mse: 12.6120 - learning_rate: 5.0000e-04\n",
            "Epoch 25/100\n",
            "\u001b[1m93/93\u001b[0m \u001b[32m━━━━━━━━━━━━━━━━━━━━\u001b[0m\u001b[37m\u001b[0m \u001b[1m10s\u001b[0m 81ms/step - loss: 9.7766 - mae: 10.2476 - mse: 197.7303 - val_loss: 0.7036 - val_mae: 1.0132 - val_mse: 12.6176 - learning_rate: 5.0000e-04\n",
            "Epoch 26/100\n",
            "\u001b[1m93/93\u001b[0m \u001b[32m━━━━━━━━━━━━━━━━━━━━\u001b[0m\u001b[37m\u001b[0m \u001b[1m10s\u001b[0m 81ms/step - loss: 9.8906 - mae: 10.3633 - mse: 198.3886 - val_loss: 0.6847 - val_mae: 0.9603 - val_mse: 12.0538 - learning_rate: 5.0000e-04\n",
            "Epoch 27/100\n",
            "\u001b[1m93/93\u001b[0m \u001b[32m━━━━━━━━━━━━━━━━━━━━\u001b[0m\u001b[37m\u001b[0m \u001b[1m8s\u001b[0m 83ms/step - loss: 9.6185 - mae: 10.0892 - mse: 191.5788 - val_loss: 0.6213 - val_mae: 0.8665 - val_mse: 12.6355 - learning_rate: 5.0000e-04\n",
            "Epoch 28/100\n",
            "\u001b[1m93/93\u001b[0m \u001b[32m━━━━━━━━━━━━━━━━━━━━\u001b[0m\u001b[37m\u001b[0m \u001b[1m8s\u001b[0m 83ms/step - loss: 9.5178 - mae: 9.9880 - mse: 189.6935 - val_loss: 0.6164 - val_mae: 0.8577 - val_mse: 12.6380 - learning_rate: 5.0000e-04\n",
            "Epoch 29/100\n",
            "\u001b[1m93/93\u001b[0m \u001b[32m━━━━━━━━━━━━━━━━━━━━\u001b[0m\u001b[37m\u001b[0m \u001b[1m8s\u001b[0m 81ms/step - loss: 9.6072 - mae: 10.0766 - mse: 191.0755 - val_loss: 0.7416 - val_mae: 1.1014 - val_mse: 12.7515 - learning_rate: 5.0000e-04\n",
            "Epoch 30/100\n",
            "\u001b[1m93/93\u001b[0m \u001b[32m━━━━━━━━━━━━━━━━━━━━\u001b[0m\u001b[37m\u001b[0m \u001b[1m10s\u001b[0m 81ms/step - loss: 9.6820 - mae: 10.1499 - mse: 196.1038 - val_loss: 0.6872 - val_mae: 1.0009 - val_mse: 12.6866 - learning_rate: 5.0000e-04\n",
            "Epoch 31/100\n",
            "\u001b[1m93/93\u001b[0m \u001b[32m━━━━━━━━━━━━━━━━━━━━\u001b[0m\u001b[37m\u001b[0m \u001b[1m7s\u001b[0m 80ms/step - loss: 9.8169 - mae: 10.2886 - mse: 198.5664 - val_loss: 0.6529 - val_mae: 0.9369 - val_mse: 12.6396 - learning_rate: 5.0000e-04\n",
            "Epoch 32/100\n",
            "\u001b[1m93/93\u001b[0m \u001b[32m━━━━━━━━━━━━━━━━━━━━\u001b[0m\u001b[37m\u001b[0m \u001b[1m7s\u001b[0m 80ms/step - loss: 9.6820 - mae: 10.1524 - mse: 191.7511 - val_loss: 0.9440 - val_mae: 1.2912 - val_mse: 12.8458 - learning_rate: 5.0000e-04\n",
            "Epoch 33/100\n",
            "\u001b[1m93/93\u001b[0m \u001b[32m━━━━━━━━━━━━━━━━━━━━\u001b[0m\u001b[37m\u001b[0m \u001b[1m7s\u001b[0m 80ms/step - loss: 9.5516 - mae: 10.0231 - mse: 188.9976 - val_loss: 0.7614 - val_mae: 1.0295 - val_mse: 12.1649 - learning_rate: 5.0000e-04\n",
            "Epoch 34/100\n",
            "\u001b[1m93/93\u001b[0m \u001b[32m━━━━━━━━━━━━━━━━━━━━\u001b[0m\u001b[37m\u001b[0m \u001b[1m8s\u001b[0m 81ms/step - loss: 9.8633 - mae: 10.3328 - mse: 202.2516 - val_loss: 0.6118 - val_mae: 0.8634 - val_mse: 11.8887 - learning_rate: 2.5000e-04\n",
            "Epoch 35/100\n",
            "\u001b[1m93/93\u001b[0m \u001b[32m━━━━━━━━━━━━━━━━━━━━\u001b[0m\u001b[37m\u001b[0m \u001b[1m8s\u001b[0m 83ms/step - loss: 9.7145 - mae: 10.1837 - mse: 194.4555 - val_loss: 0.6082 - val_mae: 0.8486 - val_mse: 12.4734 - learning_rate: 2.5000e-04\n",
            "Epoch 36/100\n",
            "\u001b[1m93/93\u001b[0m \u001b[32m━━━━━━━━━━━━━━━━━━━━\u001b[0m\u001b[37m\u001b[0m \u001b[1m10s\u001b[0m 80ms/step - loss: 9.5127 - mae: 9.9824 - mse: 189.3899 - val_loss: 0.8090 - val_mae: 1.1052 - val_mse: 12.5453 - learning_rate: 2.5000e-04\n",
            "Epoch 37/100\n",
            "\u001b[1m93/93\u001b[0m \u001b[32m━━━━━━━━━━━━━━━━━━━━\u001b[0m\u001b[37m\u001b[0m \u001b[1m8s\u001b[0m 83ms/step - loss: 9.6678 - mae: 10.1363 - mse: 195.8942 - val_loss: 0.7276 - val_mae: 1.0745 - val_mse: 12.6506 - learning_rate: 2.5000e-04\n",
            "Epoch 38/100\n",
            "\u001b[1m93/93\u001b[0m \u001b[32m━━━━━━━━━━━━━━━━━━━━\u001b[0m\u001b[37m\u001b[0m \u001b[1m8s\u001b[0m 81ms/step - loss: 9.5315 - mae: 10.0023 - mse: 190.1521 - val_loss: 2.2815 - val_mae: 2.7289 - val_mse: 20.4770 - learning_rate: 2.5000e-04\n",
            "Epoch 39/100\n",
            "\u001b[1m93/93\u001b[0m \u001b[32m━━━━━━━━━━━━━━━━━━━━\u001b[0m\u001b[37m\u001b[0m \u001b[1m10s\u001b[0m 80ms/step - loss: 9.5290 - mae: 9.9973 - mse: 191.4135 - val_loss: 0.6684 - val_mae: 0.9268 - val_mse: 11.9188 - learning_rate: 2.5000e-04\n",
            "Epoch 40/100\n",
            "\u001b[1m93/93\u001b[0m \u001b[32m━━━━━━━━━━━━━━━━━━━━\u001b[0m\u001b[37m\u001b[0m \u001b[1m7s\u001b[0m 80ms/step - loss: 9.5679 - mae: 10.0382 - mse: 191.7450 - val_loss: 0.6584 - val_mae: 0.9444 - val_mse: 12.6092 - learning_rate: 2.5000e-04\n",
            "Epoch 41/100\n",
            "\u001b[1m93/93\u001b[0m \u001b[32m━━━━━━━━━━━━━━━━━━━━\u001b[0m\u001b[37m\u001b[0m \u001b[1m10s\u001b[0m 81ms/step - loss: 9.3767 - mae: 9.8445 - mse: 185.7936 - val_loss: 0.6383 - val_mae: 0.9081 - val_mse: 12.5101 - learning_rate: 1.2500e-04\n",
            "Epoch 42/100\n",
            "\u001b[1m93/93\u001b[0m \u001b[32m━━━━━━━━━━━━━━━━━━━━\u001b[0m\u001b[37m\u001b[0m \u001b[1m7s\u001b[0m 80ms/step - loss: 9.5655 - mae: 10.0349 - mse: 192.4534 - val_loss: 0.6102 - val_mae: 0.8587 - val_mse: 12.4518 - learning_rate: 1.2500e-04\n",
            "Epoch 43/100\n",
            "\u001b[1m93/93\u001b[0m \u001b[32m━━━━━━━━━━━━━━━━━━━━\u001b[0m\u001b[37m\u001b[0m \u001b[1m8s\u001b[0m 81ms/step - loss: 9.4777 - mae: 9.9456 - mse: 190.9541 - val_loss: 0.7045 - val_mae: 0.9703 - val_mse: 12.0218 - learning_rate: 1.2500e-04\n",
            "Epoch 44/100\n",
            "\u001b[1m93/93\u001b[0m \u001b[32m━━━━━━━━━━━━━━━━━━━━\u001b[0m\u001b[37m\u001b[0m \u001b[1m8s\u001b[0m 82ms/step - loss: 9.5008 - mae: 9.9712 - mse: 190.2454 - val_loss: 0.5855 - val_mae: 0.8324 - val_mse: 11.9276 - learning_rate: 1.2500e-04\n",
            "Epoch 45/100\n",
            "\u001b[1m93/93\u001b[0m \u001b[32m━━━━━━━━━━━━━━━━━━━━\u001b[0m\u001b[37m\u001b[0m \u001b[1m8s\u001b[0m 82ms/step - loss: 9.6874 - mae: 10.1577 - mse: 196.1962 - val_loss: 0.5689 - val_mae: 0.8058 - val_mse: 11.9208 - learning_rate: 1.2500e-04\n",
            "Epoch 46/100\n",
            "\u001b[1m93/93\u001b[0m \u001b[32m━━━━━━━━━━━━━━━━━━━━\u001b[0m\u001b[37m\u001b[0m \u001b[1m10s\u001b[0m 81ms/step - loss: 9.5140 - mae: 9.9851 - mse: 191.1972 - val_loss: 1.1648 - val_mae: 1.5040 - val_mse: 14.4752 - learning_rate: 1.2500e-04\n",
            "Epoch 47/100\n",
            "\u001b[1m93/93\u001b[0m \u001b[32m━━━━━━━━━━━━━━━━━━━━\u001b[0m\u001b[37m\u001b[0m \u001b[1m10s\u001b[0m 82ms/step - loss: 9.5808 - mae: 10.0505 - mse: 194.6581 - val_loss: 0.7902 - val_mae: 1.0715 - val_mse: 12.3136 - learning_rate: 1.2500e-04\n",
            "Epoch 48/100\n",
            "\u001b[1m93/93\u001b[0m \u001b[32m━━━━━━━━━━━━━━━━━━━━\u001b[0m\u001b[37m\u001b[0m \u001b[1m7s\u001b[0m 80ms/step - loss: 9.4900 - mae: 9.9591 - mse: 190.6228 - val_loss: 0.5709 - val_mae: 0.8065 - val_mse: 11.8233 - learning_rate: 1.2500e-04\n",
            "Epoch 49/100\n",
            "\u001b[1m93/93\u001b[0m \u001b[32m━━━━━━━━━━━━━━━━━━━━\u001b[0m\u001b[37m\u001b[0m \u001b[1m8s\u001b[0m 81ms/step - loss: 9.4767 - mae: 9.9495 - mse: 190.7648 - val_loss: 0.6079 - val_mae: 0.8608 - val_mse: 12.2223 - learning_rate: 1.2500e-04\n",
            "Epoch 50/100\n",
            "\u001b[1m93/93\u001b[0m \u001b[32m━━━━━━━━━━━━━━━━━━━━\u001b[0m\u001b[37m\u001b[0m \u001b[1m10s\u001b[0m 82ms/step - loss: 9.4755 - mae: 9.9439 - mse: 189.2587 - val_loss: 0.5741 - val_mae: 0.8145 - val_mse: 11.9057 - learning_rate: 1.2500e-04\n",
            "Epoch 51/100\n",
            "\u001b[1m93/93\u001b[0m \u001b[32m━━━━━━━━━━━━━━━━━━━━\u001b[0m\u001b[37m\u001b[0m \u001b[1m10s\u001b[0m 82ms/step - loss: 9.3845 - mae: 9.8532 - mse: 187.7459 - val_loss: 0.5720 - val_mae: 0.8046 - val_mse: 11.8839 - learning_rate: 6.2500e-05\n",
            "Epoch 52/100\n",
            "\u001b[1m93/93\u001b[0m \u001b[32m━━━━━━━━━━━━━━━━━━━━\u001b[0m\u001b[37m\u001b[0m \u001b[1m8s\u001b[0m 81ms/step - loss: 9.3167 - mae: 9.7866 - mse: 185.7766 - val_loss: 0.6005 - val_mae: 0.8408 - val_mse: 12.3905 - learning_rate: 6.2500e-05\n",
            "Epoch 53/100\n",
            "\u001b[1m93/93\u001b[0m \u001b[32m━━━━━━━━━━━━━━━━━━━━\u001b[0m\u001b[37m\u001b[0m \u001b[1m8s\u001b[0m 82ms/step - loss: 9.2630 - mae: 9.7304 - mse: 182.4384 - val_loss: 0.6199 - val_mae: 0.8798 - val_mse: 12.3522 - learning_rate: 6.2500e-05\n",
            "Epoch 54/100\n",
            "\u001b[1m93/93\u001b[0m \u001b[32m━━━━━━━━━━━━━━━━━━━━\u001b[0m\u001b[37m\u001b[0m \u001b[1m7s\u001b[0m 80ms/step - loss: 9.3262 - mae: 9.7977 - mse: 185.4042 - val_loss: 0.5884 - val_mae: 0.8245 - val_mse: 12.1736 - learning_rate: 6.2500e-05\n",
            "Epoch 55/100\n",
            "\u001b[1m93/93\u001b[0m \u001b[32m━━━━━━━━━━━━━━━━━━━━\u001b[0m\u001b[37m\u001b[0m \u001b[1m10s\u001b[0m 81ms/step - loss: 9.3595 - mae: 9.8284 - mse: 187.6451 - val_loss: 0.6510 - val_mae: 0.9112 - val_mse: 11.9545 - learning_rate: 6.2500e-05\n",
            "Epoch 56/100\n",
            "\u001b[1m93/93\u001b[0m \u001b[32m━━━━━━━━━━━━━━━━━━━━\u001b[0m\u001b[37m\u001b[0m \u001b[1m8s\u001b[0m 82ms/step - loss: 9.4159 - mae: 9.8838 - mse: 189.0996 - val_loss: 0.7076 - val_mae: 0.9799 - val_mse: 12.1598 - learning_rate: 6.2500e-05\n",
            "Epoch 57/100\n",
            "\u001b[1m93/93\u001b[0m \u001b[32m━━━━━━━━━━━━━━━━━━━━\u001b[0m\u001b[37m\u001b[0m \u001b[1m8s\u001b[0m 81ms/step - loss: 9.4440 - mae: 9.9116 - mse: 189.1501 - val_loss: 0.5760 - val_mae: 0.8192 - val_mse: 11.8986 - learning_rate: 3.1250e-05\n",
            "Epoch 58/100\n",
            "\u001b[1m93/93\u001b[0m \u001b[32m━━━━━━━━━━━━━━━━━━━━\u001b[0m\u001b[37m\u001b[0m \u001b[1m10s\u001b[0m 81ms/step - loss: 9.5821 - mae: 10.0532 - mse: 195.0085 - val_loss: 0.5765 - val_mae: 0.8203 - val_mse: 11.8927 - learning_rate: 3.1250e-05\n",
            "Epoch 59/100\n",
            "\u001b[1m93/93\u001b[0m \u001b[32m━━━━━━━━━━━━━━━━━━━━\u001b[0m\u001b[37m\u001b[0m \u001b[1m10s\u001b[0m 82ms/step - loss: 9.3499 - mae: 9.8174 - mse: 187.6041 - val_loss: 0.5861 - val_mae: 0.8270 - val_mse: 12.0489 - learning_rate: 3.1250e-05\n",
            "Epoch 60/100\n",
            "\u001b[1m93/93\u001b[0m \u001b[32m━━━━━━━━━━━━━━━━━━━━\u001b[0m\u001b[37m\u001b[0m \u001b[1m8s\u001b[0m 82ms/step - loss: 9.2730 - mae: 9.7402 - mse: 185.4635 - val_loss: 0.5659 - val_mae: 0.8021 - val_mse: 11.9064 - learning_rate: 3.1250e-05\n",
            "Epoch 61/100\n",
            "\u001b[1m93/93\u001b[0m \u001b[32m━━━━━━━━━━━━━━━━━━━━\u001b[0m\u001b[37m\u001b[0m \u001b[1m10s\u001b[0m 81ms/step - loss: 9.3585 - mae: 9.8267 - mse: 186.1794 - val_loss: 0.5713 - val_mae: 0.8111 - val_mse: 11.8705 - learning_rate: 3.1250e-05\n",
            "Epoch 62/100\n",
            "\u001b[1m93/93\u001b[0m \u001b[32m━━━━━━━━━━━━━━━━━━━━\u001b[0m\u001b[37m\u001b[0m \u001b[1m8s\u001b[0m 82ms/step - loss: 9.6315 - mae: 10.0979 - mse: 196.4431 - val_loss: 0.5769 - val_mae: 0.8183 - val_mse: 11.9078 - learning_rate: 3.1250e-05\n",
            "Epoch 63/100\n",
            "\u001b[1m93/93\u001b[0m \u001b[32m━━━━━━━━━━━━━━━━━━━━\u001b[0m\u001b[37m\u001b[0m \u001b[1m10s\u001b[0m 81ms/step - loss: 9.5983 - mae: 10.0713 - mse: 192.8677 - val_loss: 0.5749 - val_mae: 0.8132 - val_mse: 11.9074 - learning_rate: 3.1250e-05\n",
            "Epoch 64/100\n",
            "\u001b[1m93/93\u001b[0m \u001b[32m━━━━━━━━━━━━━━━━━━━━\u001b[0m\u001b[37m\u001b[0m \u001b[1m10s\u001b[0m 81ms/step - loss: 9.3574 - mae: 9.8242 - mse: 185.5142 - val_loss: 0.5854 - val_mae: 0.8256 - val_mse: 12.0697 - learning_rate: 3.1250e-05\n",
            "Epoch 65/100\n",
            "\u001b[1m93/93\u001b[0m \u001b[32m━━━━━━━━━━━━━━━━━━━━\u001b[0m\u001b[37m\u001b[0m \u001b[1m10s\u001b[0m 81ms/step - loss: 9.3817 - mae: 9.8515 - mse: 188.5494 - val_loss: 0.6041 - val_mae: 0.8548 - val_mse: 12.2471 - learning_rate: 3.1250e-05\n",
            "Epoch 66/100\n",
            "\u001b[1m93/93\u001b[0m \u001b[32m━━━━━━━━━━━━━━━━━━━━\u001b[0m\u001b[37m\u001b[0m \u001b[1m8s\u001b[0m 81ms/step - loss: 9.3756 - mae: 9.8475 - mse: 186.1056 - val_loss: 0.5887 - val_mae: 0.8323 - val_mse: 12.0661 - learning_rate: 1.5625e-05\n",
            "Epoch 67/100\n",
            "\u001b[1m93/93\u001b[0m \u001b[32m━━━━━━━━━━━━━━━━━━━━\u001b[0m\u001b[37m\u001b[0m \u001b[1m10s\u001b[0m 82ms/step - loss: 9.3252 - mae: 9.7967 - mse: 184.5864 - val_loss: 0.5796 - val_mae: 0.8204 - val_mse: 11.9443 - learning_rate: 1.5625e-05\n",
            "Epoch 68/100\n",
            "\u001b[1m93/93\u001b[0m \u001b[32m━━━━━━━━━━━━━━━━━━━━\u001b[0m\u001b[37m\u001b[0m \u001b[1m8s\u001b[0m 80ms/step - loss: 9.5496 - mae: 10.0221 - mse: 193.3658 - val_loss: 0.5858 - val_mae: 0.8296 - val_mse: 12.0008 - learning_rate: 1.5625e-05\n",
            "Epoch 69/100\n",
            "\u001b[1m93/93\u001b[0m \u001b[32m━━━━━━━━━━━━━━━━━━━━\u001b[0m\u001b[37m\u001b[0m \u001b[1m10s\u001b[0m 81ms/step - loss: 9.5878 - mae: 10.0557 - mse: 193.6085 - val_loss: 0.5808 - val_mae: 0.8221 - val_mse: 11.9466 - learning_rate: 1.5625e-05\n",
            "Epoch 70/100\n",
            "\u001b[1m93/93\u001b[0m \u001b[32m━━━━━━━━━━━━━━━━━━━━\u001b[0m\u001b[37m\u001b[0m \u001b[1m10s\u001b[0m 81ms/step - loss: 9.1601 - mae: 9.6300 - mse: 181.6057 - val_loss: 0.5782 - val_mae: 0.8178 - val_mse: 11.9350 - learning_rate: 1.5625e-05\n",
            "Epoch 71/100\n",
            "\u001b[1m93/93\u001b[0m \u001b[32m━━━━━━━━━━━━━━━━━━━━\u001b[0m\u001b[37m\u001b[0m \u001b[1m10s\u001b[0m 81ms/step - loss: 9.2813 - mae: 9.7506 - mse: 182.8968 - val_loss: 0.5755 - val_mae: 0.8140 - val_mse: 11.9134 - learning_rate: 7.8125e-06\n",
            "Epoch 72/100\n",
            "\u001b[1m93/93\u001b[0m \u001b[32m━━━━━━━━━━━━━━━━━━━━\u001b[0m\u001b[37m\u001b[0m \u001b[1m10s\u001b[0m 81ms/step - loss: 9.6341 - mae: 10.1015 - mse: 195.4982 - val_loss: 0.5736 - val_mae: 0.8116 - val_mse: 11.9035 - learning_rate: 7.8125e-06\n",
            "Epoch 73/100\n",
            "\u001b[1m93/93\u001b[0m \u001b[32m━━━━━━━━━━━━━━━━━━━━\u001b[0m\u001b[37m\u001b[0m \u001b[1m8s\u001b[0m 81ms/step - loss: 9.2939 - mae: 9.7623 - mse: 186.5256 - val_loss: 0.5713 - val_mae: 0.8089 - val_mse: 11.8912 - learning_rate: 7.8125e-06\n",
            "Epoch 74/100\n",
            "\u001b[1m93/93\u001b[0m \u001b[32m━━━━━━━━━━━━━━━━━━━━\u001b[0m\u001b[37m\u001b[0m \u001b[1m10s\u001b[0m 81ms/step - loss: 9.3474 - mae: 9.8186 - mse: 186.1884 - val_loss: 0.5703 - val_mae: 0.8072 - val_mse: 11.8895 - learning_rate: 7.8125e-06\n",
            "Epoch 75/100\n",
            "\u001b[1m93/93\u001b[0m \u001b[32m━━━━━━━━━━━━━━━━━━━━\u001b[0m\u001b[37m\u001b[0m \u001b[1m7s\u001b[0m 80ms/step - loss: 9.4542 - mae: 9.9242 - mse: 188.7689 - val_loss: 0.5701 - val_mae: 0.8072 - val_mse: 11.8865 - learning_rate: 7.8125e-06\n"
          ]
        }
      ],
      "source": [
        "\n",
        "# ------------------- Callbacks -------------------\n",
        "callbacks = [\n",
        "    tf.keras.callbacks.EarlyStopping(monitor='val_mae', patience=15, restore_best_weights=True, mode='min'),\n",
        "    tf.keras.callbacks.ReduceLROnPlateau(monitor='val_mae', factor=0.5, patience=5, min_lr=1e-6, mode='min'),\n",
        "    tf.keras.callbacks.ModelCheckpoint(filepath='augmented_ranges_huber_data.keras', monitor='val_mae', save_best_only=True, mode='min')\n",
        "]\n",
        "\n",
        "# ------------------- Entrenamiento -------------------\n",
        "history = model.fit(\n",
        "    [X_raw_train, X_wavelets_train],\n",
        "    y_train,\n",
        "    validation_data=([X_raw_val, X_wavelets_val], y_val),\n",
        "    epochs=100,\n",
        "    batch_size=64,\n",
        "    callbacks=callbacks,\n",
        "    verbose=1\n",
        ")"
      ]
    },
    {
      "cell_type": "code",
      "execution_count": 17,
      "id": "CdqvkcYozGdB",
      "metadata": {
        "colab": {
          "base_uri": "https://localhost:8080/"
        },
        "id": "CdqvkcYozGdB",
        "outputId": "629b3807-2f27-4a78-cc23-1482d314cea9"
      },
      "outputs": [
        {
          "name": "stdout",
          "output_type": "stream",
          "text": [
            "Realizando predicciones en conjunto de prueba...\n",
            "\u001b[1m16/16\u001b[0m \u001b[32m━━━━━━━━━━━━━━━━━━━━\u001b[0m\u001b[37m\u001b[0m \u001b[1m2s\u001b[0m 57ms/step\n"
          ]
        }
      ],
      "source": [
        "# ------------------- Evaluación -------------------\n",
        "print('Realizando predicciones en conjunto de prueba...')\n",
        "y_pred = model.predict([X_raw_test, X_wavelets_test])\n",
        "\n",
        "# Guardar resultados\n",
        "results_df = pd.DataFrame({\n",
        "    'file': test_files['file'],\n",
        "    'real_time': y_test,\n",
        "    'predicted_time': y_pred.flatten(),\n",
        "    'error': y_pred.flatten() - y_test\n",
        "})\n",
        "results_df['abs_error'] = np.abs(results_df['error'])\n",
        "results_df = results_df.sort_values('abs_error', ascending=False)\n",
        "\n",
        "results_df.to_csv(os.path.join(features_path, 'augmented_ranges_huber_data.csv'), index=False)"
      ]
    },
    {
      "cell_type": "code",
      "execution_count": 18,
      "id": "GOzKEaf3zM-J",
      "metadata": {
        "colab": {
          "base_uri": "https://localhost:8080/"
        },
        "id": "GOzKEaf3zM-J",
        "outputId": "f8d5aa1d-bca1-4fe0-a1d8-05026adc843a"
      },
      "outputs": [
        {
          "name": "stdout",
          "output_type": "stream",
          "text": [
            "\n",
            "Métricas de rendimiento en conjunto de prueba:\n",
            "MAE: 0.6786 segundos\n",
            "RMSE: 2.8132 segundos\n",
            "Máximo error: 30.4912 segundos\n"
          ]
        }
      ],
      "source": [
        "# ------------------- Métricas Finales -------------------\n",
        "print('\\nMétricas de rendimiento en conjunto de prueba:')\n",
        "mae = np.mean(np.abs(results_df['error']))\n",
        "rmse = np.sqrt(np.mean(results_df['error']**2))\n",
        "max_error = np.max(results_df['abs_error'])\n",
        "\n",
        "print(f'MAE: {mae:.4f} segundos')\n",
        "print(f'RMSE: {rmse:.4f} segundos')\n",
        "print(f'Máximo error: {max_error:.4f} segundos')"
      ]
    },
    {
      "cell_type": "code",
      "execution_count": 19,
      "id": "oxDKSv4zzPhS",
      "metadata": {
        "colab": {
          "base_uri": "https://localhost:8080/",
          "height": 649
        },
        "id": "oxDKSv4zzPhS",
        "outputId": "e1958b1f-f94e-408a-d38a-d55d5e8f2c20"
      },
      "outputs": [
        {
          "data": {
            "image/png": "[encoded data removed]",
            "text/plain": [
              "<Figure size 1200x500 with 2 Axes>"
            ]
          },
          "metadata": {},
          "output_type": "display_data"
        },
        {
          "name": "stdout",
          "output_type": "stream",
          "text": [
            "\n",
            "Estadísticas de errores:\n",
            "Error medio: 0.1754 segundos\n",
            "Desviación estándar: 2.8077 segundos\n",
            "Mediana del error: -0.0529 segundos\n",
            "Error dentro de ±0.5s: 85.3%\n",
            "Error dentro de ±1.0s: 95.8%\n"
          ]
        }
      ],
      "source": [
        "# ------------------- Visualización -------------------\n",
        "errors = y_pred.flatten() - y_test\n",
        "\n",
        "plt.figure(figsize=(12, 5))\n",
        "\n",
        "# Histograma de errores\n",
        "plt.subplot(1, 2, 1)\n",
        "plt.hist(errors, bins=50, edgecolor='black')\n",
        "plt.title('Distribución de errores')\n",
        "plt.xlabel('Error (segundos)')\n",
        "plt.ylabel('Frecuencia')\n",
        "plt.axvline(x=0, color='r', linestyle='--', label='Error cero')\n",
        "plt.legend()\n",
        "\n",
        "# Scatter plot\n",
        "plt.subplot(1, 2, 2)\n",
        "plt.scatter(y_test, y_pred.flatten(), alpha=0.5)\n",
        "plt.plot([y_test.min(), y_test.max()], [y_test.min(), y_test.max()], 'r--')\n",
        "plt.xlabel('Tiempo real (s)')\n",
        "plt.ylabel('Tiempo predicho (s)')\n",
        "plt.title('Predicción vs Real')\n",
        "\n",
        "plt.tight_layout()\n",
        "plt.show()\n",
        "\n",
        "# Estadísticas adicionales\n",
        "print('\\nEstadísticas de errores:')\n",
        "print(f'Error medio: {np.mean(errors):.4f} segundos')\n",
        "print(f'Desviación estándar: {np.std(errors):.4f} segundos')\n",
        "print(f'Mediana del error: {np.median(errors):.4f} segundos')\n",
        "print(f'Error dentro de ±0.5s: {100*np.mean(np.abs(errors) < 0.5):.1f}%')\n",
        "print(f'Error dentro de ±1.0s: {100*np.mean(np.abs(errors) < 1.0):.1f}%')"
      ]
    },
    {
      "cell_type": "code",
      "execution_count": 24,
      "id": "Pcyad1pYLzjr",
      "metadata": {
        "colab": {
          "base_uri": "https://localhost:8080/"
        },
        "id": "Pcyad1pYLzjr",
        "outputId": "5e477dbd-9841-4a37-c693-9a4eddb2f1ab"
      },
      "outputs": [
        {
          "name": "stdout",
          "output_type": "stream",
          "text": [
            "Precisión con tolerancia ±20ms: 5.24%\n",
            "Precisión con tolerancia ±50ms: 12.10%\n",
            "Precisión con tolerancia ±100ms: 19.76%\n",
            "Precisión con tolerancia ±200ms: 39.52%\n",
            "Precisión con tolerancia ±500ms: 85.28%\n"
          ]
        }
      ],
      "source": [
        "def precision_con_tolerancia(y_true, y_pred, tolerancia_ms, sample_rate=1):\n",
        "    # Convertimos la tolerancia de milisegundos a muestras\n",
        "    tolerancia_muestras = int((tolerancia_ms / 1000) * sample_rate)\n",
        "\n",
        "    y_true = np.array(y_true)\n",
        "    y_pred = np.array(y_pred)\n",
        "\n",
        "    # True Positives: predicciones dentro de la ventana de tolerancia\n",
        "    tp = np.sum(np.abs(y_true - y_pred) <= tolerancia_muestras)\n",
        "\n",
        "    # False Positives: predicciones fuera de la ventana (pero que predijeron algo)\n",
        "    fp = np.sum(np.abs(y_true - y_pred) > tolerancia_muestras)\n",
        "\n",
        "    precision = tp / (tp + fp + 1e-10)  # para evitar división por cero\n",
        "    return precision\n",
        "\n",
        "# Asume que y_test e y_pred están en segundos\n",
        "# Define tolerancias de ejemplo\n",
        "tolerancias_ms = [20, 50, 100, 200, 500, 1000]  # puedes ajustar según tu aplicación\n",
        "\n",
        "for tol in tolerancias_ms:\n",
        "    prec = precision_con_tolerancia(\n",
        "        y_true=y_test * 1000,       # convertir a ms\n",
        "        y_pred=y_pred.flatten() * 1000,  # convertir a ms\n",
        "        tolerancia_ms=tol,\n",
        "        sample_rate=1000  # 1000 muestras por segundo\n",
        "    )\n",
        "    print(f\"Precisión con tolerancia ±{tol}ms: {prec*100:.2f}%\")\n",
        "\n"
      ]
    }
  ],
  "metadata": {
    "accelerator": "GPU",
    "colab": {
      "gpuType": "T4",
      "provenance": []
    },
    "kernelspec": {
      "display_name": "Python 3",
      "name": "python3"
    },
    "language_info": {
      "codemirror_mode": {
        "name": "ipython",
        "version": 3
      },
      "file_extension": ".py",
      "mimetype": "text/x-python",
      "name": "python",
      "nbconvert_exporter": "python",
      "pygments_lexer": "ipython3",
      "version": "3.12.10"
    }
  },
  "nbformat": 4,
  "nbformat_minor": 5
}
